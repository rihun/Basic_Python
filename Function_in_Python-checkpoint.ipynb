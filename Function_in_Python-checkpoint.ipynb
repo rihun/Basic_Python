{
 "cells": [
  {
   "cell_type": "code",
   "execution_count": 5,
   "metadata": {},
   "outputs": [
    {
     "name": "stdout",
     "output_type": "stream",
     "text": [
      "5\n"
     ]
    }
   ],
   "source": [
    "#How function work in Python\n",
    "#add two numbers a and b and return the summ value.\n",
    "def add(a,b):\n",
    "    c=a+b\n",
    "    return c\n",
    "\n",
    "n1=2\n",
    "n2=3\n",
    "n3=add(2,3)    \n",
    "print(n3)"
   ]
  },
  {
   "cell_type": "code",
   "execution_count": 13,
   "metadata": {},
   "outputs": [
    {
     "name": "stdout",
     "output_type": "stream",
     "text": [
      "the value of 20\n",
      "the value of 40\n",
      "the value of 100\n",
      "the value of 200\n"
     ]
    }
   ],
   "source": [
    "#a function for printing different lines\n",
    "def myprint(x):\n",
    "    print('the value of', x)\n",
    "    print('the value of', 2*x)\n",
    "x=20\n",
    "myprint(20)\n",
    "myprint(100)    "
   ]
  },
  {
   "cell_type": "code",
   "execution_count": 18,
   "metadata": {},
   "outputs": [
    {
     "name": "stdout",
     "output_type": "stream",
     "text": [
      "1\n",
      "2\n",
      "3\n",
      "4\n",
      "5\n"
     ]
    }
   ],
   "source": [
    "#print all the value pf a ;ist\n",
    "\n",
    "def list_print(x):\n",
    "    for i in x:\n",
    "     print(i)\n",
    "\n",
    "a=[1,2,3,4,5]\n",
    "list_print(a)"
   ]
  },
  {
   "cell_type": "code",
   "execution_count": 20,
   "metadata": {},
   "outputs": [
    {
     "name": "stdout",
     "output_type": "stream",
     "text": [
      "3.0\n"
     ]
    }
   ],
   "source": [
    "#Find and print average value\n",
    "def list_print(x):\n",
    "    y=sum(x)/len(x)\n",
    "    print(y)\n",
    "a=[1,2,3,4,5]\n",
    "list_print(a)"
   ]
  },
  {
   "cell_type": "code",
   "execution_count": 24,
   "metadata": {},
   "outputs": [
    {
     "name": "stdout",
     "output_type": "stream",
     "text": [
      "1\n",
      "(2, 3, 4, 5)\n",
      "3.5\n"
     ]
    }
   ],
   "source": [
    "#Assigning all the element from a list and find their average\n",
    "def list_print(x,*y):\n",
    "    print(x)\n",
    "    print(y)\n",
    "    z=sum(y)/len(y)\n",
    "    print(z)\n",
    "list_print(1,2,3,4,5)"
   ]
  },
  {
   "cell_type": "code",
   "execution_count": 31,
   "metadata": {},
   "outputs": [
    {
     "name": "stdout",
     "output_type": "stream",
     "text": [
      "[2, 3, 4, 5]\n",
      "3.5\n",
      "3.5\n"
     ]
    }
   ],
   "source": [
    "#Assigning all the element from a list and find their average\n",
    "def list_print(x):\n",
    "    del x[0]\n",
    "    print(x)\n",
    "    y=sum(x)/len(x)\n",
    "    print(y)\n",
    "    return y\n",
    "\n",
    "\n",
    "a=[1,2,3,4,5]\n",
    "k=list_print(a)\n",
    "print(k)"
   ]
  },
  {
   "cell_type": "code",
   "execution_count": 41,
   "metadata": {},
   "outputs": [
    {
     "name": "stdout",
     "output_type": "stream",
     "text": [
      "1\n",
      "2\n",
      "3\n",
      "4\n",
      "5\n",
      "[1, 2, 3, 4, 5]\n",
      "Nahid\n",
      "ECE\n"
     ]
    }
   ],
   "source": [
    "#https://www.programiz.com/python-programming/args-and-kwargs\n",
    "#*args and **kwargs in Python\n",
    "#* sign allow to accept any number of argument. Conventionally it used by *arg\n",
    "# What *args allows you to do is take in more arguments than the number of \n",
    "#formal arguments that you previously defined. With *args, any number of extra arguments\n",
    "#can be tacked on to your current formal parameters (including zero extra arguments).\n",
    "#*args and *kwargs are special keyword which allows function to take variable length argument.\n",
    "#*args passes variable number of non-keyworded arguments list and on which operation of the list can be performed.\n",
    "#**kwargs passes variable number of keyword arguments dictionary to function on which operation of a dictionary can be performed.\n",
    "#*args and **kwargs make the function flexible.\n",
    "def dataprint(*arg):\n",
    "    for i in arg:\n",
    "        print (i)\n",
    "\n",
    "dataprint(1,2,3,4,5)\n",
    "dataprint([1,2,3,4,5],'Nahid','ECE')\n"
   ]
  },
  {
   "cell_type": "code",
   "execution_count": 43,
   "metadata": {},
   "outputs": [
    {
     "name": "stdout",
     "output_type": "stream",
     "text": [
      "2\n",
      "3\n",
      "4\n",
      "5\n",
      "Nahid\n",
      "ECE\n"
     ]
    }
   ],
   "source": [
    "#Avoiding the first argument and consider rest of the variable to another variable\n",
    "def dataprint(arg1,*arg2):\n",
    "    #print(arg1)\n",
    "    for i in arg2:\n",
    "        print (i)\n",
    "\n",
    "dataprint(1,2,3,4,5)\n",
    "dataprint([1,2,3,4,5],'Nahid','ECE')"
   ]
  },
  {
   "cell_type": "code",
   "execution_count": 48,
   "metadata": {},
   "outputs": [
    {
     "name": "stdout",
     "output_type": "stream",
     "text": [
      "2\n",
      "3\n",
      "4\n",
      "5\n",
      "Nahid\n",
      "ECE\n"
     ]
    }
   ],
   "source": [
    "#Avoiding the first and last arguments and consider rest of the variable to another variable\n",
    "def dataprint(arg1,*arg2):\n",
    "    #print(arg1)\n",
    "    for i in arg2:\n",
    "        print (i)\n",
    "\n",
    "dataprint(1,2,3,4,5)\n",
    "dataprint([1,2,3,4,5],'Nahid','ECE')"
   ]
  },
  {
   "cell_type": "code",
   "execution_count": 14,
   "metadata": {},
   "outputs": [
    {
     "data": {
      "text/plain": [
       "1"
      ]
     },
     "execution_count": 14,
     "metadata": {},
     "output_type": "execute_result"
    }
   ],
   "source": [
    "#Finding minimum value of unknwn number of argument.\n",
    "def minimum(*arg, clip=None):\n",
    "    m=min(arg)\n",
    "    #if check is not True:\n",
    "    if clip is not None:\n",
    "     return m\n",
    "\n",
    "minimum(1,2,3,4,5,clip=True)"
   ]
  },
  {
   "cell_type": "code",
   "execution_count": 20,
   "metadata": {},
   "outputs": [
    {
     "name": "stdout",
     "output_type": "stream",
     "text": [
      "Help on function adder in module __main__:\n",
      "\n",
      "adder(x:int, y:int)\n",
      "    #Attaching Informational Metadata to Function Arguments\n",
      "\n"
     ]
    },
    {
     "data": {
      "text/plain": [
       "11"
      ]
     },
     "execution_count": 20,
     "metadata": {},
     "output_type": "execute_result"
    }
   ],
   "source": [
    "#Attaching Informational Metadata to Function Arguments\n",
    "def adder(x:int,y:int): #provide information about variables\n",
    "    return x+y\n",
    "\n",
    "help(adder)\n",
    "adder(5,6)"
   ]
  },
  {
   "cell_type": "code",
   "execution_count": 22,
   "metadata": {},
   "outputs": [
    {
     "data": {
      "text/plain": [
       "{'x': int, 'y': int}"
      ]
     },
     "execution_count": 22,
     "metadata": {},
     "output_type": "execute_result"
    }
   ],
   "source": [
    "#Function annotations are merely stored in a function’s __annotations__ attribute\n",
    "adder.__annotations__"
   ]
  },
  {
   "cell_type": "code",
   "execution_count": 23,
   "metadata": {},
   "outputs": [
    {
     "data": {
      "text/plain": [
       "(1, 2, 3)"
      ]
     },
     "execution_count": 23,
     "metadata": {},
     "output_type": "execute_result"
    }
   ],
   "source": [
    "#Returning Multiple Values from a Function\n",
    "def returning(x,y,z):\n",
    "    return x,y,z\n",
    "returning(1,2,3)"
   ]
  },
  {
   "cell_type": "code",
   "execution_count": 27,
   "metadata": {},
   "outputs": [
    {
     "data": {
      "text/plain": [
       "80"
      ]
     },
     "execution_count": 27,
     "metadata": {},
     "output_type": "execute_result"
    }
   ],
   "source": [
    "#Defining Functions with Default Arguments\n",
    "\n",
    "def fixed_argument(x,y=10):\n",
    "    return x+y\n",
    "fixed_argument(10)\n",
    "fixed_argument(10,70)"
   ]
  },
  {
   "cell_type": "code",
   "execution_count": 31,
   "metadata": {},
   "outputs": [
    {
     "data": {
      "text/plain": [
       "(5, 10)"
      ]
     },
     "execution_count": 31,
     "metadata": {},
     "output_type": "execute_result"
    }
   ],
   "source": [
    "#Variable declaration and its effect\n",
    "\n",
    "x=10;\n",
    "def spam(a,b=x):\n",
    "    return a,b\n",
    "spam(5)\n",
    "spam(5,13)\n",
    "x=6  #this x has no effect on the function\n",
    "spam(5)"
   ]
  },
  {
   "cell_type": "code",
   "execution_count": 26,
   "metadata": {},
   "outputs": [
    {
     "name": "stdout",
     "output_type": "stream",
     "text": [
      "{'a': (1, 2, 3), 'b': [1, 2, 3], 'c': 1, 'marks': {1: 45, 2: 46, 7: 57}}\n",
      "{'a': (1, 2, 3), 'b': [1, 2, 3], 'c': 1, 'marks': {1: 45, 2: 46, 7: 57}}\n",
      "{'a': (1, 2, 3), 'b': [1, 2, 3], 'c': 1, 'marks': {1: 45, 2: 46, 7: 57}}\n",
      "{'a': (1, 2, 3), 'b': [1, 2, 3], 'c': 1, 'marks': {1: 45, 2: 46, 7: 57}}\n",
      "{'a': (1, 2, 3), 'b': [1, 2, 3], 'c': 1, 'marks': {1: 45, 2: 46, 7: 57}}\n",
      "a (1, 2, 3)\n",
      "b [1, 2, 3]\n",
      "c 1\n",
      "marks {1: 45, 2: 46, 7: 57}\n"
     ]
    }
   ],
   "source": [
    "#Courtesy: https://www.geeksforgeeks.org/args-kwargs-python/\n",
    "#The special syntax **kwargs in function definitions in python is used to pass a keyworded, \n",
    "#variable-length argument list. We use the name kwargs with the double star. \n",
    "#The reason is because the double star allows us to pass through keyword arguments (and any number of them).\n",
    "#A keyword argument is where you provide a name to the variable as you pass it into the function.\n",
    "#One can think of the kwargs as being a dictionary that maps each keyword to the value that we pass alongside it. \n",
    "#That is why when we iterate over the kwargs there doesn’t seem to be any order in which they were printed out.\n",
    "\n",
    "def practice1(**warg):\n",
    "    print(warg)\n",
    "    ##for i in range(warg):\n",
    "        #print(i)\n",
    "    for i in warg:\n",
    "        print(warg)\n",
    "    for key, value in warg.items():\n",
    "        print(key,value)\n",
    "practice1(a=(1,2,3), b=[1,2,3], c=1, marks={1:45,2:46,7:57})    "
   ]
  },
  {
   "cell_type": "code",
   "execution_count": 32,
   "metadata": {},
   "outputs": [
    {
     "name": "stdout",
     "output_type": "stream",
     "text": [
      "{'a': (1, 2, 3), 'b': [1, 2, 3], 'c': 1, 'marks': {1: 45, 2: 46, 7: 57}}\n",
      "dict_keys(['a', 'b', 'c', 'marks'])\n"
     ]
    }
   ],
   "source": [
    "#practice *arg and **kwarg\n",
    "def practice1(**kwargg):\n",
    "    print(kwargg)\n",
    "    print(kwargg.keys())\n",
    "practice1(a=(1,2,3), b=[1,2,3], c=1, marks={1:45,2:46,7:57}) \n"
   ]
  },
  {
   "cell_type": "code",
   "execution_count": null,
   "metadata": {},
   "outputs": [],
   "source": []
  }
 ],
 "metadata": {
  "kernelspec": {
   "display_name": "Python 3",
   "language": "python",
   "name": "python3"
  },
  "language_info": {
   "codemirror_mode": {
    "name": "ipython",
    "version": 3
   },
   "file_extension": ".py",
   "mimetype": "text/x-python",
   "name": "python",
   "nbconvert_exporter": "python",
   "pygments_lexer": "ipython3",
   "version": "3.6.5"
  }
 },
 "nbformat": 4,
 "nbformat_minor": 2
}
