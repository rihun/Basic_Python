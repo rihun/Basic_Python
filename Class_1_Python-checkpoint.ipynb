{
 "cells": [
  {
   "cell_type": "code",
   "execution_count": 15,
   "metadata": {},
   "outputs": [],
   "source": [
    "#Building my first class >>>>\n",
    "class Car:\n",
    "    name = 'Toyota'\n",
    "    model = 'L345'\n",
    "    \n",
    "    def print1():\n",
    "        print('Please Start the Engine')\n",
    "        print(Car.name,Car.model)"
   ]
  },
  {
   "cell_type": "code",
   "execution_count": 16,
   "metadata": {},
   "outputs": [
    {
     "name": "stdout",
     "output_type": "stream",
     "text": [
      "Please Start the Engine\n",
      "Toyota L345\n"
     ]
    }
   ],
   "source": [
    "Car.print1()"
   ]
  },
  {
   "cell_type": "code",
   "execution_count": 33,
   "metadata": {},
   "outputs": [],
   "source": [
    "#Building  class (You can provide the name from the outside)\n",
    "class Car1:\n",
    "    name = ''\n",
    "    model = ''\n",
    "    \n",
    "    def print2():\n",
    "        print('Please Start the Engine')\n",
    "        #print(Car1.name,Car1.model)\n"
   ]
  },
  {
   "cell_type": "code",
   "execution_count": 34,
   "metadata": {},
   "outputs": [
    {
     "name": "stdout",
     "output_type": "stream",
     "text": [
      "Please Start the Engine\n"
     ]
    }
   ],
   "source": [
    "Car1.name='Toyota'\n",
    "Car1.model='L34567'\n",
    "Car1.print2()"
   ]
  },
  {
   "cell_type": "code",
   "execution_count": 36,
   "metadata": {},
   "outputs": [
    {
     "name": "stdout",
     "output_type": "stream",
     "text": [
      "Please Start the Engine\n"
     ]
    }
   ],
   "source": [
    "#c2=Car1()\n",
    "Car1.name='Toyota'\n",
    "Car1.model='L34567'\n",
    "Car1.print2()"
   ]
  },
  {
   "cell_type": "code",
   "execution_count": 30,
   "metadata": {},
   "outputs": [
    {
     "name": "stdout",
     "output_type": "stream",
     "text": [
      "this is the car name\n",
      "this is the car name Orion\n",
      "this is the car name 45667\n",
      "Orion\n",
      "Toyota\n"
     ]
    }
   ],
   "source": [
    "#Class Declaration with __init__ method\n",
    "class Car2():\n",
    "   # name=''\n",
    "    #model=''\n",
    "    \"Declare the __init__ method\"\n",
    "    def __init__(self,name,model):\n",
    "        self.name=name\n",
    "        self.model=model\n",
    "    \"Declaring print Method\"\n",
    "    def start(self):\n",
    "        print('this is the car name')\n",
    "    \"Declaring another method utilizing self attributr information\"\n",
    "    def start2(self):\n",
    "        print('this is the car name', self.name)\n",
    "        print('this is the car name', self.model)\n",
    "\n",
    "my_car1=Car2('Toyota','4567')\n",
    "my_car1.start()\n",
    "\n",
    "my_car2=Car2('Orion','45667')\n",
    "my_car2.start2()\n",
    "\n",
    "print(my_car2.name)\n",
    "print(my_car1.name)\n",
    "\n"
   ]
  },
  {
   "cell_type": "code",
   "execution_count": 44,
   "metadata": {},
   "outputs": [
    {
     "name": "stdout",
     "output_type": "stream",
     "text": [
      "020924\n",
      "How r u Nahid\n"
     ]
    }
   ],
   "source": [
    "#Defination of Class\n",
    "class Carr1():\n",
    "    \"Practice few classes\"\n",
    "    def __init__(self,  n, r):\n",
    "        self.name=n\n",
    "        self.roll=r\n",
    "        \n",
    "    #\"Define printt1 method\"\n",
    "    def start12(self):\n",
    "        print( 'How r u', self.name)\n",
    "        \n",
    "    #\"Define printt2 method\"\n",
    "    def start21(self):\n",
    "        print( self.roll)   \n",
    "        \n",
    "New1=Carr1(\"Nahid\",\"020924\")  \n",
    "New1.start21()\n",
    "New1.start12()"
   ]
  },
  {
   "cell_type": "code",
   "execution_count": 46,
   "metadata": {},
   "outputs": [
    {
     "name": "stdout",
     "output_type": "stream",
     "text": [
      "Name Nahid\n"
     ]
    }
   ],
   "source": [
    "#Class declaration\n",
    "\n",
    "class Carr:\n",
    "    n=''\n",
    "    c=''\n",
    "    def __init__(self,n,c):\n",
    "        self.name=n\n",
    "        self.roll=c\n",
    "    def start34(self):\n",
    "        print('Name',self.name)\n",
    "my_car=Carr('Nahid','Rihun')\n",
    "my_car.start34()"
   ]
  },
  {
   "cell_type": "code",
   "execution_count": 60,
   "metadata": {},
   "outputs": [
    {
     "name": "stdout",
     "output_type": "stream",
     "text": [
      "10\n",
      "I am Nahid\n",
      "None\n"
     ]
    }
   ],
   "source": [
    "#Class practice.\n",
    "\n",
    "class My_second_class:\n",
    "    \"Practicing to write a class\"\n",
    "    a=10\n",
    "    def printt1():\n",
    "        print('I am Nahid')\n",
    "        \n",
    "#Calling the class\n",
    "My_second_class1=My_second_class\n",
    "print(My_second_class1.a)\n",
    "print(My_second_class1.printt1())"
   ]
  },
  {
   "cell_type": "code",
   "execution_count": 71,
   "metadata": {},
   "outputs": [
    {
     "name": "stdout",
     "output_type": "stream",
     "text": [
      "10\n"
     ]
    }
   ],
   "source": [
    "# Smallest Class Haaaaaa\n",
    "class First_class():\n",
    "    x=10\n",
    "\n",
    "#declaring object of class First_class\n",
    "First_class1=First_class()\n",
    "print(First_class1.x)"
   ]
  },
  {
   "cell_type": "code",
   "execution_count": 78,
   "metadata": {},
   "outputs": [
    {
     "name": "stdout",
     "output_type": "stream",
     "text": [
      "My Name is  Nahid\n",
      "My Roll is  020924\n"
     ]
    }
   ],
   "source": [
    "#All classes have a function called __init__(), which is always executed when the class is being initiated.\n",
    "#Use the __init__() function to assign values to object properties,\n",
    "#or other operations that are necessary to do when the object is being created:\n",
    "#Courtesy:  https://www.w3schools.com/python/python_classes.asp\n",
    "\n",
    "class Person:\n",
    "    \"How __init__ works\"\n",
    "    def __init__(self,name,roll):\n",
    "        self.name=name\n",
    "        self.roll=roll\n",
    "\n",
    "person_obj1=Person('Nahid', '020924')\n",
    "print('My Name is ', person_obj1.name)\n",
    "print('My Roll is ', person_obj1.roll)\n"
   ]
  },
  {
   "cell_type": "code",
   "execution_count": 104,
   "metadata": {},
   "outputs": [
    {
     "name": "stdout",
     "output_type": "stream",
     "text": [
      "Nahid\n",
      "My Name is  None\n",
      "Nahid\n"
     ]
    }
   ],
   "source": [
    "#The self Parameter\n",
    "#The self parameter is a reference to the current instance of the class, \n",
    "#and is used to access variables that belongs to the class.\n",
    "#It does not have to be named self , you can call\n",
    "#it whatever you like, but it has to be the first parameter of any function in the class:\n",
    "\n",
    "class Person1:\n",
    "    \"You an use different name instead of name self\"\n",
    "    def __init__(new_self,name,roll):\n",
    "        new_self.name=name\n",
    "        new_self.roll=roll\n",
    "    #Declaring print something\n",
    "    def start1(new_self):\n",
    "        print(new_self.name)\n",
    "        \n",
    "person_obj2=Person1('Nahid', '020924')\n",
    "print('My Name is ', person_obj2.start1())   \n",
    "person_obj2.start1()\n"
   ]
  },
  {
   "cell_type": "code",
   "execution_count": 108,
   "metadata": {},
   "outputs": [],
   "source": [
    "#class definitions cannot be empty, but if you for some \n",
    "#reason have a class definition with no content, put in \n",
    "#the pass statement to avoid getting an error.\n",
    "class Person2:\n",
    "    pass\n",
    "\n",
    "p1=Person2()\n"
   ]
  },
  {
   "cell_type": "code",
   "execution_count": 125,
   "metadata": {},
   "outputs": [
    {
     "name": "stdout",
     "output_type": "stream",
     "text": [
      "3+30j\n"
     ]
    }
   ],
   "source": [
    "#Constructors in Python\n",
    "#Class functions that begins with double underscore (__) are called special functions as they have special meaning.\n",
    "\n",
    "#Of one particular interest is the __init__() function. This special function gets called whenever a new object of that class is instantiated.\n",
    "\n",
    "#This type of function is also called constructors in Object Oriented Programming (OOP). We normally use it to initialize all the variables.\n",
    "\n",
    "class ComplexNumber():\n",
    "    \"Creating complex Number\"\n",
    "    def __init__(self,r=0,i=0):\n",
    "        self.real= r\n",
    "        self.imag= i\n",
    "    def get_data(self):\n",
    "        print('{0}+{1}j'.format(self.real,self.imag))\n",
    "\n",
    "c1 = ComplexNumber(3, 30)\n",
    "c1.get_data()\n",
    "    \n"
   ]
  },
  {
   "cell_type": "code",
   "execution_count": 135,
   "metadata": {},
   "outputs": [
    {
     "name": "stdout",
     "output_type": "stream",
     "text": [
      "Tomy\n",
      "TOMY\n",
      "tomy\n",
      "3\n"
     ]
    }
   ],
   "source": [
    "#Practice Class\n",
    "\n",
    "class Dog:\n",
    "    def __init__(self,name,age):\n",
    "        self.name=name\n",
    "        self.age=age\n",
    "    #print dog name\n",
    "    def print_name(self):\n",
    "        print(self.name.title())\n",
    "        print(self.name.upper())\n",
    "        print(self.name.lower())\n",
    "    #print dog age\n",
    "    def print_age(self):\n",
    "        print(self.age)\n",
    "\n",
    "dog1=Dog('Tomy','3')\n",
    "dog1.print_name()\n",
    "dog1.print_age()"
   ]
  },
  {
   "cell_type": "code",
   "execution_count": 151,
   "metadata": {},
   "outputs": [
    {
     "name": "stdout",
     "output_type": "stream",
     "text": [
      "Khusbu\n",
      "bengali\n"
     ]
    }
   ],
   "source": [
    "#9-1. Restaurant: Make a class called Restaurant The __init__() method for\n",
    "#Restaurant should store two attributes: a restaurant_name and a cuisine_type\n",
    "#Make a method called describe_restaurant() that prints these two pieces of\n",
    "#information, and a method called open_restaurant() that prints a message indicating that the restaurant is open\n",
    "\n",
    "#Make an instance called restaurant from your class Print the \n",
    "#two attributes individually, and then call both methods\n",
    "class Restaurant:\n",
    "    \"Declaring a class named as restaurant\"\n",
    "    def __init__(self,restaurant_name,cuisine_type):\n",
    "        self.restaurant_name=restaurant_name\n",
    "        self.cuisine_type=cuisine_type\n",
    "    \"Make a meyhod called described_restaurant\"\n",
    "    def described_restaurant(self):\n",
    "        print(self.restaurant_name)\n",
    "        print(self.cuisine_type)\n",
    "        \n",
    "        \n",
    "open_restaurant=Restaurant(\"Khusbu\",\"bengali\")\n",
    "open_restaurant.described_restaurant()\n",
    "\n",
    "restaurant="
   ]
  },
  {
   "cell_type": "code",
   "execution_count": 12,
   "metadata": {},
   "outputs": [
    {
     "data": {
      "text/plain": [
       "'1945 ToyotaL345'"
      ]
     },
     "execution_count": 12,
     "metadata": {},
     "output_type": "execute_result"
    }
   ],
   "source": [
    "#Practicing Class \n",
    "class Car():\n",
    "    \"Creating a simple Class on CAr\"\n",
    "    \n",
    "    def __init__(self,make,model,year):\n",
    "        self.make=make\n",
    "        self.model=model\n",
    "        self.year=year\n",
    "    def get_describtive_name(self):\n",
    "        \"Provide a detailed name of the Car \"\n",
    "        long_name=str(self.year)+ ' ' + self.make + '' +self.model\n",
    "        return long_name\n",
    "\n",
    "        \n",
    "My_Car=Car('Toyota','L345',1945) \n",
    "My_Car.get_describtive_name()"
   ]
  },
  {
   "cell_type": "code",
   "execution_count": 23,
   "metadata": {},
   "outputs": [
    {
     "name": "stdout",
     "output_type": "stream",
     "text": [
      "This car  0  milage on it\n",
      "This car  450  milage on it\n"
     ]
    }
   ],
   "source": [
    "#Practicing Class with changing the value of an attribute\n",
    "class Car():\n",
    "    \"Creating a simple Class on CAr\"\n",
    "    \n",
    "    def __init__(self,make,model,year):\n",
    "        self.make=make\n",
    "        self.model=model\n",
    "        self.year=year\n",
    "        self.odometer=0\n",
    "    def get_describtive_name(self):\n",
    "        \"Provide a detailed name of the Car \"\n",
    "        long_name=str(self.year)+ ' ' + self.make + '' +self.model\n",
    "        return long_name\n",
    "    def new_odometer(self):\n",
    "        \"Print a statement showing a car milage\"\n",
    "        print('This car'+'  ' +str(self.odometer)+'  ' +'milage on it')\n",
    "\n",
    "        \n",
    "My_Car=Car('Toyota','L345',1945) \n",
    "My_Car.get_describtive_name()\n",
    "My_Car.new_odometer()\n",
    "#Access the odometer reading throuh calling the attributes\n",
    "\n",
    "My_Car.odometer=450\n",
    "My_Car.new_odometer()"
   ]
  },
  {
   "cell_type": "code",
   "execution_count": 34,
   "metadata": {},
   "outputs": [
    {
     "name": "stdout",
     "output_type": "stream",
     "text": [
      "Current Milage 300\n",
      "This car  300  milage on it\n",
      "It is a Good Millage\n",
      "Current Milage 600\n",
      "This car  600  milage on it\n",
      "It is a Good Millage\n"
     ]
    }
   ],
   "source": [
    "#Modifyimg Attribute values throuh a method\n",
    "class Car():\n",
    "    \"Creating a simple Class on CAr\"\n",
    "    \n",
    "    def __init__(self,make,model,year):\n",
    "        self.make=make\n",
    "        self.model=model\n",
    "        self.year=year\n",
    "        self.odometer=0\n",
    "    def get_describtive_name(self):\n",
    "        \"Provide a detailed name of the Car \"\n",
    "        long_name=str(self.year)+ ' ' + self.make + '' +self.model\n",
    "        return long_name\n",
    "    def new_odometer(self,value_odometer):\n",
    "        \"Print a statement showing a car milage\"\n",
    "        self.odometer=self.odometer+value_odometer\n",
    "        print('Current Milage',self.odometer)\n",
    "        print('This car'+'  ' +str(self.odometer)+'  ' +'milage on it')\n",
    "        if value_odometer>=10:\n",
    "            print('It is a Good Millage')\n",
    "        else:\n",
    "            print('It is a Bad Millage')\n",
    "        \n",
    "My_Car=Car('Toyota','L345',1945) \n",
    "My_Car.new_odometer(300)\n",
    "My_Car.new_odometer(300)"
   ]
  },
  {
   "cell_type": "code",
   "execution_count": null,
   "metadata": {},
   "outputs": [],
   "source": []
  }
 ],
 "metadata": {
  "kernelspec": {
   "display_name": "Python 3",
   "language": "python",
   "name": "python3"
  },
  "language_info": {
   "codemirror_mode": {
    "name": "ipython",
    "version": 3
   },
   "file_extension": ".py",
   "mimetype": "text/x-python",
   "name": "python",
   "nbconvert_exporter": "python",
   "pygments_lexer": "ipython3",
   "version": "3.6.5"
  }
 },
 "nbformat": 4,
 "nbformat_minor": 2
}
