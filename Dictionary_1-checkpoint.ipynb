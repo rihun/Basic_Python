{
 "cells": [
  {
   "cell_type": "code",
   "execution_count": 23,
   "metadata": {},
   "outputs": [
    {
     "name": "stdout",
     "output_type": "stream",
     "text": [
      "{1: 45, 2: 46, 7: 57}\n",
      "45\n",
      "247\n"
     ]
    }
   ],
   "source": [
    "#Dictionary in python is one of the stron datastructure in python.\n",
    "#It has key variable and values\n",
    "#It starts and ends utilizing {keyword1:value,keyword1:value }\n",
    "marks={1:45,2:46,7:57}\n",
    "print(marks)\n",
    "#calling the dictionary using keyword\n",
    "print(marks[1])\n",
    "marks={1:[45,145,245],2:[46,146,246],3:[47,147,247]}\n",
    "print(marks[3][2])"
   ]
  },
  {
   "cell_type": "code",
   "execution_count": 16,
   "metadata": {},
   "outputs": [
    {
     "name": "stdout",
     "output_type": "stream",
     "text": [
      "{}\n",
      "{'020924': 'NAHID', '020932': 'RAJIB', '020933': 'SHIBLEE'}\n"
     ]
    }
   ],
   "source": [
    "#declaring blank dictionary and put data\n",
    "dt={}\n",
    "print(dt)\n",
    "type(dt)\n",
    "dt['020924']='NAHID'\n",
    "dt['020932']='RAJIB'\n",
    "dt['020933']='SHIBLEE'\n",
    "print(dt)"
   ]
  },
  {
   "cell_type": "code",
   "execution_count": 46,
   "metadata": {},
   "outputs": [
    {
     "name": "stdout",
     "output_type": "stream",
     "text": [
      "1\n"
     ]
    }
   ],
   "source": [
    "#declaring blank dictionary and put data\n",
    "dt1={}\n",
    "dt1['020901']=[1,2,3,4]\n",
    "dt1['020902']=[1,2,3,4]\n",
    "dt1['020903']=[1,2,3,4]\n",
    "dt1['020904']=[1,2,3,4]\n",
    "dt1['020905']=[1,2,3,4]\n",
    "print(dt1['020901'][0])"
   ]
  },
  {
   "cell_type": "code",
   "execution_count": 48,
   "metadata": {},
   "outputs": [
    {
     "name": "stdout",
     "output_type": "stream",
     "text": [
      "13\n"
     ]
    }
   ],
   "source": [
    "#declaring blank dictionary and put data\n",
    "marks={'DH020901':{'Bangla':12,'English':22},'DH020902':{'Bangla':13,'English':23},'DH020903':{'Bangla':13,'English':24}}\n",
    "print(marks['DH020903']['Bangla'])"
   ]
  },
  {
   "cell_type": "code",
   "execution_count": 63,
   "metadata": {},
   "outputs": [
    {
     "name": "stdout",
     "output_type": "stream",
     "text": [
      "dict_keys(['Barisal', 'Chittagong', 'Dhaka', 'Khulna', 'Mymensing', 'Rajshahi', 'Rangpur', 'Sylhet'])\n",
      "dict_keys(['Barisal', 'Chittagong', 'Dhaka', 'Khulna', 'Mymensing', 'Rajshahi', 'Rangpur', 'Sylhet'])\n",
      "dict_keys(['Barisal', 'Chittagong', 'Dhaka', 'Khulna', 'Mymensing', 'Rajshahi', 'Rangpur', 'Sylhet'])\n",
      "dict_keys(['Barisal', 'Chittagong', 'Dhaka', 'Khulna', 'Mymensing', 'Rajshahi', 'Rangpur', 'Sylhet'])\n",
      "dict_keys(['Barisal', 'Chittagong', 'Dhaka', 'Khulna', 'Mymensing', 'Rajshahi', 'Rangpur', 'Sylhet'])\n",
      "dict_keys(['Barisal', 'Chittagong', 'Dhaka', 'Khulna', 'Mymensing', 'Rajshahi', 'Rangpur', 'Sylhet'])\n",
      "dict_keys(['Barisal', 'Chittagong', 'Dhaka', 'Khulna', 'Mymensing', 'Rajshahi', 'Rangpur', 'Sylhet'])\n",
      "dict_keys(['Barisal', 'Chittagong', 'Dhaka', 'Khulna', 'Mymensing', 'Rajshahi', 'Rangpur', 'Sylhet'])\n"
     ]
    }
   ],
   "source": [
    "#Bangladesh has 8 divisisins. Make a dictionary which will keeps information about number of districs, Upazila and thana of each \n",
    "# division.\n",
    "\n",
    "#Division          District           Upazilla        Councill\n",
    "#Barisal             6                 39               333\n",
    "#Chittagong          11                97               336\n",
    "#Dhaka               13                93               1833\n",
    "#Khulna              10                59               270\n",
    "#Mymensing           4                 34               350\n",
    "#Rajshahi            8                 70               558\n",
    "#Rangpur             8                 58               536\n",
    "#Sylhet              4                 38               334\n",
    "\n",
    "bangladesh_admisnistration={}\n",
    "bangladesh_admisnistration['Barisal']={'District':6,'Upazila':39,'Council':333}\n",
    "bangladesh_admisnistration['Chittagong']={'District':11,'Upazila':97,'Council':336}\n",
    "bangladesh_admisnistration['Dhaka']={'District':13,'Upazila':93,'Council':1833}\n",
    "bangladesh_admisnistration['Khulna']={'District':10,'Upazila':59,'Council':270}\n",
    "bangladesh_admisnistration['Mymensing']={'Distric':4,'Upazila':34,'Council':350}\n",
    "bangladesh_admisnistration['Rajshahi']={'District':8,'Upazila':70,'Council':558}\n",
    "bangladesh_admisnistration['Rangpur']={'District':8,'Upazila':58,'Council':536}\n",
    "bangladesh_admisnistration['Sylhet']={'District':4,'Upazila':38,'Council':334}\n",
    "bangladesh_admisnistration.keys()\n",
    "bangladesh_admisnistration['Barisal']['District']\n",
    "BD_ADMIN=bangladesh_admisnistration.keys()\n",
    "\n",
    "for i in  BD_ADMIN:\n",
    "    print(BD_ADMIN)\n",
    "\n"
   ]
  },
  {
   "cell_type": "code",
   "execution_count": 1,
   "metadata": {},
   "outputs": [
    {
     "name": "stdout",
     "output_type": "stream",
     "text": [
      "1 45\n",
      "2 46\n",
      "7 57\n"
     ]
    }
   ],
   "source": [
    "#accessing values in a dictionary using for loop\n",
    "\n",
    "marks={1:45,2:46,7:57}\n",
    "for key, values in marks.items():\n",
    "    print(key,values)"
   ]
  },
  {
   "cell_type": "code",
   "execution_count": 6,
   "metadata": {},
   "outputs": [
    {
     "name": "stdout",
     "output_type": "stream",
     "text": [
      "{1: 'ECE', 2: 'CSE', 3: 'MATH'}\n",
      "ECE\n"
     ]
    }
   ],
   "source": [
    "#creating a dictionary with integer keys\n",
    "dictionary1={1:'ECE',2:'CSE',3:'MATH'}\n",
    "print(dictionary1)\n",
    "#the following code will not work. As for dictionary it will be accessed by keyword.\n",
    "#print(dictionary1[0])\n",
    "\n",
    "#following code will work. The key is passed which is inthis case is one and returns ECE\n",
    "print(dictionary1[1])\n",
    "\n"
   ]
  },
  {
   "cell_type": "code",
   "execution_count": 9,
   "metadata": {},
   "outputs": [
    {
     "name": "stdout",
     "output_type": "stream",
     "text": [
      "{1: 'ECE', 2: 'CSE', 'rihun': 'MATH'}\n",
      "MATH\n"
     ]
    }
   ],
   "source": [
    "#creating a dictionary with mixed keys\n",
    "dictionary1={1:'ECE',2:'CSE','rihun':'MATH'}\n",
    "print(dictionary1)\n",
    "print(dictionary1['rihun'])"
   ]
  },
  {
   "cell_type": "code",
   "execution_count": 12,
   "metadata": {},
   "outputs": [
    {
     "name": "stdout",
     "output_type": "stream",
     "text": [
      "{1: 'ECE', 2: (1, 2, 3), 'rihun': [1, 2, 3, 4]}\n",
      "[1, 2, 3, 4]\n"
     ]
    }
   ],
   "source": [
    "#creating a dictionary with mixed keys and the value will be mixed\n",
    "dictionary1={1:'ECE',2:(1,2,3),'rihun':[1,2,3,4]}\n",
    "print(dictionary1)\n",
    "print(dictionary1['rihun'])"
   ]
  },
  {
   "cell_type": "code",
   "execution_count": 15,
   "metadata": {},
   "outputs": [
    {
     "name": "stdout",
     "output_type": "stream",
     "text": [
      "emty dictionary {}\n"
     ]
    }
   ],
   "source": [
    "#creating an emty dictionary\n",
    "Dict1={}\n",
    "print('emty dictionary',Dict1)"
   ]
  },
  {
   "cell_type": "code",
   "execution_count": 19,
   "metadata": {},
   "outputs": [
    {
     "name": "stdout",
     "output_type": "stream",
     "text": [
      "emty dictionary= {1: 'ECE', 2: 'CSE', 'rihun': 'MATH'}\n"
     ]
    }
   ],
   "source": [
    "#creating an emty dictionary with dict method\n",
    "Dict2=dict({1:'ECE',2:'CSE','rihun':'MATH'})\n",
    "print('emty dictionary=',Dict2)"
   ]
  },
  {
   "cell_type": "code",
   "execution_count": 21,
   "metadata": {},
   "outputs": [
    {
     "name": "stdout",
     "output_type": "stream",
     "text": [
      "\n",
      "Dictionary with each item as a pair: \n",
      "{1: 'Geeks', 2: 'For'}\n"
     ]
    }
   ],
   "source": [
    "#courtesy:https://www.geeksforgeeks.org/python-dictionary/\n",
    "# Creating a Dictionary \n",
    "# with each item as a Pair \n",
    "Dict = dict([(1, 'Geeks'), (2, 'For')]) \n",
    "print(\"\\nDictionary with each item as a pair: \") \n",
    "print(Dict) "
   ]
  },
  {
   "cell_type": "code",
   "execution_count": 23,
   "metadata": {},
   "outputs": [
    {
     "name": "stdout",
     "output_type": "stream",
     "text": [
      "{1: 'ECE', 2: (1, 2, 3), 'rihun': {'lasin': [1, 2, 3, 4]}}\n",
      "{'lasin': [1, 2, 3, 4]}\n"
     ]
    }
   ],
   "source": [
    "#nested Dictionary\n",
    "dictionary1={1:'ECE',2:(1,2,3),'rihun':{'lasin':[1,2,3,4]}}\n",
    "print(dictionary1)\n",
    "print(dictionary1['rihun'])\n"
   ]
  },
  {
   "cell_type": "code",
   "execution_count": 37,
   "metadata": {},
   "outputs": [
    {
     "name": "stdout",
     "output_type": "stream",
     "text": [
      "emty dictionary= {}\n",
      "Dictionary after adding values: {1: 'rihun', 100: 'lasin'}\n",
      "Dictionary after adding values: {1: 'rihun', 100: 'lasin', 'ECE': 'niloy'}\n",
      "Dictionary after adding values: {1: 'rihun', 100: 'lasin', 'ECE': 'niloy', 'CSE': {12: 'as we think', 13: 'we are genious'}}\n"
     ]
    }
   ],
   "source": [
    "#Creating an emty dictionary and adding values on that dictionary\n",
    "#it can be done in number of ways;\n",
    "#procedure-1\n",
    "\n",
    "dict1={}\n",
    "print( 'emty dictionary=',dict1)\n",
    "#Adding values one by one. You need to pur key and then values\n",
    "dict1[1]='rihun'\n",
    "dict1[100]='lasin'\n",
    "print('Dictionary after adding values:', dict1)\n",
    "#key word can be string\n",
    "dict1[\"ECE\"]='niloy'\n",
    "print('Dictionary after adding values:', dict1)\n",
    "#values might be another dictionary\n",
    "dict1[\"CSE\"]={12:'as we think',13:'we are genious'}\n",
    "print('Dictionary after adding values:', dict1)"
   ]
  },
  {
   "cell_type": "code",
   "execution_count": 38,
   "metadata": {},
   "outputs": [
    {
     "name": "stdout",
     "output_type": "stream",
     "text": [
      "{1: 'ECE', 2: (1, 2, 3), 'rihun': {'lasin': [1, 2, 3, 4]}}\n",
      "{'lasin': [1, 2, 3, 4]}\n"
     ]
    }
   ],
   "source": [
    "#Accessing element fro a dictionary.\n",
    "#method 1 : through key word\n",
    "dictionary1={1:'ECE',2:(1,2,3),'rihun':{'lasin':[1,2,3,4]}}\n",
    "print(dictionary1)\n",
    "print(dictionary1['rihun'])\n"
   ]
  },
  {
   "cell_type": "code",
   "execution_count": 43,
   "metadata": {},
   "outputs": [
    {
     "name": "stdout",
     "output_type": "stream",
     "text": [
      "{1: 'ECE', 2: (1, 2, 3), 'rihun': {'lasin': [1, 2, 3, 4]}}\n",
      "{'lasin': [1, 2, 3, 4]}\n"
     ]
    }
   ],
   "source": [
    "#Accessing element fro a dictionary.\n",
    "#method 2 : using get method\n",
    "dictionary1={1:'ECE',2:(1,2,3),'rihun':{'lasin':[1,2,3,4]}}\n",
    "print(dictionary1)\n",
    "print(dictionary1.get('rihun'))\n"
   ]
  },
  {
   "cell_type": "code",
   "execution_count": 47,
   "metadata": {},
   "outputs": [
    {
     "name": "stdout",
     "output_type": "stream",
     "text": [
      "{1: 'ECE', 2: (1, 2, 3), 'rihun': {'lasin': [1, 2, 3, 4], 'lasin1': [1, 2, 3, 4]}}\n",
      "\n",
      "Deleting a specific key: \n",
      "{2: (1, 2, 3), 'rihun': {'lasin': [1, 2, 3, 4], 'lasin1': [1, 2, 3, 4]}}\n",
      "\n",
      "Deleting a specific key: \n",
      "{2: (1, 2, 3), 'rihun': {'lasin1': [1, 2, 3, 4]}}\n"
     ]
    }
   ],
   "source": [
    "#Removing Elements from Dictionary\n",
    "#Using del key word\n",
    "dictionary1={1:'ECE',2:(1,2,3),'rihun':{'lasin':[1,2,3,4],'lasin1':[1,2,3,4]}}\n",
    "print(dictionary1)\n",
    "# Deleting a Key value \n",
    "del dictionary1[1] \n",
    "print(\"\\nDeleting a specific key: \") \n",
    "print(dictionary1)\n",
    "# Deleting a Key from \n",
    "# Nested Dictionary \n",
    "del dictionary1['rihun']['lasin'] \n",
    "print(\"\\nDeleting a specific key: \") \n",
    "print(dictionary1)"
   ]
  },
  {
   "cell_type": "code",
   "execution_count": 57,
   "metadata": {},
   "outputs": [
    {
     "name": "stdout",
     "output_type": "stream",
     "text": [
      "{1: 'ECE', 2: (1, 2, 3), 'rihun': {'lasin': [1, 2, 3, 4], 'lasin1': [1, 2, 3, 4]}}\n",
      "{2: (1, 2, 3), 'rihun': {'lasin': [1, 2, 3, 4], 'lasin1': [1, 2, 3, 4]}}\n",
      "{'rihun': {'lasin': [1, 2, 3, 4], 'lasin1': [1, 2, 3, 4]}}\n"
     ]
    }
   ],
   "source": [
    "# Deleting a key  \n",
    "# using pop() method \n",
    "dictionary1={1:'ECE',2:(1,2,3),'rihun':{'lasin':[1,2,3,4],'lasin1':[1,2,3,4]}}\n",
    "print(dictionary1)\n",
    "dictionary2=dictionary1.pop(1)\n",
    "print(dictionary1)\n",
    "dictionary2=dictionary1.pop(2)\n",
    "print(dictionary1)"
   ]
  },
  {
   "cell_type": "code",
   "execution_count": 59,
   "metadata": {},
   "outputs": [
    {
     "name": "stdout",
     "output_type": "stream",
     "text": [
      "{1: 'ECE', 2: (1, 2, 3), 'rihun': {'lasin': [1, 2, 3, 4], 'lasin1': [1, 2, 3, 4]}}\n",
      "{1: 'ECE', 2: (1, 2, 3)}\n"
     ]
    }
   ],
   "source": [
    "# Deleting a key  \n",
    "# The popitem() returns and removes an arbitrary element (key, value) pair from the dictionary.\n",
    "dictionary1={1:'ECE',2:(1,2,3),'rihun':{'lasin':[1,2,3,4],'lasin1':[1,2,3,4]}}\n",
    "print(dictionary1)\n",
    "dictionary2=dictionary1.popitem()\n",
    "print(dictionary1)"
   ]
  },
  {
   "cell_type": "code",
   "execution_count": 60,
   "metadata": {},
   "outputs": [
    {
     "name": "stdout",
     "output_type": "stream",
     "text": [
      "{1: 'ECE', 2: (1, 2, 3), 'rihun': {'lasin': [1, 2, 3, 4], 'lasin1': [1, 2, 3, 4]}}\n",
      "{}\n"
     ]
    }
   ],
   "source": [
    "# clear all the element of a dictionary \n",
    "# All the items from a dictionary can be deleted at once by using clear() method.\n",
    "dictionary1={1:'ECE',2:(1,2,3),'rihun':{'lasin':[1,2,3,4],'lasin1':[1,2,3,4]}}\n",
    "print(dictionary1)\n",
    "dictionary1.clear()\n",
    "print(dictionary1)"
   ]
  },
  {
   "cell_type": "code",
   "execution_count": 66,
   "metadata": {},
   "outputs": [
    {
     "name": "stdout",
     "output_type": "stream",
     "text": [
      "{1: 'ECE', 2: (1, 2, 3), 'rihun': {'lasin': [1, 2, 3, 4], 'lasin1': [1, 2, 3, 4]}}\n",
      "dict_items([(1, 'ECE'), (2, (1, 2, 3)), ('rihun', {'lasin': [1, 2, 3, 4], 'lasin1': [1, 2, 3, 4]})])\n"
     ]
    }
   ],
   "source": [
    "#Syntax: dictionary.items()\n",
    "#Parameters: This method takes no parameters.\n",
    "#Returns: A view object that displays a list of a given dictionary’s (key, value) tuple pair.\n",
    "dictionary1={1:'ECE',2:(1,2,3),'rihun':{'lasin':[1,2,3,4],'lasin1':[1,2,3,4]}}\n",
    "print(dictionary1)\n",
    "dict_element_pair_as_list=dictionary1.items()\n",
    "print(dict_element_pair_as_list)"
   ]
  },
  {
   "cell_type": "code",
   "execution_count": 68,
   "metadata": {},
   "outputs": [
    {
     "name": "stdout",
     "output_type": "stream",
     "text": [
      "{1: 'ECE', 2: (1, 2, 3), 'rihun': {'lasin': [1, 2, 3, 4], 'lasin1': [1, 2, 3, 4]}}\n",
      "1 ECE\n",
      "2 (1, 2, 3)\n",
      "rihun {'lasin': [1, 2, 3, 4], 'lasin1': [1, 2, 3, 4]}\n"
     ]
    }
   ],
   "source": [
    "#accessing element and values of a dictionary using for loops\n",
    "dictionary1={1:'ECE',2:(1,2,3),'rihun':{'lasin':[1,2,3,4],'lasin1':[1,2,3,4]}}\n",
    "print(dictionary1)\n",
    "\n",
    "for key, values in dictionary1.items():\n",
    "    print(key,values)"
   ]
  },
  {
   "cell_type": "code",
   "execution_count": 81,
   "metadata": {},
   "outputs": [
    {
     "name": "stdout",
     "output_type": "stream",
     "text": [
      "{1: 'ECE', 2: (1, 2, 3), 'rihun': {'lasin': [1, 2, 3, 4], 'lasin1': [1, 2, 3, 4]}}\n",
      "dict_keys([1, 2, 'rihun'])\n",
      "1\n",
      "2\n",
      "rihun\n"
     ]
    }
   ],
   "source": [
    "#Syntax: dict.keys()\n",
    "#Its return all the available keys\n",
    "dictionary1={1:'ECE',2:(1,2,3),'rihun':{'lasin':[1,2,3,4],'lasin1':[1,2,3,4]}}\n",
    "print(dictionary1)\n",
    "#print(dictionary1.keys()[1])\n",
    "key_values=dictionary1.keys()\n",
    "print(key_values)\n",
    "for keys in key_values:\n",
    "    print(keys)"
   ]
  },
  {
   "cell_type": "code",
   "execution_count": 85,
   "metadata": {},
   "outputs": [
    {
     "name": "stdout",
     "output_type": "stream",
     "text": [
      "{1: 'ECE', 2: (1, 2, 3), 'rihun': {'lasin': [1, 2, 3, 4], 'lasin1': [1, 2, 3, 4]}}\n",
      "[1, 2, 'rihun']\n"
     ]
    }
   ],
   "source": [
    "#Unpacking dictionary keys into tuple\n",
    "dictionary1={1:'ECE',2:(1,2,3),'rihun':{'lasin':[1,2,3,4],'lasin1':[1,2,3,4]}}\n",
    "print(dictionary1)\n",
    "tuple1=tuple(dictionary1)\n",
    "print(tuple1)"
   ]
  },
  {
   "cell_type": "code",
   "execution_count": 86,
   "metadata": {},
   "outputs": [
    {
     "name": "stdout",
     "output_type": "stream",
     "text": [
      "{1: 'ECE', 2: (1, 2, 3), 'rihun': {'lasin': [1, 2, 3, 4], 'lasin1': [1, 2, 3, 4]}}\n",
      "[1, 2, 'rihun']\n"
     ]
    }
   ],
   "source": [
    "#Unpacking dictionary keys into list\n",
    "dictionary1={1:'ECE',2:(1,2,3),'rihun':{'lasin':[1,2,3,4],'lasin1':[1,2,3,4]}}\n",
    "print(dictionary1)\n",
    "tuple1=list(dictionary1)\n",
    "print(tuple1)"
   ]
  },
  {
   "cell_type": "code",
   "execution_count": 91,
   "metadata": {},
   "outputs": [
    {
     "name": "stdout",
     "output_type": "stream",
     "text": [
      "1\n",
      "2\n",
      "3\n",
      "1\n",
      "2\n",
      "3\n"
     ]
    }
   ],
   "source": [
    "#use *arg and **warg together.\n",
    "\n",
    "def print1(a,b,c):\n",
    "    print(a)\n",
    "    print(b)\n",
    "    print(c)\n",
    "print1(1,2,3)\n",
    "#using *arg argument\n",
    "arg=(1,2,3)\n",
    "print1(*arg)\n",
    "\n"
   ]
  },
  {
   "cell_type": "code",
   "execution_count": 8,
   "metadata": {},
   "outputs": [
    {
     "name": "stdout",
     "output_type": "stream",
     "text": [
      "Sum: 14\n",
      "Sum: 32\n",
      "Sum: 126\n"
     ]
    }
   ],
   "source": [
    "def adder1(*num1):\n",
    "    sum = 0\n",
    "    \n",
    "    for i in num1:\n",
    "        sum = sum + i\n",
    "\n",
    "    print(\"Sum:\",sum)\n",
    "\n",
    "adder1(3,5,6)\n",
    "adder1(4,5,6,7,10)\n",
    "adder1(1,2,3,5,6,9,100)"
   ]
  },
  {
   "cell_type": "code",
   "execution_count": null,
   "metadata": {},
   "outputs": [],
   "source": []
  }
 ],
 "metadata": {
  "kernelspec": {
   "display_name": "Python 3",
   "language": "python",
   "name": "python3"
  },
  "language_info": {
   "codemirror_mode": {
    "name": "ipython",
    "version": 3
   },
   "file_extension": ".py",
   "mimetype": "text/x-python",
   "name": "python",
   "nbconvert_exporter": "python",
   "pygments_lexer": "ipython3",
   "version": "3.6.5"
  }
 },
 "nbformat": 4,
 "nbformat_minor": 2
}
