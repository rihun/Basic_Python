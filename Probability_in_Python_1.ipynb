{
  "nbformat": 4,
  "nbformat_minor": 0,
  "metadata": {
    "colab": {
      "name": "Probability_in_Python_1.ipynb",
      "private_outputs": true,
      "provenance": [],
      "collapsed_sections": [],
      "authorship_tag": "ABX9TyMQxRsm4TbWRd+blcVkaB/h",
      "include_colab_link": true
    },
    "kernelspec": {
      "name": "python3",
      "display_name": "Python 3"
    },
    "language_info": {
      "name": "python"
    }
  },
  "cells": [
    {
      "cell_type": "markdown",
      "metadata": {
        "id": "view-in-github",
        "colab_type": "text"
      },
      "source": [
        "<a href=\"https://colab.research.google.com/github/rihun/Basic_Python/blob/master/Probability_in_Python_1.ipynb\" target=\"_parent\"><img src=\"https://colab.research.google.com/assets/colab-badge.svg\" alt=\"Open In Colab\"/></a>"
      ]
    },
    {
      "cell_type": "code",
      "metadata": {
        "id": "tMJd6MGLf3jm"
      },
      "source": [
        "## Probability calculation Using Python\n",
        "## Example of the Birthday problem\n",
        "## Define Maximum Group Size\n",
        "n=30\n",
        "## Number of days of a year\n",
        "days=365\n",
        "p=1\n",
        "\n",
        "for i in range (1,n):\n",
        "  avg=days-i\n",
        "  p*=avg/days\n",
        "  print('n=%d, %d/%d, p=%.3f, 1-p=%.3f' %(i+1,avg, days, p*100, (1-p)*100))\n"
      ],
      "execution_count": null,
      "outputs": []
    },
    {
      "cell_type": "code",
      "metadata": {
        "id": "cO2wB5kWh5a_"
      },
      "source": [
        "## Calculating a Bionomial Process and Counting Success\n",
        "from numpy.random import binomial\n",
        "#Define the parameters of the distribution\n",
        "p=0.3\n",
        "k=100\n",
        "#run a single simulation\n",
        "success=binomial(k,p)\n",
        "print('Total Success %d'%success)"
      ],
      "execution_count": null,
      "outputs": []
    },
    {
      "cell_type": "code",
      "metadata": {
        "id": "GWorSHFwjqmR"
      },
      "source": [
        "## Calculating moment of the bionomial distribution\n",
        "from scipy.stats import binom\n",
        "#Define the parameters of the distribution\n",
        "p=0.3\n",
        "k=100\n",
        "#calculate the moment\n",
        "mean,var,_,_=binom.stats(k,p,moments='mvsk')\n",
        "print('Mean = %.3f, Var = %.3f'%(mean,var))"
      ],
      "execution_count": null,
      "outputs": []
    },
    {
      "cell_type": "code",
      "metadata": {
        "id": "8KO9KplElH4O"
      },
      "source": [
        "## produce a few numbers which will follow the normal distribution\n",
        "from numpy.random import normal\n",
        "#define mean and variance values\n",
        "mu=50\n",
        "sigma=5\n",
        "n=10\n",
        "#genarate the numbers\n",
        "numbers=normal(mu,sigma,n)\n",
        "print(numbers)"
      ],
      "execution_count": null,
      "outputs": []
    },
    {
      "cell_type": "code",
      "metadata": {
        "id": "x_OdrSs0mgHk"
      },
      "source": [
        "## Create PDF and CDF from scipy for normal distribution\n",
        "\n",
        "from scipy.stats import norm\n",
        "from matplotlib import pyplot\n",
        "#define distribuion parameters\n",
        "mu=50\n",
        "sigma=4\n",
        "#create distribution\n",
        "dist=norm(mu,sigma)\n",
        "#plot pdf\n",
        "values=[ value for value in range(30,70)]\n",
        "probabilities=[ dist.pdf(value) for value in values]\n",
        "pyplot.plot(values,probabilities)\n",
        "pyplot.show()\n",
        "cprobs=[dist.cdf(value) for value in values]\n",
        "pyplot.plot(values,cprobs)\n",
        "pyplot.show()"
      ],
      "execution_count": null,
      "outputs": []
    },
    {
      "cell_type": "code",
      "metadata": {
        "id": "3gMQVv1noJaa"
      },
      "source": [
        "## Exponentital Distribution\n",
        "from numpy.random import exponential\n",
        "#define the distribution\n",
        "beta=50\n",
        "n=5\n",
        "#generate sample\n",
        "sample=exponential(beta,n)\n",
        "print(sample)\n"
      ],
      "execution_count": null,
      "outputs": []
    },
    {
      "cell_type": "code",
      "metadata": {
        "id": "RFxsoi6Wot-q"
      },
      "source": [
        "## Create PDF and CDF from scipy for exponential  distribution\n",
        "\n",
        "from scipy.stats import expon\n",
        "from matplotlib import pyplot\n",
        "#define distribuion parameters\n",
        "beta=50\n",
        "#create distribution\n",
        "dist=expon(beta)\n",
        "#plot pdf\n",
        "values=[ value for value in range(50,70)]\n",
        "probabilities=[ dist.pdf(value) for value in values]\n",
        "pyplot.plot(values,probabilities)\n",
        "pyplot.show()\n",
        "cprobs=[dist.cdf(value) for value in values]\n",
        "pyplot.plot(values,cprobs)\n",
        "pyplot.show()"
      ],
      "execution_count": null,
      "outputs": []
    },
    {
      "cell_type": "code",
      "metadata": {
        "id": "h8PBGuZYpMhE"
      },
      "source": [
        "## Pareto  Distribution\n",
        "from numpy.random import pareto\n",
        "#define the distribution\n",
        "alpha=1.1\n",
        "n=10\n",
        "#generate sample\n",
        "sample=pareto(alpha,n)\n",
        "print(sample)"
      ],
      "execution_count": null,
      "outputs": []
    },
    {
      "cell_type": "code",
      "metadata": {
        "id": "dRw54ZZLpdcZ"
      },
      "source": [
        "## Create PDF and CDF from scipy for pareto  distribution\n",
        "\n",
        "from scipy.stats import pareto \n",
        "from matplotlib import pyplot\n",
        "#define distribuion parameters\n",
        "alpha=1.5\n",
        "#create distribution\n",
        "dist=expon(alpha)\n",
        "#plot pdf\n",
        "values=[ value/10.0 for value in range(10,100)]\n",
        "probabilities=[ dist.pdf(value) for value in values]\n",
        "pyplot.plot(values,probabilities)\n",
        "pyplot.show()\n",
        "cprobs=[dist.cdf(value) for value in values]\n",
        "pyplot.plot(values,cprobs)\n",
        "pyplot.show()"
      ],
      "execution_count": null,
      "outputs": []
    },
    {
      "cell_type": "code",
      "metadata": {
        "id": "m9X7HJDXrRNS"
      },
      "source": [
        "## generate 1000 samples following normal distribution \n",
        "from numpy.random import normal\n",
        "from matplotlib import pyplot\n",
        "sample=normal(size=1000)\n",
        "#print(sample)\n",
        "pyplot.hist(sample, bins=10)\n",
        "pyplot.show()\n",
        "\n",
        "\n",
        "## generate 1000 samples following normal distribution where mean 50 and standard deviatio is 5\n",
        "sample1=normal(loc=50,scale=5,size=1000)\n",
        "print(sample1.mean())\n",
        "print(sample1.std())\n",
        "#print(sample)\n",
        "pyplot.hist(sample1, bins=10)\n",
        "pyplot.show()"
      ],
      "execution_count": null,
      "outputs": []
    },
    {
      "cell_type": "code",
      "metadata": {
        "id": "jAoXK9sitchu"
      },
      "source": [
        "## Example of Bimodal Data Sample\n",
        "from numpy.random import normal\n",
        "from matplotlib import pyplot\n",
        "from numpy import hstack\n",
        "#generate a sample\n",
        "sample1=normal(loc=20,scale=5,size=1000)\n",
        "sample2=normal(loc=40,scale=5,size=1000)\n",
        "stacking=hstack((sample1,sample2))\n",
        "pyplot.hist(sample, bins=10)\n",
        "pyplot.show()"
      ],
      "execution_count": null,
      "outputs": []
    }
  ]
}