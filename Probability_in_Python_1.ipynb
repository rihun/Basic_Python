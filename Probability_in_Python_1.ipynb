{
  "nbformat": 4,
  "nbformat_minor": 0,
  "metadata": {
    "colab": {
      "name": "Probability_in_Python_1.ipynb",
      "private_outputs": true,
      "provenance": [],
      "collapsed_sections": [],
      "authorship_tag": "ABX9TyOilFcJqslao9JxjcjCXZ/X",
      "include_colab_link": true
    },
    "kernelspec": {
      "name": "python3",
      "display_name": "Python 3"
    },
    "language_info": {
      "name": "python"
    }
  },
  "cells": [
    {
      "cell_type": "markdown",
      "metadata": {
        "id": "view-in-github",
        "colab_type": "text"
      },
      "source": [
        "<a href=\"https://colab.research.google.com/github/rihun/Basic_Python/blob/master/Probability_in_Python_1.ipynb\" target=\"_parent\"><img src=\"https://colab.research.google.com/assets/colab-badge.svg\" alt=\"Open In Colab\"/></a>"
      ]
    },
    {
      "cell_type": "code",
      "metadata": {
        "id": "tMJd6MGLf3jm"
      },
      "source": [
        "## Probability calculation Using Python\n",
        "## Example of the Birthday problem\n",
        "## Define Maximum Group Size\n",
        "n=30\n",
        "## Number of days of a year\n",
        "days=365\n",
        "p=1\n",
        "\n",
        "for i in range (1,n):\n",
        "  avg=days-i\n",
        "  p*=avg/days\n",
        "  print('n=%d, %d/%d, p=%.3f, 1-p=%.3f' %(i+1,avg, days, p*100, (1-p)*100))\n"
      ],
      "execution_count": null,
      "outputs": []
    },
    {
      "cell_type": "code",
      "metadata": {
        "id": "cO2wB5kWh5a_"
      },
      "source": [
        "## Calculating a Bionomial Process and Counting Success\n",
        "from numpy.random import binomial\n",
        "#Define the parameters of the distribution\n",
        "p=0.3\n",
        "k=100\n",
        "#run a single simulation\n",
        "success=binomial(k,p)\n",
        "print('Total Success %d'%success)"
      ],
      "execution_count": null,
      "outputs": []
    },
    {
      "cell_type": "code",
      "metadata": {
        "id": "GWorSHFwjqmR"
      },
      "source": [
        "## Calculating moment of the bionomial distribution\n",
        "from scipy.stats import binom\n",
        "#Define the parameters of the distribution\n",
        "p=0.3\n",
        "k=100\n",
        "#calculate the moment\n",
        "mean,var,_,_=binom.stats(k,p,moments='mvsk')\n",
        "print('Mean = %.3f, Var = %.3f'%(mean,var))"
      ],
      "execution_count": null,
      "outputs": []
    },
    {
      "cell_type": "code",
      "metadata": {
        "id": "8KO9KplElH4O"
      },
      "source": [
        ""
      ],
      "execution_count": null,
      "outputs": []
    }
  ]
}