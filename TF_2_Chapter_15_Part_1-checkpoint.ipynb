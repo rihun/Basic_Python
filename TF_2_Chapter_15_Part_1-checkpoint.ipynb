{
 "cells": [
  {
   "cell_type": "code",
   "execution_count": 1,
   "metadata": {},
   "outputs": [],
   "source": [
    "import tensorflow as tf\n",
    "import numpy as np\n",
    "import pandas as pd\n",
    "import matplotlib.pyplot as plt "
   ]
  },
  {
   "cell_type": "code",
   "execution_count": 15,
   "metadata": {},
   "outputs": [],
   "source": [
    "x_padded=np.array([1, 2, 3, 4 , 5])\n",
    "y_padded=x_padded[2:5]\n",
    "w_rot = (y_padded[::-1])"
   ]
  },
  {
   "cell_type": "code",
   "execution_count": 16,
   "metadata": {},
   "outputs": [
    {
     "name": "stdout",
     "output_type": "stream",
     "text": [
      "[5 4 3]\n"
     ]
    }
   ],
   "source": [
    "print(w_rot)\n",
    "     "
   ]
  },
  {
   "cell_type": "code",
   "execution_count": 26,
   "metadata": {},
   "outputs": [],
   "source": [
    "def convd1(x,w,p=0,s=1):\n",
    "    w_rot=np.array(w[:,:,-1])\n",
    "    x_padded=np.array(x)\n",
    "    res=[]\n",
    "    if p>0:\n",
    "        zero_pad=np.array(shape=p)\n",
    "        x_padded=np.concataneted([zero_pad,x_padded,zero_pad])\n",
    "    for i in range(0,len(x)/s,s):\n",
    "        res.append(np.sum(x_padded[i:w_rot.shape]*w_rot))\n",
    "    return np.array(res)\n",
    "    "
   ]
  },
  {
   "cell_type": "code",
   "execution_count": 40,
   "metadata": {},
   "outputs": [
    {
     "name": "stdout",
     "output_type": "stream",
     "text": [
      "print it: [ 5. 14. 16. 26. 24. 34. 19. 22.]\n"
     ]
    }
   ],
   "source": [
    "print('print it:', conv1d(x,w,p=2, s=1))\n"
   ]
  },
  {
   "cell_type": "code",
   "execution_count": 52,
   "metadata": {},
   "outputs": [],
   "source": [
    "x=np.array([[1, 2, 3],[4,5,6]])\n"
   ]
  },
  {
   "cell_type": "code",
   "execution_count": 53,
   "metadata": {},
   "outputs": [
    {
     "data": {
      "text/plain": [
       "3"
      ]
     },
     "execution_count": 53,
     "metadata": {},
     "output_type": "execute_result"
    }
   ],
   "source": [
    "x.shape[1]"
   ]
  },
  {
   "cell_type": "code",
   "execution_count": 27,
   "metadata": {},
   "outputs": [
    {
     "name": "stdout",
     "output_type": "stream",
     "text": [
      "(3, 2)\n",
      "[3 2]\n",
      "[2]\n"
     ]
    }
   ],
   "source": [
    "p=(3,2)\n",
    "print(p)\n",
    "p[0]\n",
    "p[0]\n",
    "nn=np.array(p)\n",
    "print(nn)\n",
    "na=nn[1:2]\n",
    "print(na)"
   ]
  },
  {
   "cell_type": "code",
   "execution_count": 28,
   "metadata": {},
   "outputs": [],
   "source": [
    "def conv2d(x,w,p=(0,0)):\n",
    "    w_rot=np.array(w)[::-1,::-1]\n",
    "    x_orig=np.array(x)\n",
    "    n1=x_orig.shape[0]+2*p[0]\n",
    "    n2=x_orig.shape[1]+2*p[1]\n",
    "    x_embedded=np.zeros(shape=(n1,n2)) \n",
    "    x_embedded[p[0]:p[0]+x_orig.shape[0],p[1]:p[1]+x_orig.shape[1]]"
   ]
  },
  {
   "cell_type": "code",
   "execution_count": null,
   "metadata": {},
   "outputs": [],
   "source": []
  }
 ],
 "metadata": {
  "kernelspec": {
   "display_name": "Python 3",
   "language": "python",
   "name": "python3"
  },
  "language_info": {
   "codemirror_mode": {
    "name": "ipython",
    "version": 3
   },
   "file_extension": ".py",
   "mimetype": "text/x-python",
   "name": "python",
   "nbconvert_exporter": "python",
   "pygments_lexer": "ipython3",
   "version": "3.6.5"
  }
 },
 "nbformat": 4,
 "nbformat_minor": 2
}
