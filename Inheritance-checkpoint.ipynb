{
 "cells": [
  {
   "cell_type": "code",
   "execution_count": 14,
   "metadata": {},
   "outputs": [
    {
     "name": "stdout",
     "output_type": "stream",
     "text": [
      "Driving Toyota Alian\n",
      "Turning self name  to left\n",
      "Alian is stopping\n"
     ]
    }
   ],
   "source": [
    "#Simple Inheritance Example\n",
    "\n",
    "class Vehicle:\n",
    "    #Docstring\n",
    "    \"\"\"This is the base class or mother calss for all the child class\"\"\"\n",
    "    def __init__(self,name,manufacturer,color):\n",
    "        self.name=name\n",
    "        self.manufacturer=manufacturer\n",
    "        self.color=color\n",
    "    \n",
    "    def drive(self):\n",
    "        print('Driving',self.manufacturer,self.name)\n",
    "    \n",
    "    def turn(self, direction):\n",
    "        print('Turning self name ', 'to', direction)\n",
    "    \n",
    "    def brake(self):\n",
    "        print(self.name,'is stopping')\n",
    "\n",
    "    \n",
    "v1=Vehicle('Alian','Toyota','Red')\n",
    "v1.drive()\n",
    "v1.turn('left')\n",
    "v1.brake()\n",
    " \n"
   ]
  },
  {
   "cell_type": "code",
   "execution_count": 21,
   "metadata": {},
   "outputs": [
    {
     "name": "stdout",
     "output_type": "stream",
     "text": [
      "Rav4 is changing gear to  Stage4\n"
     ]
    }
   ],
   "source": [
    "#Declaring chiled class. It will call the Vehicle class inside it.\n",
    "class Vehicle1(Vehicle):\n",
    "    #Doctring\n",
    "    #This is first child class which call the mother class.\n",
    "    #In this case child class is Vehicle1 and mother class is Vechicle\n",
    "    #In here there  is no constructor for the Vehicle1 class. Vehicle 1 calss will call the\n",
    "    #constructor of Vehicle class\n",
    "    \n",
    "    def change_gear(self,gear_name):\n",
    "        print(self.name,'is changing gear to ', gear_name)\n",
    "\n",
    "v2=Vehicle1('Rav4','Toyota','Red')\n",
    "v2.change_gear('Stage4')\n",
    "\n",
    "#Vehicle1 class has no constructor by its self. It is actually using the constructor of class Vehicle"
   ]
  },
  {
   "cell_type": "code",
   "execution_count": 27,
   "metadata": {},
   "outputs": [
    {
     "name": "stdout",
     "output_type": "stream",
     "text": [
      "This is the new brand car\n",
      "Name of this car is RAV4\n",
      "Manufacturer of this car is  Toyota\n",
      "Color of this car is Red\n",
      "release year of this car is 1986\n",
      "RAV4 Change its gerar to 4\n"
     ]
    }
   ],
   "source": [
    "#In this examle, the child class will have its own constructor. \n",
    "class Vehicle:\n",
    "    #Docstring\n",
    "    \"\"\"This is the base class or mother calss for all the child class\"\"\"\n",
    "    def __init__(self,name,manufacturer,color):\n",
    "        self.name=name\n",
    "        self.manufacturer=manufacturer\n",
    "        self.color=color\n",
    "    \n",
    "    def drive(self):\n",
    "        print('Driving',self.manufacturer,self.name)\n",
    "    \n",
    "    def turn(self, direction):\n",
    "        print('Turning self name ', 'to', direction)\n",
    "    \n",
    "    def brake(self):\n",
    "        print(self.name,'is stopping')\n",
    "\n",
    "#Child class with its own constructor\n",
    "\n",
    "class Car(Vehicle):\n",
    "    #Docstring\n",
    "    \"\"\"This child class has its own constructor\"\"\"\n",
    "    def __init__(self,name,manufacturer,color,year):\n",
    "        self.name=name\n",
    "        self.manufacturer=manufacturer\n",
    "        self.color=color\n",
    "        self.year=year\n",
    "        print('This is the new brand car')\n",
    "        print('Name of this car is', self.name)\n",
    "        print('Manufacturer of this car is ', self.manufacturer)\n",
    "        print('Color of this car is',self.color)\n",
    "        print('release year of this car is',self.year)\n",
    "    def change_gear(self,gear_name):\n",
    "        print(self.name,'Change its gerar to',gear_name)\n",
    "      \n",
    "    \n",
    "V2=Car('RAV4','Toyota','Red',1986)        \n",
    "V2.change_gear(4)        \n"
   ]
  },
  {
   "cell_type": "code",
   "execution_count": 52,
   "metadata": {},
   "outputs": [
    {
     "name": "stdout",
     "output_type": "stream",
     "text": [
      "I am Dr. RIHUN\n",
      "RIHUN 0.9946837099112451\n"
     ]
    }
   ],
   "source": [
    "#https://www.python-course.eu/python3_inheritance.php\n",
    "#Python 3 inheritance practice\n",
    "import random\n",
    "class Robot_doc:\n",
    "    \"\"\"Doctring\"\"\"\n",
    "    def __init__(self,name):\n",
    "        self.name=name\n",
    "        self.healthlevel=random.random()\n",
    "    def say_hy(self):\n",
    "        print('I am Dr.',self.name)\n",
    "    def health_level(self):\n",
    "        if self.healthlevel>0.8:\n",
    "            return True\n",
    "        else:\n",
    "            return False\n",
    "#Declaring sub-class\n",
    "\n",
    "class My_robot_doc(Robot_doc):\n",
    "    \"\"\"Doctring\"\"\"\n",
    "    def say_hy(self):\n",
    "        print('Everything will be okay')\n",
    "    def heal(self,robo):\n",
    "        robo.healthlevel=random.uniform(robo.healthlevel, 1)\n",
    "        print(robo.name,robo.healthlevel)\n",
    "\n",
    "#Calling the main class\n",
    "p1=Robot_doc('RIHUN')\n",
    "p1.say_hy()\n",
    "p1.health_level()\n",
    "\n",
    "#calling the subordinate class\n",
    "p2=My_robot_doc('RIHUN')\n",
    "p2.heal(p1)\n"
   ]
  },
  {
   "cell_type": "code",
   "execution_count": null,
   "metadata": {},
   "outputs": [],
   "source": []
  }
 ],
 "metadata": {
  "kernelspec": {
   "display_name": "Python 3",
   "language": "python",
   "name": "python3"
  },
  "language_info": {
   "codemirror_mode": {
    "name": "ipython",
    "version": 3
   },
   "file_extension": ".py",
   "mimetype": "text/x-python",
   "name": "python",
   "nbconvert_exporter": "python",
   "pygments_lexer": "ipython3",
   "version": "3.6.5"
  }
 },
 "nbformat": 4,
 "nbformat_minor": 2
}
