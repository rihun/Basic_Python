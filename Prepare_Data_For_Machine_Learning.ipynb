{
  "nbformat": 4,
  "nbformat_minor": 0,
  "metadata": {
    "colab": {
      "name": "Prepare_Data_For_Machine_Learning.ipynb",
      "private_outputs": true,
      "provenance": [],
      "mount_file_id": "1iI-20I_wzhrhPA4ivJRw6Xz0yQQHjDF6",
      "authorship_tag": "ABX9TyPCgRDXXuwyYJ4aSVaLFGML",
      "include_colab_link": true
    },
    "kernelspec": {
      "name": "python3",
      "display_name": "Python 3"
    },
    "language_info": {
      "name": "python"
    }
  },
  "cells": [
    {
      "cell_type": "markdown",
      "metadata": {
        "id": "view-in-github",
        "colab_type": "text"
      },
      "source": [
        "<a href=\"https://colab.research.google.com/github/rihun/Basic_Python/blob/master/Prepare_Data_For_Machine_Learning.ipynb\" target=\"_parent\"><img src=\"https://colab.research.google.com/assets/colab-badge.svg\" alt=\"Open In Colab\"/></a>"
      ]
    },
    {
      "cell_type": "code",
      "metadata": {
        "id": "k3qTApUBXUeW"
      },
      "source": [
        "import numpy as np\n",
        "import pandas as pd\n",
        "import csv\n",
        "from numpy import set_printoptions\n",
        "from sklearn.preprocessing import MinMaxScaler\n",
        "#data reaad using CSV file\n",
        "#In order to access the CSV file we need to upload data in google drive.\n",
        "#following line is the google drive address of the CSV file\n",
        "#/content/drive/MyDrive/pima-indians-diabetes.csv\n",
        "names = ['preg', 'plas', 'pres', 'skin', 'test', 'mass', 'pedi', 'age', 'class']\n",
        "pima_data1=pd.read_csv('/content/drive/MyDrive/pima-indians-diabetes.csv', names=names)\n",
        "pima_data11=pd.read_csv('/content/drive/MyDrive/pima-indians-diabetes.csv')\n",
        "#converting all data to NUMPY\n",
        "pima_data2=np.array(pima_data1)\n",
        "print(pima_data1.shape)\n",
        "array=pima_data1.values #this code convert data into numpy\n",
        "X=array[:,0:8]\n",
        "Y=array[:,8]\n",
        "\n",
        "#converting data into numpy array\n",
        "array1=np.array(pima_data1)\n",
        "X1=array1[:,0:8]\n",
        "Y1=array1[:,8]\n",
        "\n",
        "#MinMax Scaler Conversion\n",
        "Scaler=MinMaxScaler(feature_range=(0,1))\n",
        "resclaedX=Scaler.fit_transform(X)\n",
        "#summarized transform data\n",
        "#set_printoptions(precision=3)\n",
        "print(resclaedX[0:5,:])"
      ],
      "execution_count": null,
      "outputs": []
    },
    {
      "cell_type": "code",
      "metadata": {
        "id": "8qYeJBqeLQqz"
      },
      "source": [
        "#Standarized Dataset\n",
        "import numpy as np\n",
        "import pandas as pd\n",
        "import csv\n",
        "from sklearn.preprocessing import StandardScaler\n",
        "#data reaad using CSV file\n",
        "#In order to access the CSV file we need to upload data in google drive.\n",
        "#following line is the google drive address of the CSV file.\n",
        "#/content/drive/MyDrive/pima-indians-diabetes.csv\n",
        "names = ['preg', 'plas', 'pres', 'skin', 'test', 'mass', 'pedi', 'age', 'class']\n",
        "pima_data1=pd.read_csv('/content/drive/MyDrive/pima-indians-diabetes.csv', names=names)\n",
        "pima_data11=pd.read_csv('/content/drive/MyDrive/pima-indians-diabetes.csv')\n",
        "array2=pima_data1.values\n",
        "#separate data and label\n",
        "X2=array2[:,0:8]\n",
        "Y2=array2[:,0]\n",
        "scaler=StandardScaler().fit(X2)\n",
        "rescaledX1=scaler.transform(X2)\n",
        "print(rescaledX1[0:5,:])\n",
        "#we can also do the previous work by the following code\n",
        "#rescaledX2=StandardScaler().fit_transform(X2)\n",
        "#print(rescaledX2[0:5,:])"
      ],
      "execution_count": null,
      "outputs": []
    },
    {
      "cell_type": "code",
      "metadata": {
        "id": "gTbB0jG1rfTF"
      },
      "source": [
        ""
      ],
      "execution_count": null,
      "outputs": []
    },
    {
      "cell_type": "code",
      "metadata": {
        "id": "njsitqRPrkdT"
      },
      "source": [
        "#Normalized  Dataset\n",
        "import numpy as np\n",
        "import pandas as pd\n",
        "import csv\n",
        "from sklearn.preprocessing import Normalizer\n",
        "#data reaad using CSV file\n",
        "#In order to access the CSV file we need to upload data in google drive.\n",
        "#following line is the google drive address of the CSV file.\n",
        "#/content/drive/MyDrive/pima-indians-diabetes.csv\n",
        "names = ['preg', 'plas', 'pres', 'skin', 'test', 'mass', 'pedi', 'age', 'class']\n",
        "pima_data1=pd.read_csv('/content/drive/MyDrive/pima-indians-diabetes.csv', names=names)\n",
        "pima_data11=pd.read_csv('/content/drive/MyDrive/pima-indians-diabetes.csv')\n",
        "array2=pima_data1.values\n",
        "#separate data and label\n",
        "X2=array2[:,0:8]\n",
        "Y2=array2[:,0]\n",
        "scaler=Normalizer().fit(X2)\n",
        "rescaledX1=scaler.transform(X2)\n",
        "print(rescaledX1[0:5,:])\n",
        "#we can also do the previous work by the following code\n",
        "#rescaledX2=StandardScaler().fit_transform(X2)\n",
        "#print(rescaledX2[0:5,:])"
      ],
      "execution_count": null,
      "outputs": []
    },
    {
      "cell_type": "code",
      "metadata": {
        "id": "er7pz1D84enq"
      },
      "source": [
        "#Normalized  Dataset\n",
        "import numpy as np\n",
        "import pandas as pd\n",
        "import csv\n",
        "from sklearn.preprocessing import Binarizer\n",
        "#data reaad using CSV file\n",
        "#In order to access the CSV file we need to upload data in google drive.\n",
        "#following line is the google drive address of the CSV file.\n",
        "#/content/drive/MyDrive/pima-indians-diabetes.csv\n",
        "names = ['preg', 'plas', 'pres', 'skin', 'test', 'mass', 'pedi', 'age', 'class']\n",
        "pima_data1=pd.read_csv('/content/drive/MyDrive/pima-indians-diabetes.csv', names=names)\n",
        "pima_data11=pd.read_csv('/content/drive/MyDrive/pima-indians-diabetes.csv')\n",
        "array2=pima_data1.values\n",
        "#separate data and label\n",
        "X2=array2[:,0:8]\n",
        "Y2=array2[:,0]\n",
        "binarized=Binarizer(threshold=0.72).fit(X2)\n",
        "rescaledX1=binarized.transform(X2)\n",
        "print(rescaledX1[0:5,:])\n",
        "#we can also do the previous work by the following code\n",
        "#rescaledX2=StandardScaler().fit_transform(X2)\n",
        "#print(rescaledX2[0:5,:])"
      ],
      "execution_count": null,
      "outputs": []
    }
  ]
}