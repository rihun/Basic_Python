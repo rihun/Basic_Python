{
  "nbformat": 4,
  "nbformat_minor": 0,
  "metadata": {
    "colab": {
      "name": "KL_Divergence.ipynb",
      "private_outputs": true,
      "provenance": [],
      "authorship_tag": "ABX9TyMl6/hHV2cEKZVaPXKuuY4E",
      "include_colab_link": true
    },
    "kernelspec": {
      "name": "python3",
      "display_name": "Python 3"
    },
    "language_info": {
      "name": "python"
    }
  },
  "cells": [
    {
      "cell_type": "markdown",
      "metadata": {
        "id": "view-in-github",
        "colab_type": "text"
      },
      "source": [
        "<a href=\"https://colab.research.google.com/github/rihun/Basic_Python/blob/master/KL_Divergence.ipynb\" target=\"_parent\"><img src=\"https://colab.research.google.com/assets/colab-badge.svg\" alt=\"Open In Colab\"/></a>"
      ]
    },
    {
      "cell_type": "code",
      "metadata": {
        "id": "CZ2ISNYpMTEy"
      },
      "source": [
        "import numpy\n",
        "from math import log2\n",
        "from matplotlib import pyplot \n",
        "\n",
        "\n",
        "## Calculate the KL divergenc\n",
        "\n",
        "def kl_dv1(p,q):\n",
        "  k=[]\n",
        "  for i in range (len(p)):\n",
        "    k1=p[i]*log2(p[i]/q[i])\n",
        "    k.append(k1)\n",
        "  return sum(k)\n",
        "## Define Distribution\n",
        "events=['r','g','y']\n",
        "p=[0.10, 0.40, 0.50]\n",
        "q=[0.80,0.15,0.15]\n",
        "print('p=%.3f, q=%.3f'%(sum(p), sum(q)))\n",
        "#plot the first distribution\n",
        "pyplot.subplot(2,1,1)\n",
        "pyplot.bar(events,p)\n",
        "#plot the second  distribution\n",
        "pyplot.subplot(2,1,2)\n",
        "pyplot.bar(events,q)\n",
        "pyplot.show()\n",
        "\n",
        "##divergnece of P||Q\n",
        "kl_pq=kl_dv1(p,q)\n",
        "print('p||q divergence=%.3f'% kl_pq)\n",
        "\n",
        "##divergence of Q|| P\n",
        "kl_qp=kl_dv1(q,p)\n",
        "print( 'q||p divergence=%.3f'% kl_qp)\n"
      ],
      "execution_count": null,
      "outputs": []
    },
    {
      "cell_type": "code",
      "metadata": {
        "id": "voUbQstMWbCr"
      },
      "source": [
        "## KL divergence using python functon \n",
        "from scipy.special import rel_entr\n",
        "#deifne distribution\n",
        "p=[0.10, 0.40, 0.50]\n",
        "q=[0.80,0.15,0.15]\n",
        "\n",
        "kl_pq=rel_entr(p,q)\n",
        "kl_qp=rel_entr(q,p)\n",
        "\n",
        "print('p||q divergence=%.3f nats'% sum(kl_pq))\n",
        "print( 'q||p divergence=%.3f nats'% sum(kl_qp))\n"
      ],
      "execution_count": null,
      "outputs": []
    },
    {
      "cell_type": "code",
      "metadata": {
        "id": "rJuyAh5ZREgI"
      },
      "source": [
        "## Jension Shannon Divergence \n",
        "import numpy\n",
        "from math import log2\n",
        "from matplotlib import pyplot \n",
        "\n",
        "## Calculate the KL divergenc\n",
        "def kl_dv(p,q):\n",
        "  return sum(p[i]*log2(p[i]/q[i])for i in range (len(p)))\n",
        "\n",
        "def mm(p,q):\n",
        "  return (p+q)\n",
        "\n",
        "\n",
        "def jn_dv(p,q):\n",
        "  #m = 0.5*(p+q)\n",
        "  return 0.5*kl_dv(p,mm(p,q))+0.5*kl_dv(q,mm(p,q))\n",
        "p=[0.10, 0.40, 0.50]\n",
        "q=[0.80,0.15,0.15]\n",
        "print(jn_dv(p,q))\n"
      ],
      "execution_count": null,
      "outputs": []
    }
  ]
}