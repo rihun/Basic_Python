{
 "cells": [
  {
   "cell_type": "code",
   "execution_count": 15,
   "metadata": {},
   "outputs": [
    {
     "name": "stdout",
     "output_type": "stream",
     "text": [
      "('Apple', 'Banana')\n",
      "Apple Banana\n"
     ]
    },
    {
     "data": {
      "text/plain": [
       "'Banana'"
      ]
     },
     "execution_count": 15,
     "metadata": {},
     "output_type": "execute_result"
    }
   ],
   "source": [
    "#unpacking sequence in Python\n",
    "#Problem 1: You have an N-element tuple or sequence that you would like to unpack into a collection of N variables.\n",
    "#A sequence or iterable can be unpack and place their values into separate  variable\n",
    "\n",
    "Fruits=('Apple','Banana')\n",
    "print(Fruits)\n",
    "A1,A2=Fruits\n",
    "print( A1, A2)\n",
    "A1\n",
    "A2"
   ]
  },
  {
   "cell_type": "code",
   "execution_count": 10,
   "metadata": {},
   "outputs": [
    {
     "name": "stdout",
     "output_type": "stream",
     "text": [
      "[1, 2, 3, 4, (1, 2, 2), 'JANUARY']\n",
      "(1, 2, 2)\n",
      "1 2 2 JANUARY\n"
     ]
    }
   ],
   "source": [
    "Data=[1,2,3,4,(1,2,2), 'JANUARY']\n",
    "print(Data)\n",
    "x,y,z,a,date,month=Data\n",
    "print(date)\n",
    "x,y,z,a,(date1,date2,date3),month=Data\n",
    "print(date1,date2,date3,month)"
   ]
  },
  {
   "cell_type": "code",
   "execution_count": 17,
   "metadata": {},
   "outputs": [
    {
     "name": "stdout",
     "output_type": "stream",
     "text": [
      "NAHID\n",
      "N\n",
      "A\n",
      "H\n",
      "I\n",
      "D\n"
     ]
    }
   ],
   "source": [
    "#you can read string also\n",
    "DATA='NAHID'\n",
    "print(DATA)\n",
    "a,b,c,d,e=DATA\n",
    "print(a)\n",
    "print(b)\n",
    "print(c)\n",
    "print(d)\n",
    "print(e)"
   ]
  },
  {
   "cell_type": "code",
   "execution_count": null,
   "metadata": {},
   "outputs": [],
   "source": []
  }
 ],
 "metadata": {
  "kernelspec": {
   "display_name": "Python 3",
   "language": "python",
   "name": "python3"
  },
  "language_info": {
   "codemirror_mode": {
    "name": "ipython",
    "version": 3
   },
   "file_extension": ".py",
   "mimetype": "text/x-python",
   "name": "python",
   "nbconvert_exporter": "python",
   "pygments_lexer": "ipython3",
   "version": "3.6.5"
  }
 },
 "nbformat": 4,
 "nbformat_minor": 2
}
