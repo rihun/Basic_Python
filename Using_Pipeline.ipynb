{
  "nbformat": 4,
  "nbformat_minor": 0,
  "metadata": {
    "colab": {
      "name": "Using_Pipeline.ipynb",
      "private_outputs": true,
      "provenance": [],
      "mount_file_id": "1JLV8_aCBGVrzlV5e7gj7TkJVoHtPIFBw",
      "authorship_tag": "ABX9TyMrTooX67FMvJCjKNvjfCb6",
      "include_colab_link": true
    },
    "kernelspec": {
      "name": "python3",
      "display_name": "Python 3"
    },
    "language_info": {
      "name": "python"
    }
  },
  "cells": [
    {
      "cell_type": "markdown",
      "metadata": {
        "id": "view-in-github",
        "colab_type": "text"
      },
      "source": [
        "<a href=\"https://colab.research.google.com/github/rihun/Basic_Python/blob/master/Using_Pipeline.ipynb\" target=\"_parent\"><img src=\"https://colab.research.google.com/assets/colab-badge.svg\" alt=\"Open In Colab\"/></a>"
      ]
    },
    {
      "cell_type": "code",
      "metadata": {
        "id": "YzdWCRgBN6Vw"
      },
      "source": [
        "#First Machine Learning Algorithm for Practice\n",
        "import numpy as np\n",
        "import pandas \n",
        "import csv\n",
        "from pandas.plotting import scatter_matrix\n",
        "from matplotlib import pyplot\n",
        "from sklearn.model_selection import train_test_split, KFold, cross_val_score\n",
        "from sklearn.metrics import classification_report, confusion_matrix, accuracy_score\n",
        "from sklearn.linear_model import LogisticRegression\n",
        "from sklearn.tree import DecisionTreeClassifier\n",
        "from sklearn.neighbors import KNeighborsClassifier\n",
        "from sklearn.discriminant_analysis import LinearDiscriminantAnalysis\n",
        "from sklearn.naive_bayes import GaussianNB\n",
        "from sklearn.svm import SVC\n",
        "from sklearn.pipeline import Pipeline,FeatureUnion\n",
        "from sklearn.decomposition import  PCA \n",
        "from sklearn.feature_selection import SelectKBest\n",
        "\n",
        "\n",
        "#data reaad using CSV file\n",
        "#In order to access the CSV file we need to upload data in google drive.\n",
        "#following line is the google drive address of the CSV file.\n",
        "#/content/drive/MyDrive/pima-indians-diabetes.csv\n",
        "names = ['preg', 'plas', 'pres', 'skin', 'test', 'mass', 'pedi', 'age', 'class']\n",
        "pima_data1=pandas.read_csv('/content/drive/MyDrive/pima-indians-diabetes.csv', names=names)\n",
        "#pima_data11=pd.read_csv('/content/drive/MyDrive/pima-indians-diabetes.csv')\n",
        "pima_data11=pima_data1.values\n",
        "X=pima_data11[:,0:8]\n",
        "Y=pima_data11[:,8]\n",
        "testsize=0.3\n",
        "seed=7\n",
        "\n",
        "#create feature union\n",
        "features=[]\n",
        "features.append(('pca', PCA(n_components=3)))\n",
        "features.append(('select_best', SelectKBest(k=3)))\n",
        "## Feature Union Allow to concat  features from two differnt features engineering\n",
        "feature_Union=FeatureUnion(features)\n",
        "\n",
        "## Using pipeline \n",
        "## pipeline allows a sequence of transform and lastly apply a classifier\n",
        "estimators=[]\n",
        "estimators.append(('f_u', feature_Union))\n",
        "estimators.append(('svm', DecisionTreeClassifier() ))\n",
        "model=Pipeline(estimators)\n",
        "\n",
        "## Evaluate Pipeline\n",
        "\n",
        "kfold=KFold(n_splits=2, random_state=1, shuffle=True)\n",
        "results=cross_val_score(model,X,Y,cv=kfold)\n",
        "print(results.max)\n"
      ],
      "execution_count": null,
      "outputs": []
    }
  ]
}