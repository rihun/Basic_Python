{
  "nbformat": 4,
  "nbformat_minor": 0,
  "metadata": {
    "colab": {
      "name": "Optimization.ipynb",
      "private_outputs": true,
      "provenance": [],
      "mount_file_id": "1nu2FgmS1eQ9e6qyCKtgIRaK3qcSRBwWD",
      "authorship_tag": "ABX9TyN+zLPPSj+zvFOsN3pDul0d",
      "include_colab_link": true
    },
    "kernelspec": {
      "name": "python3",
      "display_name": "Python 3"
    },
    "language_info": {
      "name": "python"
    }
  },
  "cells": [
    {
      "cell_type": "markdown",
      "metadata": {
        "id": "view-in-github",
        "colab_type": "text"
      },
      "source": [
        "<a href=\"https://colab.research.google.com/github/rihun/Basic_Python/blob/master/Optimization.ipynb\" target=\"_parent\"><img src=\"https://colab.research.google.com/assets/colab-badge.svg\" alt=\"Open In Colab\"/></a>"
      ]
    },
    {
      "cell_type": "code",
      "metadata": {
        "id": "AKkWbvDTln2c"
      },
      "source": [
        "#Grid Search \n",
        "import numpy as np\n",
        "import pandas \n",
        "import csv\n",
        "from pandas.plotting import scatter_matrix\n",
        "from matplotlib import pyplot\n",
        "from sklearn.model_selection import train_test_split, KFold, cross_val_score, GridSearchCV\n",
        "from sklearn.metrics import classification_report, confusion_matrix, accuracy_score\n",
        "from sklearn.linear_model import LogisticRegression, Ridge \n",
        "from sklearn.tree import DecisionTreeClassifier\n",
        "from sklearn.ensemble import BaggingClassifier, RandomForestClassifier,AdaBoostClassifier,GradientBoostingClassifier\n",
        "from sklearn.ensemble import VotingClassifier\n",
        "from sklearn.neighbors import KNeighborsClassifier\n",
        "from sklearn.discriminant_analysis import LinearDiscriminantAnalysis\n",
        "from sklearn.naive_bayes import GaussianNB\n",
        "from sklearn.svm import SVC\n",
        "from sklearn.pipeline import Pipeline,FeatureUnion\n",
        "from sklearn.decomposition import  PCA \n",
        "from sklearn.feature_selection import SelectKBest\n",
        "\n",
        "\n",
        "#data reaad using CSV file\n",
        "#In order to access the CSV file we need to upload data in google drive.\n",
        "#following line is the google drive address of the CSV file.\n",
        "#/content/drive/MyDrive/pima-indians-diabetes.csv\n",
        "names = ['preg', 'plas', 'pres', 'skin', 'test', 'mass', 'pedi', 'age', 'class']\n",
        "pima_data1=pandas.read_csv('/content/drive/MyDrive/pima-indians-diabetes.csv', names=names)\n",
        "#pima_data11=pd.read_csv('/content/drive/MyDrive/pima-indians-diabetes.csv')\n",
        "pima_data11=pima_data1.values\n",
        "X=pima_data11[:,0:8]\n",
        "Y=pima_data11[:,8]\n",
        "testsize=0.3\n",
        "seed=7\n",
        "seed=7\n",
        "model=Ridge()\n",
        "alphas=np.array([1,0.1,0.01,0.001,0])\n",
        "param_grid=dict(alpha=alphas)\n",
        "grid=GridSearchCV(estimator=model, param_grid=param_grid)\n",
        "grid.fit(X,Y)\n",
        "## Evaluate Pipeline\n",
        "\n",
        "print(grid.best_score_)\n",
        "print(grid.best_estimator_.alpha)\n",
        "print(grid.scoring)"
      ],
      "execution_count": null,
      "outputs": []
    },
    {
      "cell_type": "code",
      "metadata": {
        "id": "JmI3DQczqwu2"
      },
      "source": [
        "#Grid Search \n",
        "import numpy as np\n",
        "import scipy.stats as uniform\n",
        "import pandas \n",
        "import csv\n",
        "from pandas.plotting import scatter_matrix\n",
        "from matplotlib import pyplot\n",
        "from sklearn.model_selection import train_test_split, KFold, cross_val_score, GridSearchCV, RandomizedSearchCV\n",
        "from sklearn.metrics import classification_report, confusion_matrix, accuracy_score\n",
        "from sklearn.linear_model import LogisticRegression, Ridge \n",
        "from sklearn.tree import DecisionTreeClassifier\n",
        "from sklearn.ensemble import BaggingClassifier, RandomForestClassifier,AdaBoostClassifier,GradientBoostingClassifier\n",
        "from sklearn.ensemble import VotingClassifier\n",
        "from sklearn.neighbors import KNeighborsClassifier\n",
        "from sklearn.discriminant_analysis import LinearDiscriminantAnalysis\n",
        "from sklearn.naive_bayes import GaussianNB\n",
        "from sklearn.svm import SVC\n",
        "from sklearn.pipeline import Pipeline,FeatureUnion\n",
        "from sklearn.decomposition import  PCA \n",
        "from sklearn.feature_selection import SelectKBest\n",
        "\n",
        "\n",
        "#data reaad using CSV file\n",
        "#In order to access the CSV file we need to upload data in google drive.\n",
        "#following line is the google drive address of the CSV file.\n",
        "#/content/drive/MyDrive/pima-indians-diabetes.csv\n",
        "names = ['preg', 'plas', 'pres', 'skin', 'test', 'mass', 'pedi', 'age', 'class']\n",
        "pima_data1=pandas.read_csv('/content/drive/MyDrive/pima-indians-diabetes.csv', names=names)\n",
        "#pima_data11=pd.read_csv('/content/drive/MyDrive/pima-indians-diabetes.csv')\n",
        "pima_data11=pima_data1.values\n",
        "X=pima_data11[:,0:8]\n",
        "Y=pima_data11[:,8]\n",
        "testsize=0.3\n",
        "seed=7\n",
        "seed=7\n",
        "model=Ridge()\n",
        "#param_grid= { 'alpha' : uniform()}\n",
        "grid=RandomizedSearchCV(estimator=model, param_distributions=uniform(),n_iter=100, random_state=7)\n",
        "grid.fit(X,Y)\n",
        "## Evaluate Pipeline\n",
        "\n",
        "print(grid.best_score_)\n",
        "print(grid.best_estimator_.alpha)\n",
        "print(grid.scoring)"
      ],
      "execution_count": null,
      "outputs": []
    }
  ]
}