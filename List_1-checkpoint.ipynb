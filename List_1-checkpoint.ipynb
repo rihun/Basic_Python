{
 "cells": [
  {
   "cell_type": "code",
   "execution_count": 6,
   "metadata": {},
   "outputs": [
    {
     "name": "stdout",
     "output_type": "stream",
     "text": [
      "[1, 2, 3, 4, 5]\n",
      "[1, 2, 3, 'Nahid', 'Rihun']\n",
      "[1, 2, 3, 'Nahid', 'Rihun', 3.14]\n"
     ]
    }
   ],
   "source": [
    "# In python programmming a list start with [ and end with].\n",
    "# Each elements of a list is separated by a ,.\n",
    "# Element of a list is different.\n",
    "#list indexing starts from 0\n",
    "#In list negative addressing is possible\n",
    "\n",
    "#list_1\n",
    "list_1=[1,2,3,4,5]\n",
    "print(list_1)\n",
    "list_2=[1,2,3, \"Nahid\", \"Rihun\"]\n",
    "print(list_2)\n",
    "list_3=[1,2,3, 'Nahid', 'Rihun', 3.14]\n",
    "print(list_3)\n"
   ]
  },
  {
   "cell_type": "code",
   "execution_count": 29,
   "metadata": {},
   "outputs": [
    {
     "name": "stdout",
     "output_type": "stream",
     "text": [
      "1\n",
      "[1, 2, 3, 4, 5, 6, 7, 8, 9]\n",
      "[1, 2, 3, 4, 5, 6, 7, 8]\n",
      "9\n",
      "[3, 4, 5]\n",
      "[1, 2, 3, 4, 5]\n"
     ]
    }
   ],
   "source": [
    "#Access item from a list\n",
    "list_5=[1,2,3,4,5,6,7,8,9]\n",
    "print(list_5[0])\n",
    "#Read all the value from a list\n",
    "list_6=[1,2,3,4,5,6,7,8,9]\n",
    "print(list_6[0:])\n",
    "#Read all the value from a list except the last value\n",
    "list_7=[1,2,3,4,5,6,7,8,9]\n",
    "print(list_7[0:-1])\n",
    "#Read the last value of a list\n",
    "list_7=[1,2,3,4,5,6,7,8,9]\n",
    "print(list_7[-1])\n",
    "#range of indexing. From the following coding you can acces values from the index 2 to 5[Exclusing 5][Indexing is start from 0]\n",
    "list_8=[1,2,3,4,5,6,7,8,9]\n",
    "print(list_8[2:5])\n",
    "#Indexing from beginning to a particular position. Start from 0\n",
    "list_8=[1,2,3,4,5,6,7,8,9]\n",
    "print(list_8[0:5])"
   ]
  },
  {
   "cell_type": "code",
   "execution_count": 26,
   "metadata": {},
   "outputs": [
    {
     "name": "stdout",
     "output_type": "stream",
     "text": [
      "[1, 2, 3, 4, 5, 6, 7, 8, 9]\n",
      "[1, 2, 3, 4, 5, 6, 7, 8, 9, 5]\n"
     ]
    }
   ],
   "source": [
    "#Add extra value at the next of the last position of a list.\n",
    "list_4=[1,2,3,4,5,6,7,8,9]\n",
    "print(list_4)\n",
    "list_4.append(5)\n",
    "print(list_4)"
   ]
  },
  {
   "cell_type": "code",
   "execution_count": 4,
   "metadata": {},
   "outputs": [
    {
     "name": "stdout",
     "output_type": "stream",
     "text": [
      "[1, 2, 3, 4, 5, 6, 7, 8, 9]\n",
      "[6, 7, 8]\n"
     ]
    }
   ],
   "source": [
    "#Negetive indexing range\n",
    "list_9=[1,2,3,4,5,6,7,8,9]\n",
    "print(list_9)\n",
    "list_9_negative_iindex=list_9[-4:-1]\n",
    "print(list_9_negative_iindex)"
   ]
  },
  {
   "cell_type": "code",
   "execution_count": 3,
   "metadata": {},
   "outputs": [
    {
     "name": "stdout",
     "output_type": "stream",
     "text": [
      "[1, 2, 3, 4, 5, 6, 7, 8, 9]\n",
      "[1, 2, 33, 8, 4, 5, 6, 7, 8, 9]\n"
     ]
    }
   ],
   "source": [
    "#Updating value or values of a list\n",
    "list_10=[1,2,3,4,5,6,7,8,9]\n",
    "print(list_10)\n",
    "list_10[2:3]=[33,8]\n",
    "print(list_10)"
   ]
  },
  {
   "cell_type": "code",
   "execution_count": 7,
   "metadata": {},
   "outputs": [
    {
     "name": "stdout",
     "output_type": "stream",
     "text": [
      "[1, 2, 3, 4, 5, 6, 7, 8, 9]\n",
      "[33, 8, 'COCO', 3, 4, 5, 6, 7, 8, 9]\n"
     ]
    }
   ],
   "source": [
    "#Updating value or values of a list\n",
    "list_11=[1,2,3,4,5,6,7,8,9]\n",
    "print(list_11)\n",
    "list_11[0:2]=[33,8,\"COCO\"]\n",
    "print(list_11)"
   ]
  },
  {
   "cell_type": "code",
   "execution_count": 13,
   "metadata": {},
   "outputs": [
    {
     "name": "stdout",
     "output_type": "stream",
     "text": [
      "9\n"
     ]
    }
   ],
   "source": [
    "#Basic lists operation\n",
    "#Length operatin \n",
    "list_12=[1,2,3,4,5,6,7,8,9]\n",
    "print(len(list_12))"
   ]
  },
  {
   "cell_type": "code",
   "execution_count": 17,
   "metadata": {},
   "outputs": [
    {
     "name": "stdout",
     "output_type": "stream",
     "text": [
      "[1, 2, 3, 4, 5, 6, 7, 8, 9, 'Nahid', 'ECE', 'CSE', 'KU']\n"
     ]
    }
   ],
   "source": [
    "#Basic lists operation\n",
    "#Concatanation operatin \n",
    "list_13=[1,2,3,4,5,6,7,8,9]\n",
    "list_14=[\"Nahid\", \"ECE\", \"CSE\", \"KU\"]\n",
    "list_15=list_13+list_14\n",
    "print(list_15)"
   ]
  },
  {
   "cell_type": "code",
   "execution_count": 21,
   "metadata": {},
   "outputs": [
    {
     "name": "stdout",
     "output_type": "stream",
     "text": [
      "[1, 2, 3, 4, 5, 6, 7, 8, 9, 1, 2, 3, 4, 5, 6, 7, 8, 9]\n"
     ]
    }
   ],
   "source": [
    "#Basic lists operation\n",
    "#Repetation  operatin \n",
    "list_16=[1,2,3,4,5,6,7,8,9]\n",
    "#list_14=[\"Nahid\", \"ECE\", \"CSE\", \"KU\"]\n",
    "list_17=list_16*2\n",
    "print(list_17)"
   ]
  },
  {
   "cell_type": "code",
   "execution_count": 26,
   "metadata": {},
   "outputs": [
    {
     "data": {
      "text/plain": [
       "True"
      ]
     },
     "execution_count": 26,
     "metadata": {},
     "output_type": "execute_result"
    }
   ],
   "source": [
    "#Basic lists operation\n",
    "#Membership  operatin\n",
    "list_18=[1,2,3,4,5,6,7,8,9]\n",
    "10 in list_18\n",
    "5 in list_18"
   ]
  },
  {
   "cell_type": "code",
   "execution_count": 28,
   "metadata": {},
   "outputs": [
    {
     "name": "stdout",
     "output_type": "stream",
     "text": [
      "1\n",
      "2\n",
      "3\n",
      "4\n",
      "5\n",
      "6\n",
      "7\n",
      "8\n",
      "9\n"
     ]
    }
   ],
   "source": [
    "#Basic lists operation\n",
    "#Iterartion   operatin\n",
    "list_19=[1,2,3,4,5,6,7,8,9]\n",
    "for x in list_19:\n",
    "    print(x)"
   ]
  },
  {
   "cell_type": "code",
   "execution_count": 36,
   "metadata": {},
   "outputs": [
    {
     "data": {
      "text/plain": [
       "9"
      ]
     },
     "execution_count": 36,
     "metadata": {},
     "output_type": "execute_result"
    }
   ],
   "source": [
    "#Basic lists operation\n",
    "#Finding maximum value in a list\n",
    "list_20=[1,2,3,4,5,6,7,8,9]\n",
    "max(list_20)"
   ]
  },
  {
   "cell_type": "code",
   "execution_count": 38,
   "metadata": {},
   "outputs": [
    {
     "data": {
      "text/plain": [
       "1"
      ]
     },
     "execution_count": 38,
     "metadata": {},
     "output_type": "execute_result"
    }
   ],
   "source": [
    "#Basic lists operation\n",
    "#Finding minimum value in a list\n",
    "list_21=[1,2,3,4,5,6,7,8,9]\n",
    "min(list_21)"
   ]
  },
  {
   "cell_type": "code",
   "execution_count": 42,
   "metadata": {},
   "outputs": [
    {
     "name": "stdout",
     "output_type": "stream",
     "text": [
      "(1, 2, 3, 4, 5, 6, 7, 8, 9)\n",
      "[1, 2, 3, 4, 5, 6, 7, 8, 9]\n"
     ]
    }
   ],
   "source": [
    "#Basic list operation\n",
    "#Converts a tuple into list.\n",
    "tuple_1=(1,2,3,4,5,6,7,8,9)\n",
    "print(tuple_1)\n",
    "list_22=list(tuple_1)\n",
    "print(list_22)"
   ]
  },
  {
   "cell_type": "code",
   "execution_count": 47,
   "metadata": {},
   "outputs": [
    {
     "name": "stdout",
     "output_type": "stream",
     "text": [
      "3\n"
     ]
    }
   ],
   "source": [
    "#Basic list operation\n",
    "#Pop data from list\n",
    "list_24=[1,2,3,4,5,6,7,8,9]\n",
    "print(list_24.pop(2))\n",
    "#print(list_21[3])"
   ]
  },
  {
   "cell_type": "code",
   "execution_count": 56,
   "metadata": {},
   "outputs": [
    {
     "name": "stdout",
     "output_type": "stream",
     "text": [
      "[1, 2, 3, 4, 4, 5, 6, 6, 7, 8, 9, 10]\n"
     ]
    }
   ],
   "source": [
    "#Basic list operation\n",
    "#sort data of a list \n",
    "list_25=[1,2,3,4,5,6,7,8,9, 10, 4,6]\n",
    "list_25.sort()\n",
    "print(list_25)\n"
   ]
  },
  {
   "cell_type": "code",
   "execution_count": 57,
   "metadata": {},
   "outputs": [
    {
     "name": "stdout",
     "output_type": "stream",
     "text": [
      "[6, 4, 10, 9, 8, 7, 6, 5, 4, 3, 2, 1]\n"
     ]
    }
   ],
   "source": [
    "#Basic list operation\n",
    "#Reversse data of a list \n",
    "list_25=[1,2,3,4,5,6,7,8,9, 10, 4,6]\n",
    "list_25.reverse()\n",
    "print(list_25)"
   ]
  },
  {
   "cell_type": "code",
   "execution_count": 62,
   "metadata": {},
   "outputs": [
    {
     "ename": "NameError",
     "evalue": "name 'list_26' is not defined",
     "output_type": "error",
     "traceback": [
      "\u001b[1;31m---------------------------------------------------------------------------\u001b[0m",
      "\u001b[1;31mNameError\u001b[0m                                 Traceback (most recent call last)",
      "\u001b[1;32m<ipython-input-62-ca8a500a4688>\u001b[0m in \u001b[0;36m<module>\u001b[1;34m()\u001b[0m\n\u001b[0;32m      4\u001b[0m \u001b[0mlist_26\u001b[0m\u001b[1;33m=\u001b[0m\u001b[1;33m[\u001b[0m\u001b[1;36m1\u001b[0m\u001b[1;33m,\u001b[0m\u001b[1;36m2\u001b[0m\u001b[1;33m,\u001b[0m\u001b[1;36m3\u001b[0m\u001b[1;33m,\u001b[0m\u001b[1;36m4\u001b[0m\u001b[1;33m,\u001b[0m\u001b[1;36m5\u001b[0m\u001b[1;33m,\u001b[0m\u001b[1;36m6\u001b[0m\u001b[1;33m,\u001b[0m\u001b[1;36m7\u001b[0m\u001b[1;33m,\u001b[0m\u001b[1;36m8\u001b[0m\u001b[1;33m,\u001b[0m\u001b[1;36m9\u001b[0m\u001b[1;33m,\u001b[0m \u001b[1;36m10\u001b[0m\u001b[1;33m,\u001b[0m \u001b[1;36m4\u001b[0m\u001b[1;33m,\u001b[0m\u001b[1;36m6\u001b[0m\u001b[1;33m]\u001b[0m\u001b[1;33m\u001b[0m\u001b[0m\n\u001b[0;32m      5\u001b[0m \u001b[1;32mdel\u001b[0m \u001b[0mlist_26\u001b[0m\u001b[1;33m\u001b[0m\u001b[0m\n\u001b[1;32m----> 6\u001b[1;33m \u001b[0mprint\u001b[0m \u001b[1;33m(\u001b[0m\u001b[0mlist_26\u001b[0m\u001b[1;33m)\u001b[0m\u001b[1;33m\u001b[0m\u001b[0m\n\u001b[0m",
      "\u001b[1;31mNameError\u001b[0m: name 'list_26' is not defined"
     ]
    }
   ],
   "source": [
    "#Basic list operation\n",
    "#del operation\n",
    "#delete whole list\n",
    "list_26=[1,2,3,4,5,6,7,8,9, 10, 4,6]\n",
    "del list_26\n",
    "#print (list_26)"
   ]
  },
  {
   "cell_type": "code",
   "execution_count": 64,
   "metadata": {},
   "outputs": [
    {
     "name": "stdout",
     "output_type": "stream",
     "text": [
      "[]\n"
     ]
    }
   ],
   "source": [
    "#Basic list operation\n",
    "#clear  operation\n",
    "#emty the list\n",
    "list_27=[1,2,3,4,5,6,7,8,9, 10, 4,6]\n",
    "list_27.clear()\n",
    "print (list_27)"
   ]
  },
  {
   "cell_type": "code",
   "execution_count": 70,
   "metadata": {},
   "outputs": [
    {
     "name": "stdout",
     "output_type": "stream",
     "text": [
      "[1, 2, 3, 4, 5, 6, 7, 8, 9, 10, 4, 6]\n",
      "[1, 2, 3, 4, 5, 6, 7, 8, 9, 10, 4, 6]\n",
      "[1, 2, 3, 4, 5, 6, 7, 8, 9, 10, 4, 6]\n"
     ]
    }
   ],
   "source": [
    "#Basic list operation\n",
    "#copy   operation\n",
    "list_28=[1,2,3,4,5,6,7,8,9, 10, 4,6]\n",
    "list_29=list_28\n",
    "print(list_29)\n",
    "list_30=list_29.copy()\n",
    "print(list_30)\n",
    "list_31=list(list_29)\n",
    "print(list_31)\n"
   ]
  },
  {
   "cell_type": "code",
   "execution_count": 75,
   "metadata": {},
   "outputs": [
    {
     "name": "stdout",
     "output_type": "stream",
     "text": [
      "[1, 2, 3, 4, 5, 6, 7, 8, 9, 'ECE', 'CSE', 'ARCHI', 'MATH', 'PHYSICS']\n"
     ]
    }
   ],
   "source": [
    "#Basic list operation\n",
    "#Append two list  \n",
    "list_32=[1,2,3,4,5,6,7,8,9]\n",
    "list_33=['ECE','CSE','ARCHI', 'MATH','PHYSICS']\n",
    "for i in list_33:\n",
    "    list_32.append(i)\n",
    "print(list_32)\n"
   ]
  },
  {
   "cell_type": "code",
   "execution_count": 78,
   "metadata": {},
   "outputs": [
    {
     "name": "stdout",
     "output_type": "stream",
     "text": [
      "['ECE', 2, 'CSE', 4, 'ARCHI', 6, 'MATH', 8, 'PHYSICS']\n"
     ]
    }
   ],
   "source": [
    "#Basic list operation\n",
    "#Append two list  \n",
    "list_32=[1,2,3,4,5,6,7,8,9]\n",
    "list_33=['ECE','CSE','ARCHI', 'MATH','PHYSICS']\n",
    "j=0\n",
    "for i in list_33:\n",
    "    list_32[j]=i\n",
    "    j=j+2\n",
    "print(list_32)"
   ]
  },
  {
   "cell_type": "code",
   "execution_count": null,
   "metadata": {},
   "outputs": [],
   "source": []
  }
 ],
 "metadata": {
  "kernelspec": {
   "display_name": "Python 3",
   "language": "python",
   "name": "python3"
  },
  "language_info": {
   "codemirror_mode": {
    "name": "ipython",
    "version": 3
   },
   "file_extension": ".py",
   "mimetype": "text/x-python",
   "name": "python",
   "nbconvert_exporter": "python",
   "pygments_lexer": "ipython3",
   "version": "3.6.5"
  }
 },
 "nbformat": 4,
 "nbformat_minor": 2
}
