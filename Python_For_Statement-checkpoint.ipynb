{
 "cells": [
  {
   "cell_type": "code",
   "execution_count": 6,
   "metadata": {},
   "outputs": [
    {
     "name": "stdout",
     "output_type": "stream",
     "text": [
      "N\n",
      "A\n",
      "H\n",
      "I\n",
      "D\n",
      "ECE\n",
      "CSE\n",
      "ARCHI\n",
      "ECE\n",
      "CSE\n",
      "[1, 2, 3, 4]\n"
     ]
    }
   ],
   "source": [
    "#Python for statement\n",
    "#A for loop is used for iterating over a sequence (that is either a list, a tuple, a dictionary, a set, or a string).\n",
    "#for iterating_var in sequence:\n",
    "   #statements(s)\n",
    "for letter in 'NAHID':\n",
    "    print (letter)\n",
    "\n",
    "for i in ['ECE','CSE','ARCHI']:\n",
    "    print(i)\n",
    "for i in ['ECE','CSE',[1,2,3,4]]:\n",
    "    print(i)"
   ]
  },
  {
   "cell_type": "code",
   "execution_count": null,
   "metadata": {},
   "outputs": [],
   "source": [
    "#Iterating by Sequence Index"
   ]
  }
 ],
 "metadata": {
  "kernelspec": {
   "display_name": "Python 3",
   "language": "python",
   "name": "python3"
  },
  "language_info": {
   "codemirror_mode": {
    "name": "ipython",
    "version": 3
   },
   "file_extension": ".py",
   "mimetype": "text/x-python",
   "name": "python",
   "nbconvert_exporter": "python",
   "pygments_lexer": "ipython3",
   "version": "3.6.5"
  }
 },
 "nbformat": 4,
 "nbformat_minor": 2
}
