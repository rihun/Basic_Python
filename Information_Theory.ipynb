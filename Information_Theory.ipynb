{
  "nbformat": 4,
  "nbformat_minor": 0,
  "metadata": {
    "colab": {
      "name": "Information_Theory.ipynb",
      "private_outputs": true,
      "provenance": [],
      "authorship_tag": "ABX9TyPeMZtFxOZ9wweVd4CBKEvj",
      "include_colab_link": true
    },
    "kernelspec": {
      "name": "python3",
      "display_name": "Python 3"
    },
    "language_info": {
      "name": "python"
    }
  },
  "cells": [
    {
      "cell_type": "markdown",
      "metadata": {
        "id": "view-in-github",
        "colab_type": "text"
      },
      "source": [
        "<a href=\"https://colab.research.google.com/github/rihun/Basic_Python/blob/master/Information_Theory.ipynb\" target=\"_parent\"><img src=\"https://colab.research.google.com/assets/colab-badge.svg\" alt=\"Open In Colab\"/></a>"
      ]
    },
    {
      "cell_type": "code",
      "metadata": {
        "id": "6ZcZPTweqj3k"
      },
      "source": [
        "## Calculate the information to flip a coin\n",
        "from math import log2\n",
        "## Probability of the event\n",
        "p=0.5\n",
        "## Calculate information for event \n",
        "h=-log2(p)\n",
        "print('p(x)=%.3f and information  h(x) in %.3f bits' %(p,h))"
      ],
      "execution_count": null,
      "outputs": []
    },
    {
      "cell_type": "code",
      "metadata": {
        "id": "X8dJo7fDs4PW"
      },
      "source": [
        "## Calculate Probability VS Information Theory\n",
        "from math import log2\n",
        "from matplotlib import pyplot\n",
        "import numpy \n",
        "## list of probabilities \n",
        "probs=[i+0.000001 for i in list(numpy.arange(0, 1, 0.1).tolist())]\n",
        "#probs=[(i/10)+0.000001 for i in range(10)]\n",
        "## finding information gain\n",
        "IG = [-log2(p) for p in probs]\n",
        "\n",
        "print(probs)\n",
        "print(IG)"
      ],
      "execution_count": null,
      "outputs": []
    }
  ]
}