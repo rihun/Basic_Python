{
 "cells": [
  {
   "cell_type": "code",
   "execution_count": 9,
   "metadata": {},
   "outputs": [
    {
     "name": "stdout",
     "output_type": "stream",
     "text": [
      "[(1, 'a'), (2, 'b'), (3, 'c')]\n"
     ]
    }
   ],
   "source": [
    "#zip in python\n",
    "#If you use zip() with n arguments, \n",
    "#then the function will return an iterator \n",
    "#that generates tuples of length n. To see this\n",
    "#in action, take a look at the following code block:\n",
    "#Courtesy:https://realpython.com/python-zip-function/\n",
    "a=[1,2,3,4]\n",
    "b=['a','b','c']\n",
    "c=list(zip(a,b))\n",
    "print(c)"
   ]
  },
  {
   "cell_type": "code",
   "execution_count": 13,
   "metadata": {},
   "outputs": [
    {
     "name": "stdout",
     "output_type": "stream",
     "text": [
      "[(1, 'a', 5), (2, 'b', 6), (3, 'c', 7)]\n",
      "[((1, 'a', 5), 10), ((2, 'b', 6), 11), ((3, 'c', 7), 12)]\n"
     ]
    }
   ],
   "source": [
    "#zip in python\n",
    "#converting data to tuple pair\n",
    "a=[1,2,3,4]\n",
    "b=['a','b','c']\n",
    "c=[5,6,7,8]\n",
    "e=[10,11,12,13]\n",
    "d=list(zip(a,b,c))\n",
    "print(d)\n",
    "f=list(zip(d,e))\n",
    "print(f)"
   ]
  },
  {
   "cell_type": "code",
   "execution_count": 12,
   "metadata": {},
   "outputs": [
    {
     "name": "stdout",
     "output_type": "stream",
     "text": [
      "<zip object at 0x000001EC32002B48>\n",
      "[(0, 0), (1, 1), (2, 2), (3, 3), (4, 4)]\n"
     ]
    }
   ],
   "source": [
    "#Passing Arguments of Unequal Length\n",
    "zipped=zip(range(5),range(10))\n",
    "print(zipped)\n",
    "print(list(zipped))"
   ]
  },
  {
   "cell_type": "code",
   "execution_count": 24,
   "metadata": {},
   "outputs": [
    {
     "name": "stdout",
     "output_type": "stream",
     "text": [
      "[(1, 5, 0), (2, 6, 1), (3, 7, 2), (4, 8, 3)]\n",
      "[(1, 5, 0), (2, 6, 1), (3, 7, 2), (4, 8, 3), (None, None, 4), (None, None, 5), (None, None, 6), (None, None, 7), (None, None, 8), (None, None, 9)]\n"
     ]
    }
   ],
   "source": [
    "#If trailing or unmatched values are important to you,\n",
    "#then you can use itertools.zip_longest() instead of zip().\n",
    "from itertools import zip_longest\n",
    "a=[1,2,3,4]\n",
    "b=[5,6,7,8]\n",
    "c=range(10)\n",
    "#using zip\n",
    "d=zip(a,b,c)\n",
    "print(list(d))\n",
    "#using itertools.zip_longest()\n",
    "d=zip_longest(a,b,c)\n",
    "print(list(d))"
   ]
  },
  {
   "cell_type": "code",
   "execution_count": 34,
   "metadata": {},
   "outputs": [
    {
     "name": "stdout",
     "output_type": "stream",
     "text": [
      "Letter and number = a 0\n",
      "Letter= a\n",
      "Number= 0\n",
      "Letter and number = b 1\n",
      "Letter= b\n",
      "Number= 1\n",
      "Letter and number = c 2\n",
      "Letter= c\n",
      "Number= 2\n"
     ]
    }
   ],
   "source": [
    "#Traversing Lists in Parallel\n",
    "letters = ['a', 'b', 'c']\n",
    "numbers = [0, 1, 2]\n",
    "for i,j in zip(letters,numbers):\n",
    "    print('Letter and number =',i,j)\n",
    "    print('Letter=',i)\n",
    "    print('Number=',j)"
   ]
  },
  {
   "cell_type": "code",
   "execution_count": 37,
   "metadata": {},
   "outputs": [
    {
     "name": "stdout",
     "output_type": "stream",
     "text": [
      "Letter and number  and name= a 0 rihun\n",
      "Letter and number  and name= b 1 lasin\n",
      "Letter and number  and name= c 2 niloy\n"
     ]
    }
   ],
   "source": [
    "#Traversing Lists in Parallel\n",
    "letters = ['a', 'b', 'c']\n",
    "numbers = [0, 1, 2]\n",
    "name=['rihun','lasin','niloy']\n",
    "for i,j,k in zip(letters,numbers,name):\n",
    "    print('Letter and number  and name=',i,j,k)\n",
    "   "
   ]
  },
  {
   "cell_type": "code",
   "execution_count": 50,
   "metadata": {},
   "outputs": [
    {
     "name": "stdout",
     "output_type": "stream",
     "text": [
      "1 ---> ('nahid', 'nahid1')\n",
      "101 ---> ece\n",
      "2 ---> ('rihun', 'rihun1')\n",
      "102 ---> cse\n",
      "3 ---> {'lasin': 'dhaka', 'lasin1': 'dhaka'}\n",
      "103 ---> architecture\n"
     ]
    }
   ],
   "source": [
    "#Accessing  dictionaries  using zip\n",
    "\n",
    "dict1={1:('nahid','nahid1'),2:('rihun','rihun1'),3:{'lasin':'dhaka', 'lasin1':'dhaka'}}\n",
    "dict2={101:'ece',102:'cse',103:'architecture'}\n",
    "\n",
    "for (i1,j1), (i2,j2) in zip(dict1.items(),dict2.items()):\n",
    "    print(i1,'--->',j1)\n",
    "    print(i2,'--->',j2)"
   ]
  },
  {
   "cell_type": "code",
   "execution_count": 58,
   "metadata": {},
   "outputs": [
    {
     "name": "stdout",
     "output_type": "stream",
     "text": [
      "[(1, 'nahid'), (2, 'nahid1'), (3, 'nahid2')]\n",
      "(1, 2, 3)\n",
      "('nahid', 'nahid1', 'nahid2')\n",
      "[1, 2, 3]\n",
      "['nahid', 'nahid1', 'nahid2']\n"
     ]
    }
   ],
   "source": [
    "#Unzipping a Sequence\n",
    "pairs=[(1,'nahid'),(2,'nahid1'),(3,'nahid2')]\n",
    "print(pairs)\n",
    "roll, name=zip(*pairs)\n",
    "print(roll)\n",
    "print(name)\n",
    "print(list(roll))\n",
    "print(list(name))\n"
   ]
  },
  {
   "cell_type": "code",
   "execution_count": 63,
   "metadata": {},
   "outputs": [
    {
     "name": "stdout",
     "output_type": "stream",
     "text": [
      "{'a': 0, 'b': 1, 'c': 2}\n"
     ]
    }
   ],
   "source": [
    "#creating dictinary using zip\n",
    "letters = ['a', 'b', 'c']\n",
    "numbers = [0, 1, 2]\n",
    "a= dict(zip(letters,numbers))\n",
    "print(a)"
   ]
  },
  {
   "cell_type": "code",
   "execution_count": null,
   "metadata": {},
   "outputs": [],
   "source": []
  }
 ],
 "metadata": {
  "kernelspec": {
   "display_name": "Python 3",
   "language": "python",
   "name": "python3"
  },
  "language_info": {
   "codemirror_mode": {
    "name": "ipython",
    "version": 3
   },
   "file_extension": ".py",
   "mimetype": "text/x-python",
   "name": "python",
   "nbconvert_exporter": "python",
   "pygments_lexer": "ipython3",
   "version": "3.6.5"
  }
 },
 "nbformat": 4,
 "nbformat_minor": 2
}
