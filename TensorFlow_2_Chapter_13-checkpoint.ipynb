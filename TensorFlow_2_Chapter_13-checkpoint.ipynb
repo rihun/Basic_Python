{
 "cells": [
  {
   "cell_type": "code",
   "execution_count": null,
   "metadata": {},
   "outputs": [],
   "source": [
    "#calling tensorflow\n",
    "import tensorflow as tf\n",
    "print('TensorFlow version:', tf.__version__)\n",
    "import numpy as np\n",
    "np.set_printoptions(precision=3)"
   ]
  },
  {
   "cell_type": "code",
   "execution_count": 60,
   "metadata": {},
   "outputs": [
    {
     "data": {
      "text/plain": [
       "(3,)"
      ]
     },
     "execution_count": 60,
     "metadata": {},
     "output_type": "execute_result"
    }
   ],
   "source": [
    "#define array\n",
    "a=np.array([ 1, 2, 3], dtype=np.int32)\n",
    "a.shape"
   ]
  },
  {
   "cell_type": "code",
   "execution_count": 61,
   "metadata": {},
   "outputs": [],
   "source": [
    "#define  list\n",
    "b=[ 1, 2, 3]"
   ]
  },
  {
   "cell_type": "code",
   "execution_count": 62,
   "metadata": {},
   "outputs": [
    {
     "name": "stdout",
     "output_type": "stream",
     "text": [
      "tf.Tensor([1 2 3], shape=(3,), dtype=int32)\n",
      "tf.Tensor([1 2 3], shape=(3,), dtype=int32)\n"
     ]
    },
    {
     "data": {
      "text/plain": [
       "(False, True)"
      ]
     },
     "execution_count": 62,
     "metadata": {},
     "output_type": "execute_result"
    }
   ],
   "source": [
    "#convert differet dtatype to tensorflow\n",
    "t_a=tf.convert_to_tensor(a)\n",
    "t_b=tf.convert_to_tensor(b)\n",
    "print(t_a)\n",
    "print(t_b)\n",
    "tf.is_tensor(a),tf.is_tensor(t_a)"
   ]
  },
  {
   "cell_type": "code",
   "execution_count": 63,
   "metadata": {},
   "outputs": [
    {
     "name": "stdout",
     "output_type": "stream",
     "text": [
      "tf.Tensor(\n",
      "[[1. 1. 1.]\n",
      " [1. 1. 1.]\n",
      " [1. 1. 1.]], shape=(3, 3), dtype=float32)\n"
     ]
    },
    {
     "data": {
      "text/plain": [
       "array([[1., 1., 1.],\n",
       "       [1., 1., 1.],\n",
       "       [1., 1., 1.]], dtype=float32)"
      ]
     },
     "execution_count": 63,
     "metadata": {},
     "output_type": "execute_result"
    }
   ],
   "source": [
    "#converting tensor to array\n",
    "t_ones=tf.ones((3,3))\n",
    "print(t_ones)\n",
    "t_ones.shape\n",
    "t_ones.numpy()"
   ]
  },
  {
   "cell_type": "code",
   "execution_count": 32,
   "metadata": {},
   "outputs": [
    {
     "name": "stdout",
     "output_type": "stream",
     "text": [
      "tf.Tensor([1.    3.    3.142], shape=(3,), dtype=float32)\n"
     ]
    }
   ],
   "source": [
    "t_constant=tf.constant([1, 3, np.pi], dtype=tf.float32)\n",
    "print(t_constant)\n"
   ]
  },
  {
   "cell_type": "code",
   "execution_count": 36,
   "metadata": {},
   "outputs": [
    {
     "name": "stdout",
     "output_type": "stream",
     "text": [
      "tf.Tensor([1 2 3], shape=(3,), dtype=int64) (3,)\n"
     ]
    }
   ],
   "source": [
    "#converting tensor to datatype\n",
    "t_a_new=tf.cast(t_a, dtype=tf.int64)\n",
    "print(t_a_new,t_a_new.shape)"
   ]
  },
  {
   "cell_type": "code",
   "execution_count": 39,
   "metadata": {},
   "outputs": [
    {
     "name": "stdout",
     "output_type": "stream",
     "text": [
      "tf.Tensor(\n",
      "[[0.87  0.777 0.032 0.114 0.325]\n",
      " [0.847 0.68  0.757 0.115 0.663]\n",
      " [0.242 0.882 0.845 0.869 0.734]], shape=(3, 5), dtype=float32)\n"
     ]
    }
   ],
   "source": [
    "t_random=tf.random.uniform(shape=(3,5))\n",
    "print(t_random)\n",
    "t_transpose=tf.transpose(t_random)"
   ]
  },
  {
   "cell_type": "code",
   "execution_count": 58,
   "metadata": {},
   "outputs": [
    {
     "name": "stdout",
     "output_type": "stream",
     "text": [
      "tf.Tensor(\n",
      "[[0. 0. 0.]\n",
      " [0. 0. 0.]\n",
      " [0. 0. 0.]\n",
      " [0. 0. 0.]\n",
      " [0. 0. 0.]\n",
      " [0. 0. 0.]\n",
      " [0. 0. 0.]\n",
      " [0. 0. 0.]\n",
      " [0. 0. 0.]\n",
      " [0. 0. 0.]], shape=(10, 3), dtype=float32)\n"
     ]
    },
    {
     "data": {
      "text/plain": [
       "TensorShape([10, 3])"
      ]
     },
     "execution_count": 58,
     "metadata": {},
     "output_type": "execute_result"
    }
   ],
   "source": [
    "#reshape a vectoor using tensor flow\n",
    "t_zeros=tf.zeros((30,))\n",
    "t_reshape=tf.reshape(t_zeros, shape=(10,3))\n",
    "print(t_reshape)\n",
    "t_reshape.shape"
   ]
  },
  {
   "cell_type": "code",
   "execution_count": 57,
   "metadata": {},
   "outputs": [
    {
     "name": "stdout",
     "output_type": "stream",
     "text": [
      "tf.Tensor(\n",
      "[[ -0.426  -1.7    -4.363  27.758   4.735 -10.582]\n",
      " [ -3.154   7.578   0.21   26.559 -25.604   8.59 ]\n",
      " [ 14.312   8.938 -12.756  13.231   9.346   4.858]\n",
      " [ 11.733  16.111 -20.751 -14.644   9.779  12.14 ]\n",
      " [  2.605 -26.972  20.315  -3.325  49.683  32.169]], shape=(5, 6), dtype=float32)\n",
      "[[ -0.426  -1.7    -4.363  27.758   4.735 -10.582]\n",
      " [ -3.154   7.578   0.21   26.559 -25.604   8.59 ]\n",
      " [ 14.312   8.938 -12.756  13.231   9.346   4.858]\n",
      " [ 11.733  16.111 -20.751 -14.644   9.779  12.14 ]\n",
      " [  2.605 -26.972  20.315  -3.325  49.683  32.169]]\n"
     ]
    }
   ],
   "source": [
    "#random number generation and multiplication\n",
    "tf.random.set_seed(1)\n",
    "a_r=tf.random.uniform(shape=(5,6), maxval=8, minval=-2)\n",
    "b_r=tf.random.uniform(shape=(5,6), maxval=12, minval=-10)\n",
    "multi=tf.multiply(a_r, b_r)\n",
    "print(multi)\n",
    "multi1=multi.numpy()\n",
    "print(multi1)"
   ]
  },
  {
   "cell_type": "code",
   "execution_count": 65,
   "metadata": {},
   "outputs": [
    {
     "name": "stdout",
     "output_type": "stream",
     "text": [
      "tf.Tensor([4.335 5.52  4.164 0.735 2.147 2.808], shape=(6,), dtype=float32)\n"
     ]
    }
   ],
   "source": [
    "#mean value  of each column\n",
    "a_r_mean_column=tf.math.reduce_mean(a_r, axis=0)\n",
    "print(a_r_mean)"
   ]
  },
  {
   "cell_type": "code",
   "execution_count": 66,
   "metadata": {},
   "outputs": [
    {
     "name": "stdout",
     "output_type": "stream",
     "text": [
      "tf.Tensor([4.335 5.52  4.164 0.735 2.147 2.808], shape=(6,), dtype=float32)\n"
     ]
    }
   ],
   "source": [
    "#mean value  of each column\n",
    "a_r_mean_row=tf.math.reduce_mean(a_r, axis=1)\n",
    "print(a_r_mean)"
   ]
  },
  {
   "cell_type": "code",
   "execution_count": 70,
   "metadata": {},
   "outputs": [
    {
     "name": "stdout",
     "output_type": "stream",
     "text": [
      "tf.Tensor(\n",
      "[[ 15.423  42.115  23.926  67.652  32.797]\n",
      " [ 64.753  14.179  27.727  58.023 117.85 ]\n",
      " [ -5.419 -13.31   37.93  -20.435  89.325]\n",
      " [-25.076  20.226  21.72   14.368  57.974]\n",
      " [ 14.248   8.142  54.621  22.69   74.477]], shape=(5, 5), dtype=float32)\n"
     ]
    }
   ],
   "source": [
    "# product of two matrix a*b\n",
    "a_product=tf.linalg.matmul(a_r, b_r, transpose_b=True)\n",
    "print(a_product)"
   ]
  },
  {
   "cell_type": "code",
   "execution_count": 74,
   "metadata": {},
   "outputs": [
    {
     "name": "stdout",
     "output_type": "stream",
     "text": [
      "[ 9.687 11.812  9.271 11.56   9.574]\n"
     ]
    }
   ],
   "source": [
    "#finding norm in tensor flow\n",
    "a_norm=tf.norm(a_r, ord=2, axis=1)\n",
    "print(a_norm.numpy())"
   ]
  },
  {
   "cell_type": "code",
   "execution_count": null,
   "metadata": {},
   "outputs": [],
   "source": []
  },
  {
   "cell_type": "code",
   "execution_count": 95,
   "metadata": {},
   "outputs": [
    {
     "data": {
      "text/plain": [
       "[array([[0.485],\n",
       "        [0.841],\n",
       "        [0.948],\n",
       "        [0.201]], dtype=float32), array([[0.761],\n",
       "        [0.626],\n",
       "        [0.896],\n",
       "        [0.175]], dtype=float32), array([[0.771],\n",
       "        [0.608],\n",
       "        [0.621],\n",
       "        [0.781]], dtype=float32)]"
      ]
     },
     "execution_count": 95,
     "metadata": {},
     "output_type": "execute_result"
    }
   ],
   "source": [
    "#split a tensor into matrix \n",
    "a1_t =tf.random.uniform((12,1 ))\n",
    "a2_t = tf.split(a1_t, 3)\n",
    "[item.numpy() for item in a2_t]"
   ]
  },
  {
   "cell_type": "code",
   "execution_count": 103,
   "metadata": {},
   "outputs": [
    {
     "name": "stdout",
     "output_type": "stream",
     "text": [
      "[[1. 1. 1. 1.]\n",
      " [1. 1. 1. 1.]\n",
      " [1. 1. 1. 1.]\n",
      " [1. 1. 1. 1.]\n",
      " [1. 1. 1. 1.]\n",
      " [1. 1. 1. 1.]]\n"
     ]
    }
   ],
   "source": [
    "#concat two tensors\n",
    "a11_t=tf.ones((3,4))\n",
    "a12_t=tf.zeros((3,4))\n",
    "a_concat=tf.concat([a11_t, a11_t], axis=0)\n",
    "print(a_concat.numpy())"
   ]
  },
  {
   "cell_type": "code",
   "execution_count": 13,
   "metadata": {},
   "outputs": [
    {
     "name": "stdout",
     "output_type": "stream",
     "text": [
      "[1.0, 2.0, 3.0, 4.0, 5.0, 6.0]\n"
     ]
    }
   ],
   "source": [
    "#creating a tensorflow dataset from an existing tensor\n",
    "a=[ 1.0, 2.0, 3.0, 4.0, 5.0, 6.0];\n",
    "print(a)\n",
    "ds = tf.data.Dataset.from_tensor_slices(a)\n",
    "#print(ds)"
   ]
  },
  {
   "cell_type": "code",
   "execution_count": null,
   "metadata": {},
   "outputs": [],
   "source": [
    "#print each value of the previous tensorflow\n"
   ]
  }
 ],
 "metadata": {
  "kernelspec": {
   "display_name": "Python 3",
   "language": "python",
   "name": "python3"
  },
  "language_info": {
   "codemirror_mode": {
    "name": "ipython",
    "version": 3
   },
   "file_extension": ".py",
   "mimetype": "text/x-python",
   "name": "python",
   "nbconvert_exporter": "python",
   "pygments_lexer": "ipython3",
   "version": "3.6.5"
  }
 },
 "nbformat": 4,
 "nbformat_minor": 2
}
