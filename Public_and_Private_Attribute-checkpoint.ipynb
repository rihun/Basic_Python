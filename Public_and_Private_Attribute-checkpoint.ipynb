{
 "cells": [
  {
   "cell_type": "code",
   "execution_count": 1,
   "metadata": {},
   "outputs": [],
   "source": [
    "#Python - public, private and protected Access Modifiers\n",
    "#Courtesy: https://www.tutorialsteacher.com/python/private-and-protected-access-modifiers-in-python\n",
    "#Classical object-oriented languages, such as C++ and Java, control the access to \n",
    "#class resources by public, private and protected keywords.\n",
    "#Private members of a class are denied access from the environment outside the \n",
    "#class. They can be handled only from within the class.\n",
    "\n",
    "#Public members (generally methods declared in a class) are accessible from outside the class. \n",
    "#The object of the same class is required to invoke a public method. This arrangement of private\n",
    "#instance variables and public methods ensures the principle of data encapsulation.\n",
    "\n",
    "#Protected members of a class are accessible from within the class and are also available\n",
    "#to its sub-classes. No other environment is permitted access to it. This enables specific\n",
    "#resources of the parent class to be inherited by the child class.\n",
    "\n",
    "#Python doesn't have any mechanism that effectively restricts access \n",
    "#to any instance variable or method. Python prescribes a convention of prefixing \n",
    "#the name of the variable/method with single or double underscore to emulate the behaviour of \n",
    "#protected and private access specifiers.\n",
    "\n"
   ]
  },
  {
   "cell_type": "code",
   "execution_count": 11,
   "metadata": {},
   "outputs": [
    {
     "name": "stdout",
     "output_type": "stream",
     "text": [
      "Kiran\n",
      "10000\n",
      "RIHUN\n",
      "10000\n"
     ]
    }
   ],
   "source": [
    "#Example: Public Attributes\n",
    "#All members in a Python class are public by default. Any member can be accessed from outside the class environment.\n",
    "\n",
    "class Employe:\n",
    "    def __init__(self,name,sal):\n",
    "        self.name=name\n",
    "        self.sal=sal\n",
    "\n",
    "e1=Employe(\"Kiran\",10000)\n",
    "print(e1.name)\n",
    "print(e1.sal)\n",
    "\n",
    "#You can access employe class's attributes and also modify \n",
    "#their values, as shown below.\n",
    "\n",
    "e1.name=\"RIHUN\"\n",
    "print(e1.name)\n",
    "print(e1.sal)\n"
   ]
  },
  {
   "cell_type": "code",
   "execution_count": 18,
   "metadata": {},
   "outputs": [
    {
     "name": "stdout",
     "output_type": "stream",
     "text": [
      "Kiran1\n",
      "10000\n",
      "RIHUN\n",
      "10000\n"
     ]
    }
   ],
   "source": [
    "#Python's convention to make an instance variable protected is to add a prefix _ (single underscore) to it. \n",
    "#This effectively prevents it to be accessed, unless it is from within a sub-class.\n",
    "\n",
    "class Employe1:\n",
    "    def __init__(self,name,sal):\n",
    "        self._name=name\n",
    "        self._sal=sal\n",
    "e1=Employe1(\"Kiran1\",10000)\n",
    "print(e1._name)\n",
    "print(e1._sal)\n",
    "\n",
    "#In fact, this doesn't \n",
    "#prevent instance variables from accessing or modifyingthe instance. \n",
    "#You can still perform the following operations:\n",
    "e1._name=\"RIHUN\"\n",
    "print(e1._name)\n",
    "print(e1._sal)\n",
    "\n",
    "#Hence, the responsible programmer would refrain from accessing \n",
    "#and modifying instance variables prefixed with _ from outside its class."
   ]
  },
  {
   "cell_type": "code",
   "execution_count": 23,
   "metadata": {},
   "outputs": [
    {
     "ename": "AttributeError",
     "evalue": "'Employe2' object has no attribute '__name'",
     "output_type": "error",
     "traceback": [
      "\u001b[1;31m---------------------------------------------------------------------------\u001b[0m",
      "\u001b[1;31mAttributeError\u001b[0m                            Traceback (most recent call last)",
      "\u001b[1;32m<ipython-input-23-02e8751402f6>\u001b[0m in \u001b[0;36m<module>\u001b[1;34m()\u001b[0m\n\u001b[0;32m      5\u001b[0m         \u001b[0mself\u001b[0m\u001b[1;33m.\u001b[0m\u001b[0m__name\u001b[0m\u001b[1;33m=\u001b[0m\u001b[0mname\u001b[0m\u001b[1;33m\u001b[0m\u001b[0m\n\u001b[0;32m      6\u001b[0m \u001b[0me1\u001b[0m\u001b[1;33m=\u001b[0m\u001b[0mEmploye2\u001b[0m\u001b[1;33m(\u001b[0m\u001b[1;34m\"Kiran1\"\u001b[0m\u001b[1;33m,\u001b[0m\u001b[1;36m10000\u001b[0m\u001b[1;33m)\u001b[0m\u001b[1;33m\u001b[0m\u001b[0m\n\u001b[1;32m----> 7\u001b[1;33m \u001b[0mprint\u001b[0m\u001b[1;33m(\u001b[0m\u001b[0me1\u001b[0m\u001b[1;33m.\u001b[0m\u001b[0m__name\u001b[0m\u001b[1;33m)\u001b[0m\u001b[1;33m\u001b[0m\u001b[0m\n\u001b[0m\u001b[0;32m      8\u001b[0m \u001b[0mprint\u001b[0m\u001b[1;33m(\u001b[0m\u001b[0me1\u001b[0m\u001b[1;33m.\u001b[0m\u001b[0m__sal\u001b[0m\u001b[1;33m)\u001b[0m\u001b[1;33m\u001b[0m\u001b[0m\n",
      "\u001b[1;31mAttributeError\u001b[0m: 'Employe2' object has no attribute '__name'"
     ]
    }
   ],
   "source": [
    "#Similarly, a double underscore __ prefixed to a variable makes it private. It gives a strong suggestion not to \n",
    "#touch it from outside the class. Any attempt to do so will result in an AttributeError:\n",
    "class Employe2:\n",
    "    def __init__(self,name,sal):\n",
    "        self.__name=name\n",
    "e1=Employe2(\"Kiran1\",10000)\n",
    "print(e1.__name)\n",
    "print(e1.__sal)\n",
    "\n"
   ]
  },
  {
   "cell_type": "code",
   "execution_count": 24,
   "metadata": {},
   "outputs": [],
   "source": [
    "#Python performs name mangling of private variables. Every member with \n",
    "#double underscore will be changed to _object._class__variable. If so required, \n",
    "#it can still be accessed from outside the class, but the practice should be refrained."
   ]
  },
  {
   "cell_type": "code",
   "execution_count": null,
   "metadata": {},
   "outputs": [],
   "source": []
  }
 ],
 "metadata": {
  "kernelspec": {
   "display_name": "Python 3",
   "language": "python",
   "name": "python3"
  },
  "language_info": {
   "codemirror_mode": {
    "name": "ipython",
    "version": 3
   },
   "file_extension": ".py",
   "mimetype": "text/x-python",
   "name": "python",
   "nbconvert_exporter": "python",
   "pygments_lexer": "ipython3",
   "version": "3.6.5"
  }
 },
 "nbformat": 4,
 "nbformat_minor": 2
}
