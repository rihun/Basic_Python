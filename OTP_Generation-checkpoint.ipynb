{
 "cells": [
  {
   "cell_type": "code",
   "execution_count": 24,
   "metadata": {},
   "outputs": [
    {
     "name": "stdout",
     "output_type": "stream",
     "text": [
      "four digit OTP 519715849079407\n"
     ]
    }
   ],
   "source": [
    "#Example: This code will generate OTP.\n",
    "#Basically it will generate a random number of a predifned digit\n",
    "from random import seed\n",
    "from random import randint\n",
    "import math,random\n",
    "\n",
    "def otp_generator(n):\n",
    "    digits=\"0123456789\"\n",
    "    OTP=\"\"\n",
    "    for i in range(n):\n",
    "        #OTP+=digits(randint(0,9))\n",
    "        OTP+=digits[math.floor(random.random()*10)]\n",
    "        #print(i)\n",
    "    return OTP\n",
    "\n",
    "print('Four digit OTP',otp_generator(15))"
   ]
  },
  {
   "cell_type": "code",
   "execution_count": null,
   "metadata": {},
   "outputs": [],
   "source": []
  }
 ],
 "metadata": {
  "kernelspec": {
   "display_name": "Python 3",
   "language": "python",
   "name": "python3"
  },
  "language_info": {
   "codemirror_mode": {
    "name": "ipython",
    "version": 3
   },
   "file_extension": ".py",
   "mimetype": "text/x-python",
   "name": "python",
   "nbconvert_exporter": "python",
   "pygments_lexer": "ipython3",
   "version": "3.6.5"
  }
 },
 "nbformat": 4,
 "nbformat_minor": 2
}
