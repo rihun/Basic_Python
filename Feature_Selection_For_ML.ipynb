{
  "nbformat": 4,
  "nbformat_minor": 0,
  "metadata": {
    "colab": {
      "name": "Feature_Selection_For_ML.ipynb",
      "private_outputs": true,
      "provenance": [],
      "mount_file_id": "1z1wwyIf0jMDoKwxUf4ekv9dC-nyFmX85",
      "authorship_tag": "ABX9TyPy1DOqW2y+cU7FIpewjCBV",
      "include_colab_link": true
    },
    "kernelspec": {
      "name": "python3",
      "display_name": "Python 3"
    },
    "language_info": {
      "name": "python"
    }
  },
  "cells": [
    {
      "cell_type": "markdown",
      "metadata": {
        "id": "view-in-github",
        "colab_type": "text"
      },
      "source": [
        "<a href=\"https://colab.research.google.com/github/rihun/Basic_Python/blob/master/Feature_Selection_For_ML.ipynb\" target=\"_parent\"><img src=\"https://colab.research.google.com/assets/colab-badge.svg\" alt=\"Open In Colab\"/></a>"
      ]
    },
    {
      "cell_type": "code",
      "metadata": {
        "id": "8qYeJBqeLQqz"
      },
      "source": [
        "#Feature selection for Chi Squared for the Classification\n",
        "import numpy as np\n",
        "import pandas as pd\n",
        "import csv\n",
        "from sklearn.preprocessing import StandardScaler\n",
        "from numpy  import set_printoptions \n",
        "from sklearn.feature_selection import chi2,SelectKBest\n",
        "#data reaad using CSV file\n",
        "#In order to access the CSV file we need to upload data in google drive.\n",
        "#following line is the google drive address of the CSV file.\n",
        "#/content/drive/MyDrive/pima-indians-diabetes.csv\n",
        "names = ['preg', 'plas', 'pres', 'skin', 'test', 'mass', 'pedi', 'age', 'class']\n",
        "pima_data1=pd.read_csv('/content/drive/MyDrive/pima-indians-diabetes.csv', names=names)\n",
        "pima_data11=pd.read_csv('/content/drive/MyDrive/pima-indians-diabetes.csv')\n",
        "array2=pima_data1.values\n",
        "#separate data and label\n",
        "X2=array2[:,0:8]\n",
        "Y2=array2[:,0]\n",
        "test=SelectKBest(score_func=chi2,k=5)\n",
        "#this will return the importance value of features after utilizing chi \n",
        "#square method\n",
        "fit=test.fit(X2,Y2)\n",
        "print(fit.scores_)\n",
        "#feature Extraction using sci square method\n",
        "features=fit.transform(X2)\n",
        "\n",
        "#sort numpy one dimentional array to smaller to larger\n",
        "test1=fit.scores_\n",
        "test_1_sort=np.sort(test1)\n",
        "print(test_1_sort[:])\n",
        "#sort numpy array verctor\n",
        "flip_numpy_vector=np.flip(test_1_sort)\n",
        "print(flip_numpy_vector)\n",
        "\n",
        "\n",
        "#rearrange the original data matrix using the index number after utilizing \n",
        "#the chisquare method\n",
        "#The index value of the array of decending data position\n",
        "index_of_sort_data = np.argsort(test1)\n",
        "print(index_of_sort_data)\n",
        "\n",
        "print(X2.shape[0])\n",
        "new_data=np.empty((X2.shape[0],X2.shape[1]))\n",
        "#print(new_data)\n",
        "j=0;\n",
        "for i in index_of_sort_data:\n",
        "    new_data[:,j]=X2[:,i]\n",
        "    j+=1\n",
        "print(new_data.shape)\n"
      ],
      "execution_count": null,
      "outputs": []
    },
    {
      "cell_type": "code",
      "metadata": {
        "id": "Itb-prBuetf_"
      },
      "source": [
        ""
      ],
      "execution_count": null,
      "outputs": []
    },
    {
      "cell_type": "code",
      "metadata": {
        "id": "R0tNcNvJet5b"
      },
      "source": [
        ""
      ],
      "execution_count": null,
      "outputs": []
    },
    {
      "cell_type": "code",
      "metadata": {
        "id": "uPHYl6yDeuS9"
      },
      "source": [
        ""
      ],
      "execution_count": null,
      "outputs": []
    },
    {
      "cell_type": "code",
      "metadata": {
        "id": "eT5LUeS5cq0L"
      },
      "source": [
        "#Feature selection for Chi Squared for the Classification\n",
        "import numpy as np\n",
        "import pandas as pd\n",
        "import csv\n",
        "#from sklearn.preprocessing import StandardScaler\n",
        "from numpy  import set_printoptions \n",
        "from sklearn.feature_selection import RFE\n",
        "from sklearn.linear_model import LogisticRegression\n",
        "#data reaad using CSV file\n",
        "#In order to access the CSV file we need to upload data in google drive.\n",
        "#following line is the google drive address of the CSV file.\n",
        "#/content/drive/MyDrive/pima-indians-diabetes.csv\n",
        "names = ['preg', 'plas', 'pres', 'skin', 'test', 'mass', 'pedi', 'age', 'class']\n",
        "pima_data1=pd.read_csv('/content/drive/MyDrive/pima-indians-diabetes.csv', names=names)\n",
        "pima_data11=pd.read_csv('/content/drive/MyDrive/pima-indians-diabetes.csv')\n",
        "array2=pima_data1.values\n",
        "#separate data and label\n",
        "X2=array2[:,0:8]\n",
        "Y2=array2[:,0]\n",
        "model=LogisticRegression()\n",
        "rfe=RFE(model,1)\n",
        "fit=rfe.fit(X2,Y2)\n",
        "print(fit.get_support)\n"
      ],
      "execution_count": null,
      "outputs": []
    }
  ]
}