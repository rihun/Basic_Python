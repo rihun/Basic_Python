{
  "nbformat": 4,
  "nbformat_minor": 0,
  "metadata": {
    "colab": {
      "name": "Save_and_Load_Model.ipynb",
      "private_outputs": true,
      "provenance": [],
      "mount_file_id": "15WTKw7JkBo4qJOngIHQbYNf9vseazYNR",
      "authorship_tag": "ABX9TyO+7UVD+dVDmA/dDqqBus97",
      "include_colab_link": true
    },
    "kernelspec": {
      "name": "python3",
      "display_name": "Python 3"
    },
    "language_info": {
      "name": "python"
    }
  },
  "cells": [
    {
      "cell_type": "markdown",
      "metadata": {
        "id": "view-in-github",
        "colab_type": "text"
      },
      "source": [
        "<a href=\"https://colab.research.google.com/github/rihun/Basic_Python/blob/master/Save_and_Load_Model.ipynb\" target=\"_parent\"><img src=\"https://colab.research.google.com/assets/colab-badge.svg\" alt=\"Open In Colab\"/></a>"
      ]
    },
    {
      "cell_type": "code",
      "metadata": {
        "id": "IO52zGNSqCXK"
      },
      "source": [
        "#Save and Load a model using PICKLE\n",
        "import numpy as np\n",
        "import pandas \n",
        "import csv\n",
        "from pandas.plotting import scatter_matrix\n",
        "from matplotlib import pyplot\n",
        "from sklearn.model_selection import train_test_split, KFold, cross_val_score, GridSearchCV\n",
        "from sklearn.metrics import classification_report, confusion_matrix, accuracy_score\n",
        "from sklearn.linear_model import LogisticRegression, Ridge \n",
        "from sklearn.tree import DecisionTreeClassifier\n",
        "from sklearn.ensemble import BaggingClassifier, RandomForestClassifier,AdaBoostClassifier,GradientBoostingClassifier\n",
        "from sklearn.ensemble import VotingClassifier\n",
        "from sklearn.neighbors import KNeighborsClassifier\n",
        "from sklearn.discriminant_analysis import LinearDiscriminantAnalysis\n",
        "from sklearn.naive_bayes import GaussianNB\n",
        "from sklearn.svm import SVC\n",
        "from sklearn.pipeline import Pipeline,FeatureUnion\n",
        "from sklearn.decomposition import  PCA \n",
        "from sklearn.feature_selection import SelectKBest\n",
        "from pickle import dump, load\n",
        "\n",
        "\n",
        "#data reaad using CSV file\n",
        "#In order to access the CSV file we need to upload data in google drive.\n",
        "#following line is the google drive address of the CSV file.\n",
        "#/content/drive/MyDrive/pima-indians-diabetes.csv\n",
        "names = ['preg', 'plas', 'pres', 'skin', 'test', 'mass', 'pedi', 'age', 'class']\n",
        "pima_data1=pandas.read_csv('/content/drive/MyDrive/pima-indians-diabetes.csv', names=names)\n",
        "#pima_data11=pd.read_csv('/content/drive/MyDrive/pima-indians-diabetes.csv')\n",
        "pima_data11=pima_data1.values\n",
        "X=pima_data11[:,0:8]\n",
        "Y=pima_data11[:,8]\n",
        "testsize=0.3\n",
        "seed=7\n",
        "X_train, X_test,  Y_train, Y_test=train_test_split(X,Y,test_size=testsize, random_state=seed)\n",
        "model=RandomForestClassifier()\n",
        "model.fit(X_train,Y_train)\n",
        "##Save model to disk\n",
        "file_name='model_for_use.sav'\n",
        "dump(model, open(file_name,'wb'))\n",
        "\n",
        " ##Load model from disk\n",
        "loaded_model=load(open(file_name,'rb'))\n",
        "result=loaded_model.score(X_test,Y_test)\n",
        "print(result)\n"
      ],
      "execution_count": null,
      "outputs": []
    },
    {
      "cell_type": "code",
      "metadata": {
        "id": "b9LEYxggtAcb"
      },
      "source": [
        "#Save and Load a model using JOBLIB\n",
        "import numpy as np\n",
        "import pandas \n",
        "import csv\n",
        "from pandas.plotting import scatter_matrix\n",
        "from matplotlib import pyplot\n",
        "from sklearn.model_selection import train_test_split, KFold, cross_val_score, GridSearchCV\n",
        "from sklearn.metrics import classification_report, confusion_matrix, accuracy_score\n",
        "from sklearn.linear_model import LogisticRegression, Ridge \n",
        "from sklearn.tree import DecisionTreeClassifier\n",
        "from sklearn.ensemble import BaggingClassifier, RandomForestClassifier,AdaBoostClassifier,GradientBoostingClassifier\n",
        "from sklearn.ensemble import VotingClassifier\n",
        "from sklearn.neighbors import KNeighborsClassifier\n",
        "from sklearn.discriminant_analysis import LinearDiscriminantAnalysis\n",
        "from sklearn.naive_bayes import GaussianNB\n",
        "from sklearn.svm import SVC\n",
        "from sklearn.pipeline import Pipeline,FeatureUnion\n",
        "from sklearn.decomposition import  PCA \n",
        "from sklearn.feature_selection import SelectKBest\n",
        "#from pickle import dump, load\n",
        "from joblib import dump,load\n",
        "\n",
        "\n",
        "#data reaad using CSV file\n",
        "#In order to access the CSV file we need to upload data in google drive.\n",
        "#following line is the google drive address of the CSV file.\n",
        "#/content/drive/MyDrive/pima-indians-diabetes.csv\n",
        "names = ['preg', 'plas', 'pres', 'skin', 'test', 'mass', 'pedi', 'age', 'class']\n",
        "pima_data1=pandas.read_csv('/content/drive/MyDrive/pima-indians-diabetes.csv', names=names)\n",
        "#pima_data11=pd.read_csv('/content/drive/MyDrive/pima-indians-diabetes.csv')\n",
        "pima_data11=pima_data1.values\n",
        "X=pima_data11[:,0:8]\n",
        "Y=pima_data11[:,8]\n",
        "testsize=0.3\n",
        "seed=7\n",
        "X_train, X_test,  Y_train, Y_test=train_test_split(X,Y,test_size=testsize, random_state=seed)\n",
        "model=RandomForestClassifier()\n",
        "model.fit(X_train,Y_train)\n",
        "##Save model to disk\n",
        "file_name1='model_for_use.sav'\n",
        "dump(model, open(file_name,'wb'))\n",
        "\n",
        " ##Load model from disk\n",
        "loaded_model=load(open(file_name1,'rb'))\n",
        "result=loaded_model.score(X_test,Y_test)\n",
        "print(result)"
      ],
      "execution_count": null,
      "outputs": []
    }
  ]
}