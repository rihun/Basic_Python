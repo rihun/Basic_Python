{
  "nbformat": 4,
  "nbformat_minor": 0,
  "metadata": {
    "colab": {
      "name": "Bayes_Theorem_1.ipynb",
      "private_outputs": true,
      "provenance": [],
      "authorship_tag": "ABX9TyPXvPxqU+Ced+r6pY58rbpV",
      "include_colab_link": true
    },
    "kernelspec": {
      "name": "python3",
      "display_name": "Python 3"
    },
    "language_info": {
      "name": "python"
    }
  },
  "cells": [
    {
      "cell_type": "markdown",
      "metadata": {
        "id": "view-in-github",
        "colab_type": "text"
      },
      "source": [
        "<a href=\"https://colab.research.google.com/github/rihun/Basic_Python/blob/master/Bayes_Theorem_1.ipynb\" target=\"_parent\"><img src=\"https://colab.research.google.com/assets/colab-badge.svg\" alt=\"Open In Colab\"/></a>"
      ]
    },
    {
      "cell_type": "code",
      "metadata": {
        "id": "I_MACOemhSiP"
      },
      "source": [
        "import numpy as np\n",
        "import math\n",
        "from matplotlib import pyplot as plt\n",
        "\n",
        "def pdf(x, mu, sigma):\n",
        "  #term1=1/math.sqrt(2*np.pi*sigma)\n",
        "  #term2=np.exp((-1/2)*((x-mu)/sigma)**2)\n",
        "  term1 = 1.0/( math.sqrt(2*np.pi) * sigma )\n",
        "  term2 = np.exp( -0.5 * ( (x-mu)/sigma )**2 )\n",
        "  return term1*term2\n",
        "#generating some sample data\n",
        "x=np.arange(0,100,0.05)\n",
        "\n",
        "pdf1=pdf(x, mu=4, sigma=1)\n",
        "pdf2=pdf(x, mu=10, sigma=1)\n",
        "\n",
        "plt.plot(x,pdf1)\n",
        "plt.plot(x,pdf2)\n",
        "plt.title('Probability Distribution(Likelihoods)')\n",
        "plt.ylabel('P(x)')\n",
        "plt.xlabel('Random Variable(x)')\n",
        "plt.legend(['P(x|w1)~N(4,1)' ,'P(x|w2)~N(10,1)'],loc='upper right')\n",
        "plt.xlim([0,15])\n",
        "plt.ylim([0,.5])\n",
        "plt.show()"
      ],
      "execution_count": null,
      "outputs": []
    },
    {
      "cell_type": "code",
      "metadata": {
        "id": "wRcVpvcL1Gzp"
      },
      "source": [
        "def posterior(likelihood, prior):\n",
        "  \"Calculate the Posterior Probability\"\n",
        "  return likelihood*prior\n",
        "\n",
        "posterior1=posterior(pdf(x, mu=4, sigma=1),prior=0.5)\n",
        "posterior2=posterior(pdf(x, mu=10, sigma=1),prior=0.5)\n",
        "\n",
        "plt.plot(x,posterior1)\n",
        "plt.plot(x,posterior2)\n",
        "plt.title('Posterior Probability')\n",
        "plt.xlabel('Random Variable x')\n",
        "plt.ylabel('Posterior Probability')\n",
        "plt.xlim([0,20])\n",
        "plt.ylim([0,0.35])\n",
        "plt.axvline(7,color='r', alpha=0.8, linestyle=':', linewidth=2)\n",
        "plt.annotate('R1', xy=(4, 0.3), xytext=(4, 0.3))\n",
        "plt.annotate('R2', xy=(10, 0.3), xytext=(10, 0.3))\n",
        "plt.show()"
      ],
      "execution_count": null,
      "outputs": []
    },
    {
      "cell_type": "markdown",
      "metadata": {
        "id": "6GKWuMFQ-FxF"
      },
      "source": [
        ""
      ]
    },
    {
      "cell_type": "code",
      "metadata": {
        "id": "rcoHMhnM-Ljt"
      },
      "source": [
        "mu_1 = 4\n",
        "mu_2 = 10\n",
        "sigma_1_sqr = 1\n",
        "sigma_2_sqr = 2\n",
        "#generate 10 random sample for the class 1 and class 2\n",
        "x_1_samples=sigma_1_sqr**2*np.random.randn(10)+mu_1\n",
        "x_2_samples=sigma_2_sqr**2*np.random.randn(10)+mu_2\n",
        "y=[0 for i in range(10)]\n",
        "plt.scatter(x_1_samples,y)\n",
        "plt.scatter(x_2_samples,y)\n",
        "plt.xlabel('Random Variable x')\n",
        "plt.ylabel('Probability(x)')\n",
        "plt.axvline(7,color='r', alpha=0.8, linestyle=':', linewidth=2)\n",
        "plt.legend(['w_1','w_2'],loc ='upper right')\n",
        "plt.annotate('R1', xy=(4, 0.05), xytext=(4, 0.05))\n",
        "plt.annotate('R2', xy=(10, 0.05), xytext=(10, 0.05))\n",
        "plt.show()"
      ],
      "execution_count": null,
      "outputs": []
    },
    {
      "cell_type": "code",
      "metadata": {
        "id": "VfbkCL3v-G7Z"
      },
      "source": [
        "w1_as_w2,w2_as_w1=0,0\n",
        "for x1,x2 in zip(x_1_samples, x_2_samples):\n",
        "  if x1>=7:\n",
        "    w1_as_w2+=1\n",
        "  if x2<7:\n",
        "    w2_as_w1+=1\n",
        "\n",
        "emperical_error=(w1_as_w2+w2_as_w1)/float(len(x_1_samples)+len( x_2_samples))\n",
        "print('Empirical Error: {}%'.format(emperical_error * 100))\n"
      ],
      "execution_count": null,
      "outputs": []
    }
  ]
}