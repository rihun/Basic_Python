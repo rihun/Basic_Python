{
 "cells": [
  {
   "cell_type": "code",
   "execution_count": 5,
   "metadata": {},
   "outputs": [],
   "source": [
    "#Read an image\n",
    "#https://data-flair.training/blogs/opencv-python-tutorial/\n",
    "#importing opencv\n",
    "import cv2\n",
    "#Reading the image from local disk\n",
    "img = cv2.imread('biden.jpg')\n"
   ]
  },
  {
   "cell_type": "code",
   "execution_count": 7,
   "metadata": {},
   "outputs": [],
   "source": [
    "#Resizing image to small size\n",
    "img = cv2.resize(img,(420,300))\n",
    "#displaying the original image\n",
    "cv2.imshow(\"original image\",img)"
   ]
  },
  {
   "cell_type": "code",
   "execution_count": 8,
   "metadata": {},
   "outputs": [],
   "source": [
    "#displaying the original image\n",
    "cv2.imshow(\"original image\",img)\n",
    "#applying algorithm to blur the image\n",
    "img = cv2.blur(img, ksize = (5, 5))\n",
    "#displaying the blur image\n",
    "cv2.imshow(\"blur image\",img)"
   ]
  },
  {
   "cell_type": "code",
   "execution_count": null,
   "metadata": {},
   "outputs": [],
   "source": []
  }
 ],
 "metadata": {
  "kernelspec": {
   "display_name": "Python 3",
   "language": "python",
   "name": "python3"
  },
  "language_info": {
   "codemirror_mode": {
    "name": "ipython",
    "version": 3
   },
   "file_extension": ".py",
   "mimetype": "text/x-python",
   "name": "python",
   "nbconvert_exporter": "python",
   "pygments_lexer": "ipython3",
   "version": "3.6.5"
  }
 },
 "nbformat": 4,
 "nbformat_minor": 2
}
