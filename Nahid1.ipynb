{
  "nbformat": 4,
  "nbformat_minor": 0,
  "metadata": {
    "colab": {
      "name": "Nahid1.ipynb",
      "private_outputs": true,
      "provenance": [],
      "authorship_tag": "ABX9TyPusuc3aW8tsinO+9BkQG/b",
      "include_colab_link": true
    },
    "kernelspec": {
      "name": "python3",
      "display_name": "Python 3"
    },
    "language_info": {
      "name": "python"
    }
  },
  "cells": [
    {
      "cell_type": "markdown",
      "metadata": {
        "id": "view-in-github",
        "colab_type": "text"
      },
      "source": [
        "<a href=\"https://colab.research.google.com/github/rihun/Basic_Python/blob/master/Nahid1.ipynb\" target=\"_parent\"><img src=\"https://colab.research.google.com/assets/colab-badge.svg\" alt=\"Open In Colab\"/></a>"
      ]
    },
    {
      "cell_type": "code",
      "metadata": {
        "id": "wRcVpvcL1Gzp"
      },
      "source": [
        "import numpy as np\n",
        "import numpy as np\n",
        "import math\n",
        "from matplotlib import pyplot as plt\n",
        "\n",
        "def pdf(x, mu, sigma):\n",
        "  term1 = 1.0/( math.sqrt(2*np.pi) * sigma )\n",
        "  term2 = np.exp( -0.5 * ( (x-mu)/sigma )**2 )\n",
        "  return term1*term2\n",
        "\n",
        "# generating some sample data\n",
        "x = np.arange(0, 100, 0.05)\n",
        "\n",
        "# probability density functions\n",
        "pdf1 = pdf(x, mu=4, sigma=1)\n",
        "pdf2 = pdf(x, mu=10, sigma=1)\n",
        "\n",
        "# Class conditional densities (likelihoods)\n",
        "plt.plot(x, pdf1)\n",
        "plt.plot(x, pdf2)\n",
        "plt.title('Class conditional densities (likelihoods)')\n",
        "plt.ylabel('p(x)')\n",
        "plt.xlabel('random variable x')\n",
        "plt.legend(['p(x|w_1) ~ N(4,1)', 'p(x|w_2) ~ N(10,1)'], loc='upper right')\n",
        "plt.ylim([0,0.5])\n",
        "plt.xlim([0,20])\n",
        "plt.show()"
      ],
      "execution_count": null,
      "outputs": []
    }
  ]
}