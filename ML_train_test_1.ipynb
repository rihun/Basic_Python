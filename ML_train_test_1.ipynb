{
  "nbformat": 4,
  "nbformat_minor": 0,
  "metadata": {
    "colab": {
      "name": "ML_train_test_1.ipynb",
      "private_outputs": true,
      "provenance": [],
      "mount_file_id": "1LTb1O4z6VE9xb7TmjETHRxO_OIDBLLzh",
      "authorship_tag": "ABX9TyM9+gIftbzcvK2mLYzHfYDt",
      "include_colab_link": true
    },
    "kernelspec": {
      "name": "python3",
      "display_name": "Python 3"
    },
    "language_info": {
      "name": "python"
    }
  },
  "cells": [
    {
      "cell_type": "markdown",
      "metadata": {
        "id": "view-in-github",
        "colab_type": "text"
      },
      "source": [
        "<a href=\"https://colab.research.google.com/github/rihun/Basic_Python/blob/master/ML_train_test_1.ipynb\" target=\"_parent\"><img src=\"https://colab.research.google.com/assets/colab-badge.svg\" alt=\"Open In Colab\"/></a>"
      ]
    },
    {
      "cell_type": "code",
      "metadata": {
        "id": "9yphr84feyv5"
      },
      "source": [
        "#Feature selection for Chi Squared for the Classification\n",
        "import numpy as np\n",
        "import pandas as pd\n",
        "import csv\n",
        "from sklearn.preprocessing import StandardScaler\n",
        "from numpy  import set_printoptions \n",
        "from sklearn.feature_selection import chi2,SelectKBest\n",
        "from sklearn.model_selection import train_test_split\n",
        "from sklearn.linear_model import LogisticRegression\n",
        "test_size=0.5\n",
        "seed=7\n",
        "#data reaad using CSV file\n",
        "#In order to access the CSV file we need to upload data in google drive.\n",
        "#following line is the google drive address of the CSV file.\n",
        "#/content/drive/MyDrive/pima-indians-diabetes.csv\n",
        "names = ['preg', 'plas', 'pres', 'skin', 'test', 'mass', 'pedi', 'age', 'class']\n",
        "pima_data1=pd.read_csv('/content/drive/MyDrive/pima-indians-diabetes.csv', names=names)\n",
        "#pima_data11=pd.read_csv('/content/drive/MyDrive/pima-indians-diabetes.csv')\n",
        "array2=pima_data1.values\n",
        "#separate data and label\n",
        "X2=array2[:,0:8]\n",
        "Y2=array2[:,0]\n",
        "X_train, X_test, Y_train, Y_test=train_test_split(X2,Y2,test_size=test_size, random_state=seed)\n",
        "model =LogisticRegression()\n",
        "model.fit(X_train,Y_train)\n",
        "result=model.score(X_test,Y_test)\n",
        "print(result*100)"
      ],
      "execution_count": null,
      "outputs": []
    }
  ]
}