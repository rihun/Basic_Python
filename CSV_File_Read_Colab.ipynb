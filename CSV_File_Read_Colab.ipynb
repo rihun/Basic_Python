{
  "nbformat": 4,
  "nbformat_minor": 0,
  "metadata": {
    "colab": {
      "name": "CSV_File_Read_Colab.ipynb",
      "private_outputs": true,
      "provenance": [],
      "mount_file_id": "15CvbjC_IBG0pnNPgC_6n8fCuVX4qqrZt",
      "authorship_tag": "ABX9TyP7bpXzedzVkgahHbVXs0kB",
      "include_colab_link": true
    },
    "kernelspec": {
      "name": "python3",
      "display_name": "Python 3"
    },
    "language_info": {
      "name": "python"
    }
  },
  "cells": [
    {
      "cell_type": "markdown",
      "metadata": {
        "id": "view-in-github",
        "colab_type": "text"
      },
      "source": [
        "<a href=\"https://colab.research.google.com/github/rihun/Basic_Python/blob/master/CSV_File_Read_Colab.ipynb\" target=\"_parent\"><img src=\"https://colab.research.google.com/assets/colab-badge.svg\" alt=\"Open In Colab\"/></a>"
      ]
    },
    {
      "cell_type": "code",
      "metadata": {
        "id": "OhrVIEXx2CmB"
      },
      "source": [
        "import scipy\n",
        "import numpy as np\n",
        "import matplotlib\n",
        "import pandas\n",
        "import sklearn  \n",
        "\n",
        "#print('{}'.format(scipy.__version__))\n",
        "#print('{}'.format(np.__version__))\n",
        "#print('{}'.format(sklearn.__version__))\n",
        "\n",
        "#learning String\n",
        "data='Hallo Word'\n",
        "print(data[0])\n",
        "print(len(data))\n",
        "print(data)\n",
        "#learning Number\n",
        "value=123.5\n",
        "print(value)\n",
        "value=2\n",
        "print(value)\n",
        "\n",
        "#Bolean Number\n",
        "a=True\n",
        "b=False\n",
        "print((a,b))"
      ],
      "execution_count": null,
      "outputs": []
    },
    {
      "cell_type": "code",
      "metadata": {
        "id": "yuR85In8L8m4"
      },
      "source": [
        ""
      ],
      "execution_count": null,
      "outputs": []
    },
    {
      "cell_type": "markdown",
      "metadata": {
        "id": "jGk8-eE4MAn_"
      },
      "source": [
        ""
      ]
    },
    {
      "cell_type": "code",
      "metadata": {
        "id": "bMrqArL-MBr0"
      },
      "source": [
        "#Numpy Example\n",
        "import numpy as np\n",
        "mylist=[1,2,3,4]\n",
        "print(mylist)\n",
        "mylist1=np.array(mylist)\n",
        "print(mylist1)\n",
        "mylist2=np.array([[1, 2 ,3, 4],[1, 2, 3,4]])\n",
        "print(mylist2)\n",
        "print(mylist2.shape)\n",
        "\n",
        "#numpy array\n",
        "\n",
        "a1=np.array([1,2,3])\n",
        "a2=np.array([3,2,1])\n",
        "a3=a1+a2\n",
        "a4=a2*a3\n",
        "print(a3)\n",
        "print(a4)"
      ],
      "execution_count": null,
      "outputs": []
    },
    {
      "cell_type": "code",
      "metadata": {
        "id": "B3hpT05pUa74"
      },
      "source": [
        "#Pandas Crash Course\n",
        "import numpy as np\n",
        "import pandas as pd\n",
        "array1=np.array([[1, 2, 3],[3,4,5],[8,9,10]])\n",
        "row_names=['a','b','c']\n",
        "column_names=['first','second','fourth']\n",
        "#print(row_names)\n",
        "mydataframe=pd.DataFrame(array1,index=row_names,columns=column_names)\n",
        "print(myseries)\n",
        "print(mydataframe['first'])\n",
        "\n",
        "\n"
      ],
      "execution_count": null,
      "outputs": []
    },
    {
      "cell_type": "code",
      "metadata": {
        "id": "k3qTApUBXUeW"
      },
      "source": [
        "import numpy as np\n",
        "import pandas as pd\n",
        "import csv\n",
        "#data reaad using CSV file\n",
        "#In order to access the CSV file we need to upload data in google drive.\n",
        "#following line is the google drive address of the CSV file.\n",
        "#/content/drive/MyDrive/pima-indians-diabetes.csv\n",
        "names = ['preg', 'plas', 'pres', 'skin', 'test', 'mass', 'pedi', 'age', 'class']\n",
        "pima_data1=pd.read_csv('/content/drive/MyDrive/pima-indians-diabetes.csv', names=names)\n",
        "pima_data11=pd.read_csv('/content/drive/MyDrive/pima-indians-diabetes.csv')\n",
        "#converting all data to NUMPY\n",
        "pima_data2=np.array(pima_data1)\n",
        "print(pima_data1.shape)\n",
        "#read only first 20 data from \n",
        "peak1=pima_data1.head(20)\n",
        "#convert the data of first 20 data to numpy\n",
        "pima_data3=np.array(peak1)\n",
        "#print(peak1)\n",
        "#print(pima_data3)\n",
        "print(pima_data1.shape)\n",
        "print(pima_data1.dtypes)\n",
        "\n",
        "#read first 10 columns using np array\n",
        "pima_data_first20=pima_data2[:20,0:-1]\n",
        "print(pima_data_first20)\n",
        "#finding the skew values \n",
        "skew = pima_data1.skew()\n",
        "print(skew)\n"
      ],
      "execution_count": null,
      "outputs": []
    },
    {
      "cell_type": "code",
      "metadata": {
        "id": "u6EXDuXkLwTT"
      },
      "source": [
        "import numpy as np\n",
        "import pandas as pd\n",
        "import csv\n",
        "#data reaad using CSV file\n",
        "#In order to access the CSV file we need to upload data in google drive.\n",
        "#following line is the google drive address of the CSV file.\n",
        "#/content/drive/MyDrive/pima-indians-diabetes.csv\n",
        "names = ['preg', 'plas', 'pres', 'skin', 'test', 'mass', 'pedi', 'age', 'class']\n",
        "pima_data1=pd.read_csv('/content/drive/MyDrive/pima-indians-diabetes.csv', names=names)\n",
        "pima_data11=pd.read_csv('/content/drive/MyDrive/pima-indians-diabetes.csv')\n",
        "print(pima_data1.shape)\n",
        "#converting the data to numpy array\n",
        "pima_to_array=np.array(pima_data11)\n",
        "print(pima_to_array)\n",
        "#selecting all elements of first columnfrom the array\n",
        "first_column=pima_to_array[0:-1,0]\n",
        "print(first_column.shape)\n",
        "\n",
        "#selecting all elements of first and then all alternative  columns from the array\n",
        "alternate_column=pima_to_array[0:-1,0:-1:2]\n",
        "print(alternate_column.shape)\n"
      ],
      "execution_count": null,
      "outputs": []
    },
    {
      "cell_type": "code",
      "metadata": {
        "id": "gEA96yg6q1UF"
      },
      "source": [
        "import numpy as np\n",
        "import pandas as pd\n",
        "from pandas import set_option \n",
        "import csv\n",
        "#data reaad using CSV file\n",
        "#In order to access the CSV file we need to upload data in google drive.\n",
        "#following line is the google drive address of the CSV file.\n",
        "#/content/drive/MyDrive/pima-indians-diabetes.csv\n",
        "names = ['preg', 'plas', 'pres', 'skin', 'test', 'mass', 'pedi', 'age', 'class']\n",
        "pima_data1=pd.read_csv('/content/drive/MyDrive/pima-indians-diabetes.csv', names=names)\n",
        "pima_data11=pd.read_csv('/content/drive/MyDrive/pima-indians-diabetes.csv')\n",
        "print(pima_data1.shape)\n",
        "set_option('display.width', 100)\n",
        "set_option('precision', 3)\n",
        "correlations=pima_data1.corr(method='pearson')\n",
        "print(correlations)"
      ],
      "execution_count": null,
      "outputs": []
    },
    {
      "cell_type": "code",
      "metadata": {
        "id": "hpL7va2PszSi"
      },
      "source": [
        "#Distribution Visualisation\n",
        "import numpy as np\n",
        "import pandas as pd\n",
        "from pandas import set_option \n",
        "import csv\n",
        "from matplotlib import pyplot \n",
        "#data reaad using CSV file\n",
        "#In order to access the CSV file we need to upload data in google drive.\n",
        "#following line is the google drive address of the CSV file.\n",
        "#/content/drive/MyDrive/pima-indians-diabetes.csv\n",
        "names = ['preg', 'plas', 'pres', 'skin', 'test', 'mass', 'pedi', 'age', 'class']\n",
        "pima_data1=pd.read_csv('/content/drive/MyDrive/pima-indians-diabetes.csv', names=names)\n",
        "pima_data11=pd.read_csv('/content/drive/MyDrive/pima-indians-diabetes.csv')\n",
        "pima_data1.hist()\n",
        "pyplot.show()"
      ],
      "execution_count": null,
      "outputs": []
    },
    {
      "cell_type": "code",
      "metadata": {
        "id": "_-dxAIZOtoHB"
      },
      "source": [
        "#Univariet Density Visualization \n",
        "import numpy as np\n",
        "import pandas as pd\n",
        "from pandas import set_option \n",
        "import csv\n",
        "from matplotlib import pyplot \n",
        "#data reaad using CSV file\n",
        "#In order to access the CSV file we need to upload data in google drive.\n",
        "#following line is the google drive address of the CSV file.\n",
        "#/content/drive/MyDrive/pima-indians-diabetes.csv\n",
        "names = ['preg', 'plas', 'pres', 'skin', 'test', 'mass', 'pedi', 'age', 'class']\n",
        "pima_data1=pd.read_csv('/content/drive/MyDrive/pima-indians-diabetes.csv', names=names)\n",
        "pima_data11=pd.read_csv('/content/drive/MyDrive/pima-indians-diabetes.csv')\n",
        "pima_data1.plot(kind='density',subplots=True,layout=(3,3),sharex=False)\n",
        "pyplot.show()"
      ],
      "execution_count": null,
      "outputs": []
    },
    {
      "cell_type": "code",
      "metadata": {
        "id": "JPYlt-hovI3h"
      },
      "source": [
        "#Box and Whisker\n",
        "import numpy as np\n",
        "import pandas as pd\n",
        "from pandas import set_option \n",
        "import csv\n",
        "from matplotlib import pyplot \n",
        "#data reaad using CSV file\n",
        "#In order to access the CSV file we need to upload data in google drive.\n",
        "#following line is the google drive address of the CSV file.\n",
        "#/content/drive/MyDrive/pima-indians-diabetes.csv\n",
        "names = ['preg', 'plas', 'pres', 'skin', 'test', 'mass', 'pedi', 'age', 'class']\n",
        "pima_data1=pd.read_csv('/content/drive/MyDrive/pima-indians-diabetes.csv', names=names)\n",
        "pima_data11=pd.read_csv('/content/drive/MyDrive/pima-indians-diabetes.csv')\n",
        "pima_data1.plot(kind='box',subplots=True,layout=(3,3),sharex=False)\n",
        "pyplot.show()\n"
      ],
      "execution_count": null,
      "outputs": []
    },
    {
      "cell_type": "code",
      "metadata": {
        "id": "t2OxWwlSvw1y"
      },
      "source": [
        "#Correlation Plot\n",
        "import numpy as np\n",
        "import pandas as pd\n",
        "from pandas import set_option \n",
        "import csv\n",
        "from matplotlib import pyplot \n",
        "#data reaad using CSV file\n",
        "#In order to access the CSV file we need to upload data in google drive.\n",
        "#following line is the google drive address of the CSV file.\n",
        "#/content/drive/MyDrive/pima-indians-diabetes.csv\n",
        "names = ['preg', 'plas', 'pres', 'skin', 'test', 'mass', 'pedi', 'age', 'class']\n",
        "pima_data1=pd.read_csv('/content/drive/MyDrive/pima-indians-diabetes.csv', names=names)\n",
        "pima_data11=pd.read_csv('/content/drive/MyDrive/pima-indians-diabetes.csv')\n",
        "correlation=pima_data1.corr()\n",
        "fig=pyplot.figure()\n",
        "ax=fig.add_subplot(111)\n",
        "cax=ax.matshow(correlation, vmin=-1,vmax=1)\n",
        "fig.colorbar(cax)\n",
        "ticks=np.arange(0,9,1)\n",
        "ax.set_xticks(ticks)\n",
        "ax.set_yticks(ticks)\n",
        "#ax.set_xlabel(names)\n",
        "#ax.set_ylabel(names)\n",
        "ax.set_xticklabels(names)\n",
        "ax.set_yticklabels(names)\n",
        "pyplot.show()\n"
      ],
      "execution_count": null,
      "outputs": []
    },
    {
      "cell_type": "code",
      "metadata": {
        "id": "mf6i0a2f5L4d"
      },
      "source": [
        ""
      ],
      "execution_count": null,
      "outputs": []
    }
  ]
}