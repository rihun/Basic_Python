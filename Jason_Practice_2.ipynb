{
  "nbformat": 4,
  "nbformat_minor": 0,
  "metadata": {
    "colab": {
      "name": "Jason_Practice_2.ipynb",
      "private_outputs": true,
      "provenance": [],
      "authorship_tag": "ABX9TyNfgNBzlVkh+JIFzy7iIZMJ",
      "include_colab_link": true
    },
    "kernelspec": {
      "name": "python3",
      "display_name": "Python 3"
    },
    "language_info": {
      "name": "python"
    }
  },
  "cells": [
    {
      "cell_type": "markdown",
      "metadata": {
        "id": "view-in-github",
        "colab_type": "text"
      },
      "source": [
        "<a href=\"https://colab.research.google.com/github/rihun/Basic_Python/blob/master/Jason_Practice_2.ipynb\" target=\"_parent\"><img src=\"https://colab.research.google.com/assets/colab-badge.svg\" alt=\"Open In Colab\"/></a>"
      ]
    },
    {
      "cell_type": "code",
      "metadata": {
        "id": "LsnBB8_P8Khz"
      },
      "source": [
        "#@title Default title text\n",
        "import numpy as np\n",
        "import scipy\n",
        "import matplotlib\n",
        "import pandas\n",
        "\n",
        "#use of if and else statement\n",
        "innitial_value=75\n",
        "\n",
        "if innitial_value>75:\n",
        "  print ('Number is very large')\n",
        "elif innitial_value<75:\n",
        "  print ('Number is small')\n",
        "else:\n",
        "  print ('Number is equal')\n",
        "\n",
        "# Use of For loop\n",
        "for i in range(10):\n",
        "  print(i)\n",
        "\n",
        "#use of While loop\n",
        "\n",
        "value1=12\n",
        "\n",
        "while value1<20:\n",
        "  print (value1)\n",
        "  value1+=1\n",
        "\n",
        "#Use of Tuple\n",
        "\n",
        "aa=(1,2,3)\n",
        "print (aa)\n",
        "\n",
        "#use of list\n",
        "list1=[ 1, 2, 3]\n",
        "print(list1[0])\n",
        "print(list1[-1])\n",
        "\n",
        "#adding new value in the list\n",
        "list1.append(5)\n",
        "print(len(list1))\n",
        "\n",
        "#print value from the list\n",
        "\n",
        "for lis in (list1):\n",
        "  print(lis)\n",
        "\n",
        "\n",
        "#Use of Dictionary\n",
        "dictionary={'a':1,'b':2,'c':7}\n",
        "print(dictionary['a'])\n",
        "print(dictionary['c'])\n",
        "\n",
        "#adding data in diction\n",
        "dictionary['a']=5\n",
        "\n",
        "#print(dictionray.values())\n",
        "for dict1 in dictionary.keys():\n",
        "  print (dictionary[dict1])\n",
        "\n",
        "#function Practice\n",
        "\n",
        "def myfunction(a,b):\n",
        "  a=a+10\n",
        "  b=b+10\n",
        "  return a+b\n",
        "\n",
        "result=myfunction(3,4)\n",
        "print(result)"
      ],
      "execution_count": null,
      "outputs": []
    }
  ]
}