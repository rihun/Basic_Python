{
 "cells": [
  {
   "cell_type": "code",
   "execution_count": 8,
   "metadata": {},
   "outputs": [
    {
     "name": "stdout",
     "output_type": "stream",
     "text": [
      "Alian Move the gear to 4\n",
      "Alian is stopping\n",
      "Alian is running again\n"
     ]
    }
   ],
   "source": [
    "#Method Overriding\n",
    "#In overriding technique, you forcefully change any particular method of parent class inside the child class.\n",
    "\n",
    "class Vehicle:\n",
    "    #Docstring\n",
    "    \"\"\"This is the base class or mother calss for all the child class\"\"\"\n",
    "    def __init__(self,name,manufacturer,color):\n",
    "        self.name=name\n",
    "        self.manufacturer=manufacturer\n",
    "        self.color=color\n",
    "    \n",
    "    def drive(self):\n",
    "        print('Driving',self.manufacturer,self.name)\n",
    "    \n",
    "    def turn(self, direction):\n",
    "        print('Turning self name ', 'to', direction)\n",
    "    \n",
    "    def brake(self):\n",
    "        print(self.name,'is stopping')\n",
    "#Child class\n",
    "class Car(Vehicle):\n",
    "    def __init__(self,name,manufacturer,color):\n",
    "        self.name=name\n",
    "        self.manufacturer=manufacturer\n",
    "        self.color=color\n",
    "    #Declaring my own method\n",
    "    def change_gear(self,gear_name):\n",
    "        \"\"\"Method for the changing gear\"\"\"\n",
    "        self.gear_name=gear_name\n",
    "        print(self.name,'Move the gear to',self.gear_name)\n",
    "    #Practicing Overriding\n",
    "    def brake(self):\n",
    "        print(self.name,'is stopping')\n",
    "        print(self.name,'is running again')\n",
    "        \n",
    "\n",
    "v1=Car('Alian','Toyota','Red')\n",
    "v1.change_gear(4)\n",
    "v1.brake()\n",
    "    "
   ]
  },
  {
   "cell_type": "code",
   "execution_count": 19,
   "metadata": {},
   "outputs": [
    {
     "name": "stdout",
     "output_type": "stream",
     "text": [
      "My School Name is SET\n",
      "My Building Name is 1\n",
      "My School Name is SET\n",
      "My Building Name is 1\n",
      "My department nameis ECE\n"
     ]
    }
   ],
   "source": [
    "#https://www.python-course.eu/python3_inheritance.php\n",
    "#Practicing of method overriding\n",
    "\n",
    "class Khulna_University:\n",
    "    \"\"\"This is the Mother class\"\"\"\n",
    "    def __init__(self,school_name,building_name):\n",
    "        self.school_name=school_name\n",
    "        self.building_name=building_name\n",
    "    def print1(self):\n",
    "        print('My School Name is',self.school_name)\n",
    "        print('My Building Name is',self.building_name)\n",
    "\n",
    "#Declaring child classs\n",
    "class Department(Khulna_University):\n",
    "    \"\"\"This is the Mother class\"\"\"\n",
    "    def __init__(self,school_name,building_name,department_name):\n",
    "        self.school_name=school_name\n",
    "        self.building_name=building_name\n",
    "        self.department_name=department_name\n",
    "    def print1(self):\n",
    "        print('My School Name is',self.school_name)\n",
    "        print('My Building Name is',self.building_name)\n",
    "        print('My department nameis',self.department_name)\n",
    "d1=Khulna_University('SET',1)\n",
    "d1.print1()\n",
    "d2=Department('SET',1,'ECE')\n",
    "d2.print1()\n",
    "        \n",
    "        "
   ]
  },
  {
   "cell_type": "code",
   "execution_count": null,
   "metadata": {},
   "outputs": [],
   "source": []
  }
 ],
 "metadata": {
  "kernelspec": {
   "display_name": "Python 3",
   "language": "python",
   "name": "python3"
  },
  "language_info": {
   "codemirror_mode": {
    "name": "ipython",
    "version": 3
   },
   "file_extension": ".py",
   "mimetype": "text/x-python",
   "name": "python",
   "nbconvert_exporter": "python",
   "pygments_lexer": "ipython3",
   "version": "3.6.5"
  }
 },
 "nbformat": 4,
 "nbformat_minor": 2
}
