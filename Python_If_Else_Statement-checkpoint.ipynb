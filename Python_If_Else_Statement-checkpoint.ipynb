{
 "cells": [
  {
   "cell_type": "code",
   "execution_count": 10,
   "metadata": {},
   "outputs": [
    {
     "name": "stdout",
     "output_type": "stream",
     "text": [
      "Print B is a small number than the A \n"
     ]
    }
   ],
   "source": [
    "#If----Else statement \n",
    "#EQUAL A == B\n",
    "#Not EQUAl A~=B\n",
    "#lESS Than A<B\n",
    "#GREATER Than A.B\n",
    "#LESS Than Equal to A<=B\n",
    "#GREATER Than Equal to A>=B\n",
    "\n",
    "a= 1300\n",
    "b= 500\n",
    "if a>b:\n",
    "    print(\"Print B is a small number than the A \")    "
   ]
  },
  {
   "cell_type": "code",
   "execution_count": 13,
   "metadata": {},
   "outputs": [
    {
     "name": "stdout",
     "output_type": "stream",
     "text": [
      "Print A is a small number than the A \n"
     ]
    }
   ],
   "source": [
    "#If----Else statement \n",
    "a= 300\n",
    "b= 500\n",
    "if a>b:\n",
    "    print(\"Print B is a small number than the A \")  \n",
    "else:\n",
    "    print(\"Print A is a small number than the A \")  "
   ]
  },
  {
   "cell_type": "code",
   "execution_count": 20,
   "metadata": {},
   "outputs": [],
   "source": [
    "#If----Elif statement \n",
    "a= 300\n",
    "b= 500\n",
    "if a>b:\n",
    "    print(a)  \n",
    "elif a==b:\n",
    "    print(\"Print A is a small number than the A \")  "
   ]
  },
  {
   "cell_type": "code",
   "execution_count": 22,
   "metadata": {},
   "outputs": [
    {
     "name": "stdout",
     "output_type": "stream",
     "text": [
      "500\n"
     ]
    }
   ],
   "source": [
    "#One line if else statement:\n",
    "a= 300\n",
    "b= 500\n",
    "print(a) if a>b else print(b)\n"
   ]
  },
  {
   "cell_type": "code",
   "execution_count": 27,
   "metadata": {},
   "outputs": [
    {
     "name": "stdout",
     "output_type": "stream",
     "text": [
      "300\n"
     ]
    }
   ],
   "source": [
    "# or operation with if statement\n",
    "a= 300\n",
    "b= 500\n",
    "c=67\n",
    "if a>b or a>c:\n",
    "    print(a)\n",
    "else:\n",
    "    print(c)"
   ]
  },
  {
   "cell_type": "code",
   "execution_count": 28,
   "metadata": {},
   "outputs": [
    {
     "name": "stdout",
     "output_type": "stream",
     "text": [
      "67\n"
     ]
    }
   ],
   "source": [
    "# and operation with if statement\n",
    "a= 300\n",
    "b= 500\n",
    "c=67\n",
    "if a>b and a>c:\n",
    "    print(a)\n",
    "else:\n",
    "    print(c)"
   ]
  },
  {
   "cell_type": "code",
   "execution_count": 43,
   "metadata": {},
   "outputs": [
    {
     "name": "stdout",
     "output_type": "stream",
     "text": [
      "Above Ten\n",
      " is less than \n"
     ]
    }
   ],
   "source": [
    "#Nested If Operation\n",
    "a=10\n",
    "b=20\n",
    "if a>5:\n",
    "    print(\"Above Ten\")\n",
    "    if a>100:\n",
    "     print(\" is greater than \")\n",
    "    else:\n",
    "     print(\" is less than \")\n",
    "    "
   ]
  },
  {
   "cell_type": "code",
   "execution_count": null,
   "metadata": {},
   "outputs": [],
   "source": []
  }
 ],
 "metadata": {
  "kernelspec": {
   "display_name": "Python 3",
   "language": "python",
   "name": "python3"
  },
  "language_info": {
   "codemirror_mode": {
    "name": "ipython",
    "version": 3
   },
   "file_extension": ".py",
   "mimetype": "text/x-python",
   "name": "python",
   "nbconvert_exporter": "python",
   "pygments_lexer": "ipython3",
   "version": "3.6.5"
  }
 },
 "nbformat": 4,
 "nbformat_minor": 2
}
