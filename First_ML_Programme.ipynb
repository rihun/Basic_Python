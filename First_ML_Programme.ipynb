{
  "nbformat": 4,
  "nbformat_minor": 0,
  "metadata": {
    "colab": {
      "name": "First_ML_Programme.ipynb",
      "private_outputs": true,
      "provenance": [],
      "mount_file_id": "1Q4zde-2UWrwcD8zx5W0ITDVOXm-X1Ykp",
      "authorship_tag": "ABX9TyNpsKXLDoXFIWl38D0qpaJK",
      "include_colab_link": true
    },
    "kernelspec": {
      "name": "python3",
      "display_name": "Python 3"
    },
    "language_info": {
      "name": "python"
    }
  },
  "cells": [
    {
      "cell_type": "markdown",
      "metadata": {
        "id": "view-in-github",
        "colab_type": "text"
      },
      "source": [
        "<a href=\"https://colab.research.google.com/github/rihun/Basic_Python/blob/master/First_ML_Programme.ipynb\" target=\"_parent\"><img src=\"https://colab.research.google.com/assets/colab-badge.svg\" alt=\"Open In Colab\"/></a>"
      ]
    },
    {
      "cell_type": "code",
      "metadata": {
        "id": "Qyf2j7xyNUGc"
      },
      "source": [
        "#First Machine Learning Algorithm for Practice\n",
        "import numpy as np\n",
        "import pandas \n",
        "import csv\n",
        "from pandas.plotting import scatter_matrix\n",
        "from matplotlib import pyplot\n",
        "from sklearn.model_selection import train_test_split, KFold, cross_val_score\n",
        "from sklearn.metrics import classification_report, confusion_matrix, accuracy_score\n",
        "from sklearn.linear_model import LogisticRegression\n",
        "from sklearn.tree import DecisionTreeClassifier\n",
        "from sklearn.neighbors import KNeighborsClassifier\n",
        "from sklearn.discriminant_analysis import LinearDiscriminantAnalysis\n",
        "from sklearn.naive_bayes import GaussianNB\n",
        "from sklearn.svm import SVC\n",
        "\n",
        "## import data from the google drive\n",
        "## data reaad using CSV file\n",
        "## In order to access the CSV file we need to upload data in google drive.\n",
        "## following line is the google drive address of the CSV file.\n",
        "#/content/drive/MyDrive/iris.csv\n",
        "names = ['sepal_length', 'sepal_width', 'petal_length', 'petal_width', 'class']\n",
        "iris_data1=pandas.read_csv('/content/drive/MyDrive/iris.csv', names=names)\n",
        "#iris_data11=pd.read_csv('/content/drive/MyDrive/iris.csv')\n",
        "#print(iris_data1.values)\n",
        "#print('Data Shape',iris_data1.shape) #finding shape of the data\n",
        "#print('Print_First_5_Rows',iris_data1.head(5)) #print first five rows\n",
        "#print('data_describe',iris_data1.describe()) # #print statistical information\n",
        "#print(iris_data1.groupby('class').size()) #Finding the data class distribution\n",
        "\n",
        "## Data Visualization\n",
        "## Univariate Plot\n",
        "## Box and Whisker plot of the data\n",
        "#iris_data1.plot(kind='box', subplots=True, layout=(2,2), sharex=False, sharey=True)\n",
        "#pyplot.show()\n",
        "\n",
        "## Histogram Plot\n",
        "#iris_data1.hist()\n",
        "#pyplot.show()\n",
        "\n",
        "## Multivariate Plot \n",
        "## Finding the interaction Between Variables\n",
        "#scatter_matrix(iris_data1)\n",
        "#pyplot.show()\n",
        "\n",
        "## Evaluate Some Machine Learning Algorithms\n",
        "## Train Test Splitting\n",
        "X=iris_data1.values[:,0:4]\n",
        "Y=iris_data1.values[:,4]\n",
        "testsize=0.3\n",
        "seed=7\n",
        "X_train, X_test, Y_train, Y_test=train_test_split(X, Y, test_size=testsize, random_state=None)\n",
        "## K-Fold Validation\n",
        "## Evaluate Few Algorithms performances on IRIS Dataset \n",
        "## Declare a list and put all the model in a list name model\n",
        "\n",
        "model=[]\n",
        "#model.append(('LR',LogisticRegression()))\n",
        "model.append(('LDA',LinearDiscriminantAnalysis()))\n",
        "model.append(('KNN',KNeighborsClassifier()))\n",
        "model.append(('DT',DecisionTreeClassifier()))\n",
        "model.append(('NB',GaussianNB()))\n",
        "model.append(('SVM',SVC()))\n",
        "results=[]\n",
        "names=[]\n",
        "\n",
        "for name, model in model:\n",
        "    kfold=KFold(n_splits=10, random_state=None)\n",
        "    cv_results=cross_val_score(model,X_train,Y_train,cv=kfold,scoring='accuracy')\n",
        "    results.append(cv_results)\n",
        "    names.append(name)\n",
        "    msg=\"%s: %f (%f)\",(names, cv_results.mean(),cv_results.std())\n",
        "    print(msg)\n",
        "\n",
        "## Select the best model\n",
        "\n",
        "fig=pyplot.figure()\n",
        "fig.suptitle('Algorithm Comparison')\n",
        "ax=fig.add_subplot(111)\n",
        "pyplot.boxplot(results)\n",
        "ax.set_xticklabels(names)\n",
        "pyplot.show()\n"
      ],
      "execution_count": null,
      "outputs": []
    },
    {
      "cell_type": "code",
      "metadata": {
        "id": "QGPyeq0DN17t"
      },
      "source": [
        ""
      ],
      "execution_count": null,
      "outputs": []
    }
  ]
}