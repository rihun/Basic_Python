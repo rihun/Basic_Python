{
 "cells": [
  {
   "cell_type": "code",
   "execution_count": 2,
   "metadata": {},
   "outputs": [],
   "source": [
    "import tensorflow as tf\n",
    "import numpy as np\n",
    "import pandas as pd\n",
    "import matplotlib.pyplot as plt "
   ]
  },
  {
   "cell_type": "code",
   "execution_count": 3,
   "metadata": {},
   "outputs": [
    {
     "name": "stdout",
     "output_type": "stream",
     "text": [
      "value of z= 1\r\n"
     ]
    }
   ],
   "source": [
    "#How tensorFlow 2 Works\n",
    "a=tf.constant(1, name='a')\n",
    "b=tf.constant(2,name='b')\n",
    "c=tf.constant(3,name='c')\n",
    "\n",
    "z=2*(a-b)+c\n",
    "tf.print('value of z=', z)"
   ]
  },
  {
   "cell_type": "code",
   "execution_count": 4,
   "metadata": {},
   "outputs": [
    {
     "name": "stdout",
     "output_type": "stream",
     "text": [
      "scalar Input 1\n",
      "Rank 1 Input [1]\n",
      "Rank 1 Input [[1]]\n"
     ]
    }
   ],
   "source": [
    "#writing a simple function\n",
    "def compute_z(a,b,c):\n",
    "    r1=tf.subtract(a,b)\n",
    "    r2=tf.multiply(r1,2)\n",
    "    z=tf.add(r2,c)\n",
    "    return z\n",
    "tf.print('scalar Input', compute_z(1,2,3) )\n",
    "tf.print('Rank 1 Input', compute_z([1],[2],[3]))\n",
    "tf.print('Rank 1 Input', compute_z([[1]],[[2]],[[3]]))\n"
   ]
  },
  {
   "cell_type": "code",
   "execution_count": 5,
   "metadata": {},
   "outputs": [
    {
     "name": "stdout",
     "output_type": "stream",
     "text": [
      "scalar Input 1\n",
      "Rank 1 Input [1]\n",
      "Rank 1 Input [[1]]\n"
     ]
    }
   ],
   "source": [
    "#Improve computational performance\n",
    "@tf.function\n",
    "def compute_z(a,b,c):\n",
    "    r1=tf.subtract(a,b)\n",
    "    r2=tf.multiply(r1,2)\n",
    "    z=tf.add(r2,c)\n",
    "    return z\n",
    "tf.print('scalar Input', compute_z(1,2,3) )\n",
    "tf.print('Rank 1 Input', compute_z([1],[2],[3]))\n",
    "tf.print('Rank 1 Input', compute_z([[1]],[[2]],[[3]]))\n"
   ]
  },
  {
   "cell_type": "code",
   "execution_count": 6,
   "metadata": {},
   "outputs": [
    {
     "name": "stdout",
     "output_type": "stream",
     "text": [
      "<tf.Variable 'var_a:0' shape=() dtype=float32, numpy=3.14>\n",
      "<tf.Variable 'Var_a1:0' shape=(3, 1) dtype=float32, numpy=\n",
      "array([[4.],\n",
      "       [5.],\n",
      "       [6.]], dtype=float32)>\n",
      "<tf.Variable 'var_b:0' shape=(3,) dtype=int32, numpy=array([1, 2, 3])>\n",
      "<tf.Variable 'Variable:0' shape=(2,) dtype=bool, numpy=array([ True, False])>\n",
      "<tf.Variable 'Variable:0' shape=(1,) dtype=string, numpy=array([b'abc'], dtype=object)>\n"
     ]
    }
   ],
   "source": [
    "a = tf.Variable(initial_value=3.14, name='var_a')\n",
    "a1 = tf.Variable(initial_value=[[4.0],  [5.0], [6.0]] , name='Var_a1')\n",
    "b = tf.Variable(initial_value=[1, 2, 3], name='var_b')\n",
    "c = tf.Variable(initial_value=[True, False], dtype=tf.bool)\n",
    "d = tf.Variable(initial_value=['abc'], dtype=tf.string)\n",
    "#c= tf.Variable(initial_value=[True, False], dtype=tf.bool)\n",
    "#b=tf.Variable(innitial_value=4, name='Var_a')\n",
    "print(a)\n",
    "print(a1)\n",
    "print(b)\n",
    "print(c)\n",
    "print(d)"
   ]
  },
  {
   "cell_type": "code",
   "execution_count": 7,
   "metadata": {},
   "outputs": [
    {
     "name": "stdout",
     "output_type": "stream",
     "text": [
      "False\n",
      "<tf.Variable 'UnreadVariable' shape=(3,) dtype=int32, numpy=array([4, 5, 6])>\n",
      "<tf.Variable 'UnreadVariable' shape=(3,) dtype=int32, numpy=array([3, 4, 5])>\n"
     ]
    }
   ],
   "source": [
    "w = tf.Variable([1, 2, 3], trainable=False)\n",
    "print(w.trainable)\n",
    "print(w.assign([4 ,5 ,6]))\n",
    "print(w.assign_add([-1,-1,-1]))"
   ]
  },
  {
   "cell_type": "code",
   "execution_count": 8,
   "metadata": {},
   "outputs": [
    {
     "name": "stdout",
     "output_type": "stream",
     "text": [
      "[[-0.473180979 0.66419071 0.16484718 -0.377978295]\n",
      " [0.603934884 0.163220823 0.155975774 -0.236283198]\n",
      " [0.0255276598 -0.218964398 0.153315023 0.511174679]\n",
      " ...\n",
      " [0.118219726 0.61401552 0.291277617 0.463060886]\n",
      " [0.549251318 0.288313091 -0.178285316 -0.0622321218]\n",
      " [0.472307205 -0.23225975 -0.134441838 -0.847846389]]\r\n"
     ]
    }
   ],
   "source": [
    "tf.random.set_seed(1)\n",
    "init = tf.keras.initializers.GlorotNormal()\n",
    "tf.print(init(shape=(10,4)))"
   ]
  },
  {
   "cell_type": "raw",
   "metadata": {},
   "source": []
  },
  {
   "cell_type": "code",
   "execution_count": 9,
   "metadata": {},
   "outputs": [
    {
     "name": "stdout",
     "output_type": "stream",
     "text": [
      "All Module Variables:  []\n",
      "Trainable variable:    []\n"
     ]
    }
   ],
   "source": [
    "class MyModule(tf.Module):\n",
    "    def _init_(self):\n",
    "        init=tf.keras.initializers.GlorotNormal()\n",
    "        self.w1=tf.Variable(init(shape=(4,4)),trainable=True)\n",
    "        self.w2=tf.Variable(init(shape=(4,4)),trainable=False)\n",
    "    \n",
    "m = MyModule() \n",
    "print('All Module Variables: ', [v.shape for v in m.variables] )\n",
    "print('Trainable variable:   ', [v.shape for v in\n",
    "                                 m.trainable_variables])"
   ]
  },
  {
   "cell_type": "code",
   "execution_count": 10,
   "metadata": {},
   "outputs": [
    {
     "name": "stdout",
     "output_type": "stream",
     "text": [
      "All module variables:  [TensorShape([2, 3]), TensorShape([1, 2])]\n",
      "Trainable variable:    [TensorShape([2, 3])]\n"
     ]
    }
   ],
   "source": [
    "class MyModule(tf.Module):\n",
    "    def __init__(self):\n",
    "        init = tf.keras.initializers.GlorotNormal()\n",
    "        self.w1 = tf.Variable(init(shape=(2, 3)), trainable=True)\n",
    "        self.w2 = tf.Variable(init(shape=(1, 2)), trainable=False)\n",
    "                \n",
    "m = MyModule()\n",
    "print('All module variables: ', [v.shape for v in m.variables])\n",
    "print('Trainable variable:   ', [v.shape for v in\n",
    "                                 m.trainable_variables])\n",
    "\n",
    "\n"
   ]
  },
  {
   "cell_type": "code",
   "execution_count": 19,
   "metadata": {},
   "outputs": [
    {
     "name": "stdout",
     "output_type": "stream",
     "text": [
      "tf.Tensor(\n",
      "[[3.8610158]\n",
      " [2.9459305]\n",
      " [3.8262901]], shape=(3, 1), dtype=float32)\n"
     ]
    }
   ],
   "source": [
    "tf.random.set_seed(1)\n",
    "w=tf.Variable(tf.random.uniform((3,3)))\n",
    "\n",
    "@tf.function\n",
    "def computer_1(x):\n",
    "    return tf.matmul(w,x)\n",
    "\n",
    "x=tf.constant([[1] ,[2] ,[3]], dtype=tf.float32)\n",
    "print(computer_1(x))"
   ]
  },
  {
   "cell_type": "code",
   "execution_count": 49,
   "metadata": {},
   "outputs": [
    {
     "name": "stdout",
     "output_type": "stream",
     "text": [
      "True True\n",
      "[<tf.Tensor: id=651, shape=(), dtype=float32, numpy=7.2799997>, <tf.Tensor: id=644, shape=(), dtype=float32, numpy=5.2>]\n"
     ]
    }
   ],
   "source": [
    "#compute Gradient with loss with respect to trainable variable\n",
    "\n",
    "w=tf.Variable(3.0)\n",
    "b=tf.Variable(0.5)\n",
    "print(w.trainable, b.trainable)\n",
    "\n",
    "x=tf.convert_to_tensor([1.4])\n",
    "y=tf.convert_to_tensor([2.1])\n",
    "with tf.GradientTape() as tape:\n",
    "    z=tf.add(tf.multiply(w,x),b)\n",
    "    loss=tf.reduce_sum(tf.square(z-y))\n",
    "    dloss_dw=tape.gradient(loss,[w ,b])\n",
    "\n",
    "print(dloss_dw)\n"
   ]
  },
  {
   "cell_type": "code",
   "execution_count": 54,
   "metadata": {},
   "outputs": [
    {
     "name": "stdout",
     "output_type": "stream",
     "text": [
      "dL/dx: [15.5999994]\r\n"
     ]
    }
   ],
   "source": [
    "with tf.GradientTape() as tape:\n",
    "    tape.watch(x)\n",
    "    z=tf.add(tf.multiply(w,x),b)\n",
    "    loss= tf.square(y-z) \n",
    "    dloss_dx=tape.gradient(loss,x)\n",
    "tf.print('dL/dx:', dloss_dx)"
   ]
  },
  {
   "cell_type": "code",
   "execution_count": 74,
   "metadata": {},
   "outputs": [
    {
     "name": "stdout",
     "output_type": "stream",
     "text": [
      "dl/dw: 5.2\n",
      "dl/db: 5.2\n"
     ]
    }
   ],
   "source": [
    "with tf.GradientTape(persistent=True) as tape:\n",
    "      z = tf.add(tf.multiply(w,x),b)\n",
    "      loss=tf.reduce_sum(tf.square(y - z))\n",
    "dloss_dw=tape.gradient(loss,  w)\n",
    "dloss_dw=tape.gradient(loss, b)\n",
    "tf.print('dl/dw:', dloss_dw)\n",
    "tf.print('dl/db:', dloss_db)"
   ]
  },
  {
   "cell_type": "code",
   "execution_count": 72,
   "metadata": {},
   "outputs": [
    {
     "name": "stdout",
     "output_type": "stream",
     "text": [
      "dL/dw: 7.27999973\n",
      "dL/db: 5.2\n"
     ]
    }
   ],
   "source": [
    "with tf.GradientTape(persistent=True) as tape:\n",
    "    z = tf.add(tf.multiply(w, x), b)\n",
    "    loss = tf.reduce_sum(tf.square(y - z))\n",
    "\n",
    "dloss_dw = tape.gradient(loss, w)\n",
    "dloss_db = tape.gradient(loss, b)\n",
    "\n",
    "tf.print('dL/dw:', dloss_dw)\n",
    "tf.print('dL/db:', dloss_db)"
   ]
  },
  {
   "cell_type": "code",
   "execution_count": null,
   "metadata": {},
   "outputs": [],
   "source": []
  }
 ],
 "metadata": {
  "kernelspec": {
   "display_name": "Python 3",
   "language": "python",
   "name": "python3"
  }
 },
 "nbformat": 4,
 "nbformat_minor": 2
}
